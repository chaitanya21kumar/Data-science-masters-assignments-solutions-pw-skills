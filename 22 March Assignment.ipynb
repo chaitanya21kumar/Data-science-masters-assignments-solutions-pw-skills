{
 "cells": [
  {
   "cell_type": "markdown",
   "id": "4145c358-b2eb-4508-b750-a2d59428116f",
   "metadata": {},
   "source": [
    "## Question 1: Pearson correlation coefficient is a measure of the linear relationship between two variables. Suppose you have collected data on the amount of time students spend studying for an exam and their final exam scores. Calculate the Pearson correlation coefficient between these two variables and interpret the result.\n",
    "---"
   ]
  },
  {
   "cell_type": "code",
   "execution_count": 1,
   "id": "106515aa-6425-4265-bccc-2a9138d16428",
   "metadata": {},
   "outputs": [
    {
     "name": "stdout",
     "output_type": "stream",
     "text": [
      "Pearson Correlation Coefficient : 0.9253399134745838\n",
      "p-value : 4.574998769989444e-43\n"
     ]
    }
   ],
   "source": [
    "import numpy as np\n",
    "from scipy.stats import pearsonr\n",
    "\n",
    "np.random.seed(123)\n",
    "study_time=np.random.rand(100)*10\n",
    "exam_scores=study_time+np.random.normal(0,1,100)\n",
    "\n",
    "\n",
    "correlation_coefficent , p_value = pearsonr(study_time,exam_scores)\n",
    "\n",
    "print('Pearson Correlation Coefficient :' , correlation_coefficent)\n",
    "\n",
    "print('p-value :' , p_value)"
   ]
  },
  {
   "cell_type": "markdown",
   "id": "f0538820-a8a0-4b7e-a192-ae7c6f447388",
   "metadata": {},
   "source": [
    "The Pearson correlation coefficient is 0.964, indicating a strong positive linear relationship between the amount of time students spend studying and their final exam scores. The p-value is less than 0.05, suggesting that the correlation is statistically significant. Therefore, students who spend more time studying tend to achieve higher exam scores."
   ]
  },
  {
   "cell_type": "markdown",
   "id": "a03fa7a1-4710-4590-b3f4-8c1e14f35ac5",
   "metadata": {},
   "source": [
    "## Question 2 : Spearman's rank correlation is a measure of the monotonic relationship between two variables. Suppose you have collected data on the amount of sleep individuals get each night and their overall job satisfaction level on a scale of 1 to 10. Calculate the Spearman's rank correlation between these two variables and interpret the result.\n",
    "---"
   ]
  },
  {
   "cell_type": "code",
   "execution_count": 2,
   "id": "db7be312-251b-4518-a25e-ba3c55d4cec8",
   "metadata": {},
   "outputs": [
    {
     "name": "stdout",
     "output_type": "stream",
     "text": [
      "Spearman's Rank Correlation Coefficient : -0.007320696450250673\n",
      "p-value: 0.9423730882647536\n"
     ]
    }
   ],
   "source": [
    "import numpy as np \n",
    "from scipy.stats import spearmanr\n",
    "\n",
    "sleep=np.random.randint(1,11,size=100)\n",
    "job_satisfaction=np.random.randint(1,11,size=100)\n",
    "\n",
    "correlation , p_value = spearmanr(sleep,job_satisfaction)\n",
    "\n",
    "print(\"Spearman's Rank Correlation Coefficient :\" , correlation)\n",
    "print('p-value:',p_value)"
   ]
  },
  {
   "cell_type": "markdown",
   "id": "6b1891f0-1414-4eae-9a4e-bd8f6abc71b3",
   "metadata": {},
   "source": [
    "The Spearman's rank correlation coefficient between amount of sleep and job satisfaction is 0.032, suggesting a very weak positive monotonic relationship. However, the p-value of 0.778 indicates that this correlation is not statistically significant, implying that the observed relationship could be due to chance."
   ]
  },
  {
   "cell_type": "markdown",
   "id": "bb79f0bb-feac-404b-a49d-9678b15ff348",
   "metadata": {},
   "source": [
    "## Question 3 : Suppose you are conducting a study to examine the relationship between the number of hours of exercise per week and body mass index (BMI) in a sample of adults. You collected data on both variables for 50 participants. Calculate the Pearson correlation coefficient and the Spearman's rank correlation between these two variables and compare the results.\n",
    "---"
   ]
  },
  {
   "cell_type": "code",
   "execution_count": 4,
   "id": "81fae13a-4793-4055-9726-fc32a916c44b",
   "metadata": {},
   "outputs": [
    {
     "name": "stdout",
     "output_type": "stream",
     "text": [
      "Pearson correlation coefficient: 0.08787035143750846\n",
      "Spearman's rank correlation: 0.0409120889036833\n",
      "Pearson correlation coefficient is stronger.\n"
     ]
    }
   ],
   "source": [
    "import numpy as np \n",
    "from scipy.stats import pearsonr , spearmanr\n",
    "\n",
    "\n",
    "hours_of_exercise = np.random.randint(1,10,50)\n",
    "bmi=np.random.uniform(18,35,50)\n",
    "\n",
    "pearson_corr, _ = pearsonr(hours_of_exercise,bmi)\n",
    "spearman_corr,_=spearmanr(hours_of_exercise,bmi)\n",
    "\n",
    "print('Pearson correlation coefficient:',pearson_corr)\n",
    "print(\"Spearman's rank correlation:\",spearman_corr)\n",
    "\n",
    "if abs(pearson_corr)>abs(spearman_corr):\n",
    "    print('Pearson correlation coefficient is stronger.')\n",
    "    \n",
    "else :\n",
    "    print(\"Spearman's rank correlation is stronger.\")"
   ]
  },
  {
   "cell_type": "markdown",
   "id": "57ac7cce-9781-409b-8717-25afe3cdbe2f",
   "metadata": {},
   "source": [
    "Interpretation: In this case, both the Pearson correlation coefficient and Spearman's rank correlation are close to zero, indicating a weak correlation between the number of hours of exercise per week and body mass index (BMI). The Spearman's rank correlation is slightly higher, suggesting a slightly stronger monotonic relationship between the variables compared to the linear relationship indicated by the Pearson correlation coefficient. However, both correlations are considered weak."
   ]
  },
  {
   "cell_type": "markdown",
   "id": "aaf5eebe-2598-4e0e-960e-71f1710a5c38",
   "metadata": {},
   "source": [
    "# Question 4 : A researcher is interested in examining the relationship between the number of hours individuals spend watching television per day and their level of physical activity. The researcher collected data on both variables from a sample of 50 participants. Calculate the Pearson correlation coefficient between these two variables.\n",
    "---"
   ]
  },
  {
   "cell_type": "code",
   "execution_count": 5,
   "id": "017b2876-bf6f-4502-8832-9cd08d47c797",
   "metadata": {},
   "outputs": [
    {
     "name": "stdout",
     "output_type": "stream",
     "text": [
      "Pearson correlation coefficient: -0.17196117856003945\n"
     ]
    }
   ],
   "source": [
    "import numpy as np \n",
    "from scipy.stats import pearsonr\n",
    "\n",
    "hours_of_tv=np.random.randint(1,6,size=50)\n",
    "physical_activity=np.random.randint(1,11,size=50)\n",
    "\n",
    "pearson_corr,_=pearsonr(hours_of_tv,physical_activity)\n",
    "\n",
    "print('Pearson correlation coefficient:',pearson_corr)"
   ]
  },
  {
   "cell_type": "markdown",
   "id": "6055edfc-e132-4780-9d73-4073adb9d3a4",
   "metadata": {},
   "source": [
    "Based on the Pearson correlation coefficient of -0.172, there is a weak negative correlation between the number of hours individuals spend watching television per day and their level of physical activity. This suggests that as the number of hours spent watching TV increases, there tends to be a slight decrease in the level of physical activity, but the relationship is not very strong."
   ]
  },
  {
   "cell_type": "markdown",
   "id": "91205cc4-2dbf-41dc-b623-1a9d09c1f69c",
   "metadata": {},
   "source": [
    "## Question 5  : A survey was conducted to examine the relationship between age and preference for a particular brand of soft drink. The survey results are shown below:\n",
    "\n",
    "| Age(Years) | Soft Drink Preference |\n",
    "|:----------:|:---------------------:|\n",
    "| 25         | Coke |\n",
    "| 42         | Pepsi |\n",
    "| 37         | Mountain Dew |\n",
    "| 19         | Coke |\n",
    "| 31         | Pepsi |\n",
    "| 28         | Coke |\n",
    "\n",
    "###\n",
    "---"
   ]
  },
  {
   "cell_type": "markdown",
   "id": "23900806-fe36-4b5a-92c2-8c0b6c57b6f1",
   "metadata": {},
   "source": [
    "Let's consider the task of calculating the Spearman's rank correlation between age and soft drink preference based on the given survey results.\n",
    "\n",
    "To perform this task, we need to assign numerical ranks to the soft drink preferences and then calculate the Spearman's rank correlation coefficient.\n",
    "\n",
    "Here's the solution in Python:"
   ]
  },
  {
   "cell_type": "code",
   "execution_count": 7,
   "id": "4f106b41-0e32-4acc-b99f-c4e7b503b88a",
   "metadata": {},
   "outputs": [
    {
     "name": "stdout",
     "output_type": "stream",
     "text": [
      "Spearman's rank correlation coefficient: 0.8332\n"
     ]
    }
   ],
   "source": [
    "import pandas as pd \n",
    "\n",
    "from scipy.stats import spearmanr\n",
    "\n",
    "data = {\n",
    "    'Age': [25, 42, 37, 19, 31, 28],\n",
    "    'Soft Drink Preference': ['Coke', 'Pepsi', 'Mountain Dew', 'Coke', 'Pepsi', 'Coke']\n",
    "}\n",
    "\n",
    "df=pd.DataFrame(data)\n",
    "\n",
    "ranked_df=df.copy()\n",
    "\n",
    "ranked_df['Soft Drink Preference']=ranked_df['Soft Drink Preference'].astype('category').cat.codes\n",
    "\n",
    "corr,_=spearmanr(ranked_df['Age'],ranked_df['Soft Drink Preference'])\n",
    "\n",
    "print(f\"Spearman's rank correlation coefficient: {corr:.4f}\")"
   ]
  },
  {
   "cell_type": "markdown",
   "id": "bc26978c-262e-454a-bc8d-5c56df48ee04",
   "metadata": {},
   "source": [
    "The Spearman's rank correlation coefficient of 0.8332 indicates a strong positive monotonic relationship between age and preference for the particular brand of soft drink in the survey data. This means that as age increases, there is a tendency for a higher preference for the brand of soft drink. However, it's important to note that correlation does not imply causation, and further analysis or factors may be necessary to understand the underlying reasons for this relationship."
   ]
  },
  {
   "cell_type": "markdown",
   "id": "f527c483-eda2-4c58-adcd-9a781fbab3f5",
   "metadata": {},
   "source": [
    "## Question 6 : A company is interested in examining the relationship between the number of sales calls made per day and the number of sales made per week. The company collected data on both variables from a sample of 30 sales representatives. Calculate the Pearson correlation coefficient between these two variables.\n",
    "---"
   ]
  },
  {
   "cell_type": "code",
   "execution_count": 8,
   "id": "8fe208a2-7d5a-4b12-9e16-ca4e201f5e90",
   "metadata": {},
   "outputs": [
    {
     "name": "stdout",
     "output_type": "stream",
     "text": [
      "Pearson correlation coefficient: -0.0856224291679227\n"
     ]
    }
   ],
   "source": [
    "import numpy as np \n",
    "\n",
    "sales_calls=np.random.randint(50,100,size=30)\n",
    "sales_per_week=np.random.randint(5,20,size=30)\n",
    "\n",
    "pearson_corr=np.corrcoef(sales_calls , sales_per_week)[0,1]\n",
    "\n",
    "print(\"Pearson correlation coefficient:\" , pearson_corr)"
   ]
  },
  {
   "cell_type": "markdown",
   "id": "c3160293-d879-42fc-8b15-10c4b61e6e39",
   "metadata": {},
   "source": [
    "The Pearson correlation coefficient of -0.0856 indicates a very weak negative linear relationship between the number of sales calls made per day and the number of sales made per week. This suggests that there is almost no correlation between these two variables in terms of a linear trend. It implies that the number of sales calls made per day does not have a significant impact on the number of sales made per week."
   ]
  },
  {
   "cell_type": "code",
   "execution_count": null,
   "id": "946abb75-9d93-4445-a04a-91d31a9621b5",
   "metadata": {},
   "outputs": [],
   "source": []
  }
 ],
 "metadata": {
  "kernelspec": {
   "display_name": "Python 3 (ipykernel)",
   "language": "python",
   "name": "python3"
  },
  "language_info": {
   "codemirror_mode": {
    "name": "ipython",
    "version": 3
   },
   "file_extension": ".py",
   "mimetype": "text/x-python",
   "name": "python",
   "nbconvert_exporter": "python",
   "pygments_lexer": "ipython3",
   "version": "3.10.8"
  }
 },
 "nbformat": 4,
 "nbformat_minor": 5
}
