{
 "cells": [
  {
   "cell_type": "markdown",
   "id": "1e1b48b9-ab11-46f4-a4f9-ffd048c4ca93",
   "metadata": {},
   "source": [
    "## Question 1 : What is the difference between a t-test and a z-test? Provide an example scenario where you would use each type of test.\n",
    "---"
   ]
  },
  {
   "cell_type": "markdown",
   "id": "7da97dff-58ad-4afa-b48f-92f8256335b3",
   "metadata": {},
   "source": [
    "|             | T-Test                                           | Z-Test                                                    |\n",
    "|-------------|--------------------------------------------------|-----------------------------------------------------------|\n",
    "| Population  | Population standard deviation is unknown          | Population standard deviation is known                     |\n",
    "| Sample Size | Small (typically less than 30)                   | Large (typically greater than 30)                          |\n",
    "| Assumption  | Sample follows a normal distribution              | Sample follows a normal distribution                       |\n",
    "| Example     | Determining if there is a significant difference | Assessing if the average height of a sample of 100 adults   |\n",
    "|             | in mean scores of two groups with different       | differs significantly from the known average height of the |\n",
    "|             | teaching methods.                                | population.                                               |\n"
   ]
  },
  {
   "cell_type": "markdown",
   "id": "47aa80b2-46b8-417a-91b8-2e4cb56e031b",
   "metadata": {},
   "source": [
    "## Question 2 : Differentiate between one-tailed and two-tailed tests.\n",
    "---"
   ]
  },
  {
   "cell_type": "markdown",
   "id": "24f9e2ba-3bab-4418-886d-4653ea227bae",
   "metadata": {},
   "source": [
    "|                    | One-Tailed Test                                          | Two-Tailed Test                                                |\n",
    "|--------------------|----------------------------------------------------------|---------------------------------------------------------------|\n",
    "| Hypothesis         | Tests the directionality of the effect or relationship    | Tests the presence or absence of an effect or relationship     |\n",
    "| Critical Region    | Located on one side of the distribution                  | Located on both sides of the distribution                     |\n",
    "| Rejection Region   | One rejection region in the tail of the distribution     | Two rejection regions split between the tails of the          |\n",
    "|                    |                                                          | distribution                                                  |\n",
    "| P-value Interpretation | Compares the observed p-value with the specified        | Compares the observed p-value with the specified significance |\n",
    "|                    | significance level                                       | level                                                         |\n",
    "| Example Scenario   | Investigating if a new treatment increases the mean      | Examining if a new teaching method has a different impact on   |\n",
    "|                    | test scores compared to the current method (one-sided)   | test scores compared to the current method (two-sided)         |\n"
   ]
  },
  {
   "cell_type": "markdown",
   "id": "ee7b499c-330d-489a-960c-3702f5fee1c1",
   "metadata": {},
   "source": [
    "![](https://keydifferences.com/wp-content/uploads/2017/01/one-tailed-vs-two-tailed-test.jpg)"
   ]
  },
  {
   "cell_type": "markdown",
   "id": "c658197f-3148-4f12-9255-5c0cce1b4736",
   "metadata": {},
   "source": [
    "## Question 3 : Explain the concept of Type 1 and Type 2 errors in hypothesis testing. Provide an example scenario for each type of error.\n",
    "---"
   ]
  },
  {
   "cell_type": "markdown",
   "id": "58a6dba0-2618-4834-8024-532bfad9a373",
   "metadata": {},
   "source": [
    "Type 1 Error:\n",
    "\n",
    "Type 1 error, also known as a false positive, occurs when the null hypothesis is rejected even though it is true.\n",
    "It means concluding that there is an effect or relationship when, in reality, there is no such effect or relationship.\n",
    "Type 1 error is associated with the significance level (α) of the test, which determines the probability of making this error.\n",
    "Example scenario for Type 1 error:\n",
    "\n",
    "A drug company conducts a clinical trial to test the effectiveness of a new drug for reducing blood pressure. The null hypothesis is that the drug has no effect on blood pressure. However, due to random variability in the data or an insufficient sample size, the study incorrectly rejects the null hypothesis and concludes that the drug is effective in reducing blood pressure, leading to a Type 1 error.\n",
    "Type 2 Error:\n",
    "\n",
    "Type 2 error, also known as a false negative, occurs when the null hypothesis is not rejected even though it is false.\n",
    "It means failing to detect an effect or relationship when, in reality, there is an effect or relationship.\n",
    "Type 2 error is associated with the power of the test, which is the probability of correctly rejecting the null hypothesis when it is false.\n",
    "Example scenario for Type 2 error:\n",
    "\n",
    "A company develops a new advertising campaign with the aim of increasing sales. The null hypothesis is that the new campaign has no impact on sales. However, after running the campaign and collecting data, the company fails to reject the null hypothesis and concludes that the campaign does not have a significant impact on sales. In reality, the campaign does increase sales, but the study fails to detect this effect, resulting in a Type 2 error.\n",
    "It's important to note that Type 1 and Type 2 errors are inversely related. By decreasing the probability of one type of error, the probability of the other type of error increases. The balance between these errors is influenced by the significance level (α) and the power of the test, which need to be appropriately chosen based on the specific context and requirements of the study."
   ]
  },
  {
   "cell_type": "markdown",
   "id": "cc2fff7c-1b00-4412-8a1d-2578bfef620e",
   "metadata": {},
   "source": [
    "## Question 4 : Explain Bayes's theorem with an example.\n",
    "---"
   ]
  },
  {
   "cell_type": "markdown",
   "id": "26b0b59f-9460-480d-824c-3a55906cea10",
   "metadata": {},
   "source": [
    "Bayes's theorem is a fundamental concept in probability theory that calculates the probability of an event based on prior knowledge or information. It provides a way to update our beliefs or probabilities when new evidence is obtained.\n",
    "\n",
    "The formula for Bayes's theorem is:\n",
    "\n",
    "P(A|B) = (P(B|A) * P(A)) / P(B)\n",
    "\n",
    "where:\n",
    "P(A|B) is the probability of event A given event B has occurred,\n",
    "P(B|A) is the probability of event B given event A has occurred,\n",
    "P(A) is the prior probability of event A,\n",
    "P(B) is the prior probability of event B.\n",
    "\n",
    "Example:\n",
    "Let's say we have a medical test to detect a certain disease. The test has a 95% accuracy rate, meaning it correctly identifies the disease in 95% of cases where the patient has the disease. The disease is quite rare, occurring in 1% of the population. If a randomly selected person tests positive for the disease, we want to calculate the probability that the person actually has the disease.\n",
    "\n",
    "Using Bayes's theorem:\n",
    "Let A be the event of having the disease, and B be the event of testing positive.\n",
    "P(A|B) represents the probability of having the disease given a positive test result.\n",
    "\n",
    "P(A) = 0.01 (prior probability of having the disease)\n",
    "P(B|A) = 0.95 (accuracy rate of the test)\n",
    "P(B) = P(B|A) * P(A) + P(B|not A) * P(not A)\n",
    "= 0.95 * 0.01 + 0.05 * 0.99\n",
    "= 0.0594\n",
    "\n",
    "Now we can calculate P(A|B) using Bayes's theorem:\n",
    "\n",
    "P(A|B) = (P(B|A) * P(A)) / P(B)\n",
    "= (0.95 * 0.01) / 0.0594\n",
    "≈ 0.1603\n",
    "\n",
    "Therefore, given a positive test result, the probability of actually having the disease is approximately 16.03%. Bayes's theorem allows us to update our initial belief (prior probability) based on the new evidence (test result) and obtain a more accurate estimate of the probability."
   ]
  },
  {
   "cell_type": "markdown",
   "id": "a0b16683-ac4f-4b31-934b-066f0c6b6079",
   "metadata": {},
   "source": [
    "## Question 5 : What is a confidence interval? How to calculate the confidence interval, explain with an example\n",
    "---"
   ]
  },
  {
   "cell_type": "markdown",
   "id": "c37779c3-4414-4594-89cc-0f0ce17e032b",
   "metadata": {},
   "source": [
    "\n",
    "A confidence interval is a range of values that provides an estimate of the true population parameter with a certain level of confidence. It quantifies the uncertainty associated with sample data and provides a range within which the true population parameter is likely to fall.\n",
    "\n",
    "To calculate a confidence interval, you need three components: the sample data, the desired level of confidence, and a suitable statistical formula. The most common formula for calculating a confidence interval for the population mean is:\n",
    "\n",
    "Confidence Interval = Sample Mean ± (Critical Value × Standard Error)\n",
    "\n",
    "The critical value is determined based on the desired level of confidence and the distribution of the data (e.g., t-distribution for small samples or z-distribution for large samples). The standard error is a measure of the variability of the sample mean.\n",
    "\n",
    "For example, suppose you want to estimate the average height of a population. You collect a sample of 100 individuals and calculate their average height as 170 cm with a standard deviation of 5 cm. You decide to calculate a 95% confidence interval. Using the z-distribution and a critical value of 1.96 (corresponding to a 95% confidence level), and the standard error calculated as the sample standard deviation divided by the square root of the sample size (5 / √100), you can calculate the confidence interval as:\n",
    "\n",
    "Confidence Interval = 170 ± (1.96 × 5/√100) = 170 ± 0.98\n",
    "\n",
    "Therefore, the 95% confidence interval for the average height of the population is (169.02, 170.98) cm. This means that with 95% confidence, the true population mean height is likely to be within this interval."
   ]
  },
  {
   "cell_type": "markdown",
   "id": "37cf8167-6194-4e94-8d85-c9f7275935ac",
   "metadata": {},
   "source": [
    "## Question 6 : Use Bayes' Theorem to calculate the probability of an event occurring given prior knowledge of the event's probability and new evidence. Provide a sample problem and solution.\n",
    "---"
   ]
  },
  {
   "cell_type": "markdown",
   "id": "d766e8fb-3042-4af3-84d7-51692e054d2d",
   "metadata": {},
   "source": [
    "Problem:\n",
    "Suppose there is a rare disease that affects 1% of the population. A medical test has been developed to detect this disease, and the test is 95% accurate in identifying positive cases and 90% accurate in identifying negative cases. If a person tests positive, what is the probability that they actually have the disease?\n",
    "\n",
    "Solution:\n",
    "Let's use the following notations:\n",
    "D = Event that a person has the disease\n",
    "D' = Event that a person does not have the disease\n",
    "T = Event that the test result is positive\n",
    "T' = Event that the test result is negative\n",
    "\n",
    "We are given:\n",
    "P(D) = 0.01 (prior probability of having the disease)\n",
    "P(D') = 0.99 (prior probability of not having the disease)\n",
    "P(T|D) = 0.95 (probability of a positive test result given that the person has the disease)\n",
    "P(T|D') = 0.10 (probability of a positive test result given that the person does not have the disease)\n",
    "\n",
    "We need to find:\n",
    "P(D|T) = Probability of having the disease given a positive test result\n",
    "\n",
    "Using Bayes' Theorem:\n",
    "P(D|T) = (P(T|D) * P(D)) / P(T)\n",
    "\n",
    "To calculate P(T), we can use the law of total probability:\n",
    "P(T) = P(T|D) * P(D) + P(T|D') * P(D')\n",
    "\n",
    "Substituting the given values into the equations, we can calculate the probability:\n",
    "\n",
    "P(T) = (0.95 * 0.01) + (0.10 * 0.99) = 0.1045\n",
    "\n",
    "P(D|T) = (0.95 * 0.01) / 0.1045 ≈ 0.0906\n",
    "\n",
    "Therefore, the probability that a person actually has the disease given a positive test result is approximately 0.0906 or 9.06%.\n",
    "\n",
    "It's important to note that even though the test is 95% accurate, the probability of having the disease after a positive test result is relatively low due to the low prevalence of the disease in the population. This highlights the significance of considering both the test accuracy and the prior probability when interpreting the results.\n",
    "\n",
    "\n",
    "\n",
    "\n",
    "\n"
   ]
  },
  {
   "cell_type": "markdown",
   "id": "ac720910-b5fb-4619-818b-8c27475d7881",
   "metadata": {},
   "source": [
    "## Question 7 : Calculate the 95% confidence interval for a sample of data with a mean of 50 and a standard deviation of 5. Interpret the results.\n",
    "---"
   ]
  },
  {
   "cell_type": "markdown",
   "id": "4398d954-11e2-47d7-a63d-37fb67a09fd1",
   "metadata": {},
   "source": [
    "To calculate the 95% confidence interval for a sample of data, we can use the formula:\n",
    "\n",
    "Confidence Interval = (Sample Mean) ± (Critical Value) * (Standard Error)\n",
    "\n",
    "The critical value is determined based on the desired level of confidence (in this case, 95%), and the standard error is calculated using the standard deviation and the sample size.\n",
    "\n",
    "Given:\n",
    "Sample Mean = 50\n",
    "Standard Deviation = 5\n",
    "\n",
    "To calculate the confidence interval, we also need the sample size. Let's assume a sample size of 100.\n",
    "\n",
    "Using the formula, we can calculate the standard error:\n",
    "Standard Error = Standard Deviation / sqrt(Sample Size) = 5 / sqrt(100) = 5 / 10 = 0.5\n",
    "\n",
    "Next, we determine the critical value associated with a 95% confidence level. Since the sample size is large (100), we can use the Z-table to find the critical value. For a 95% confidence level, the critical value is approximately 1.96.\n",
    "\n",
    "Now we can calculate the confidence interval:\n",
    "Confidence Interval = 50 ± 1.96 * 0.5\n",
    "Confidence Interval = 50 ± 0.98\n",
    "Confidence Interval = (49.02, 50.98)\n",
    "\n",
    "Interpretation:\n",
    "The 95% confidence interval for the population mean, based on this sample data, is (49.02, 50.98). This means that we can be 95% confident that the true population mean falls within this range. In other words, if we were to repeat the sampling process multiple times and calculate the confidence interval each time, approximately 95% of the intervals would contain the true population mean.\n",
    "\n",
    "It's important to note that the interpretation of the confidence interval does not imply that there is a 95% probability that the true population mean falls within the interval. The confidence level refers to the long-term frequency of intervals that would contain the true population mean, based on repeated sampling."
   ]
  },
  {
   "cell_type": "markdown",
   "id": "d7106e92-5700-46b2-8991-b230b19e61b5",
   "metadata": {},
   "source": [
    "## Question 8 : What is the margin of error in a confidence interval? How does sample size affect the margin of error? \n",
    "## Provide an example of a scenario where a larger sample size would result in a smaller margin of error\n",
    "---"
   ]
  },
  {
   "cell_type": "markdown",
   "id": "a0b83d8f-e320-4db8-b4d0-99c0c2da582d",
   "metadata": {},
   "source": [
    "The margin of error in a confidence interval is the range of values that is added to and subtracted from the point estimate to create an interval that captures the true population parameter with a specified level of confidence. It represents the amount of uncertainty associated with the estimate.\n",
    "\n",
    "The margin of error is influenced by several factors, including the desired level of confidence and the variability of the data. However, one significant factor is the sample size. As the sample size increases, the margin of error decreases.\n",
    "\n",
    "A larger sample size reduces the margin of error because it provides more information about the population. With a larger sample, the estimate of the population parameter becomes more precise, resulting in a narrower confidence interval and a smaller margin of error.\n",
    "\n",
    "For example, let's consider a scenario where we want to estimate the average height of students in a university. If we take a small sample of 20 students, the margin of error might be around 2 inches. However, if we increase the sample size to 200 students, the margin of error may reduce to around 0.5 inches. The larger sample size allows for a more accurate estimate of the population mean, resulting in a smaller margin of error and a narrower confidence interval."
   ]
  },
  {
   "cell_type": "markdown",
   "id": "e5e4c787-6d69-4cf7-bd69-9805994931d0",
   "metadata": {},
   "source": [
    "## Question 9 : Calculate the z-score for a data point with a value of 75, a population mean of 70, and a population standard deviation of 5. Interpret the results.\n",
    "---"
   ]
  },
  {
   "cell_type": "markdown",
   "id": "723806a6-4f80-4359-a521-9afd5d35d76f",
   "metadata": {},
   "source": [
    "To calculate the z-score, we can use the formula:\n",
    "\n",
    "z = (x - μ) / σ\n",
    "\n",
    "Where:\n",
    "x is the data point value (75 in this case)\n",
    "μ is the population mean (70 in this case)\n",
    "σ is the population standard deviation (5 in this case)\n",
    "\n",
    "Plugging in the values, we get:\n",
    "\n",
    "z = (75 - 70) / 5\n",
    "z = 1\n",
    "\n",
    "Interpreting the result, a z-score of 1 means that the data point (75) is 1 standard deviation above the population mean (70). This indicates that the data point is relatively higher than the average value in the population. The positive sign of the z-score indicates that the data point is above the mean. The magnitude of the z-score of 1 suggests that it is moderately deviating from the mean."
   ]
  },
  {
   "cell_type": "markdown",
   "id": "62ab564c-b9b8-4352-88ca-d1aacb4fb79d",
   "metadata": {},
   "source": [
    "## Question 10 : In a study of the effectiveness of a new weight loss drug, a sample of 50 participants lost an average of 6 pounds with a standard deviation of 2.5 pounds. Conduct a hypothesis test to determine if the drug is significantly effective at a 95% confidence level using a t-test.\n",
    "---"
   ]
  },
  {
   "cell_type": "markdown",
   "id": "5bf0b770-1c1e-4bac-ab1b-833e3fb6573b",
   "metadata": {},
   "source": [
    "\n",
    "To conduct a hypothesis test to determine if the weight loss drug is significantly effective, we can follow these steps:\n",
    "\n",
    "Step 1: State the null and alternative hypotheses:\n",
    "Null Hypothesis (H0): The weight loss drug is not significantly effective (mean weight loss = 0).\n",
    "Alternative Hypothesis (Ha): The weight loss drug is significantly effective (mean weight loss ≠ 0).\n",
    "\n",
    "Step 2: Set the significance level (α):\n",
    "The significance level is given as a 95% confidence level, which corresponds to α = 0.05.\n",
    "\n",
    "Step 3: Compute the test statistic:\n",
    "We will use a t-test since the population standard deviation is unknown.\n",
    "The formula for the t-statistic is: t = (x̄ - μ) / (s / √n)\n",
    "where x̄ is the sample mean (6 pounds), μ is the population mean (0), s is the sample standard deviation (2.5 pounds), and n is the sample size (50).\n",
    "\n",
    "Step 4: Determine the critical value:\n",
    "We will use a t-distribution and degrees of freedom (df) = n - 1.\n",
    "For a two-tailed test and α = 0.05, the critical values are t-critical = ±2.009.\n",
    "\n",
    "Step 5: Compare the test statistic with the critical value:\n",
    "If the test statistic falls outside the critical value range, we reject the null hypothesis. Otherwise, we fail to reject the null hypothesis.\n",
    "\n",
    "Step 6: Interpret the results:\n",
    "If the null hypothesis is rejected, it suggests that the weight loss drug is significantly effective. If the null hypothesis is not rejected, it suggests that there is not enough evidence to conclude that the weight loss drug is significantly effective.\n",
    "\n",
    "To perform the calculations and conduct the hypothesis test in Python, you can use the scipy.stats module. Here's an example code snippet:"
   ]
  },
  {
   "cell_type": "code",
   "execution_count": 1,
   "id": "1539b415-7644-4db3-a1f1-cf1905e6cfa2",
   "metadata": {},
   "outputs": [
    {
     "name": "stdout",
     "output_type": "stream",
     "text": [
      "Reject the null hypothesis .The weight loss drug is significantly effective .\n"
     ]
    }
   ],
   "source": [
    "import scipy.stats as stats\n",
    "\n",
    "sample_mean=6\n",
    "sample_std=2.5\n",
    "sample_size=50\n",
    "\n",
    "null_mean=0\n",
    "\n",
    "test_statistic=(sample_mean-null_mean)/(sample_std/(sample_size**0.5))\n",
    "\n",
    "t_critical=stats.t.ppf(1-0.05/2,df=sample_size-1)\n",
    "\n",
    "if test_statistic>t_critical or test_statistic<-t_critical:\n",
    "    print(\"Reject the null hypothesis .The weight loss drug is significantly effective .\")\n",
    "    \n",
    "else :\n",
    "    print(\"Fail to reject the null hypothesis . There is not enough evidence to conclude that the weight loss drug is significantly effective .\")"
   ]
  },
  {
   "cell_type": "markdown",
   "id": "49b6bb1d-4e8d-48b2-ae82-22dcbb4bd4d9",
   "metadata": {},
   "source": [
    "## Question 11 : In a survey of 500 people, 65% reported being satisfied with their current job. Calculate the 95% confidence interval for the true proportion of people who are satisfied with their job.\n",
    "---"
   ]
  },
  {
   "cell_type": "code",
   "execution_count": 4,
   "id": "4cfbe9ac-102e-4eb3-b2f8-8c63b053ced6",
   "metadata": {},
   "outputs": [
    {
     "name": "stdout",
     "output_type": "stream",
     "text": [
      "The 95% confidence interval for the proportion of people who are satisfied with their job is (60.82%,69.18%)\n"
     ]
    }
   ],
   "source": [
    "import math \n",
    "\n",
    "p=0.65\n",
    "n=500\n",
    "z_alpha=1.96\n",
    "\n",
    "se=math.sqrt((p*(1-p))/n)\n",
    "\n",
    "me=z_alpha*se\n",
    "\n",
    "lower_bound=p-me\n",
    "upper_bound=p+me\n",
    "\n",
    "print(f\"The 95% confidence interval for the proportion of people who are satisfied with their job is ({lower_bound*100:.2f}%,{upper_bound*100:.2f}%)\")"
   ]
  },
  {
   "cell_type": "markdown",
   "id": "812095ac-8e56-455b-97fa-851f56dc05f8",
   "metadata": {},
   "source": [
    "## Question 12 : A researcher is testing the effectiveness of two different teaching methods on student performance.Sample A has a mean score of 85 with a standard deviation of 6, while sample B has a mean score of 82 with a standard deviation of 5. Conduct a hypothesis test to determine if the two teaching methods have a significant difference in student performance using a t-test with a significance level of 0.01.\n",
    "---"
   ]
  },
  {
   "cell_type": "markdown",
   "id": "0eacbafd-17e3-4c87-9045-3e83d3c0a9ff",
   "metadata": {},
   "source": [
    "Step 1: State the null and alternative hypotheses:\n",
    "H0: There is no significant difference in student performance between the two teaching methods.\n",
    "Ha: There is a significant difference in student performance between the two teaching methods.\n",
    "\n",
    "Step 2: Set the significance level (α):\n",
    "The significance level (α) is given as 0.01.\n",
    "\n",
    "Step 3: Compute the test statistic:\n",
    "Using the formula for the two-sample t-test:\n",
    "\n",
    "t = (mean1 - mean2) / sqrt((s1^2/n1) + (s2^2/n2))\n",
    "\n",
    "Given:\n",
    "mean1 = 85\n",
    "mean2 = 82\n",
    "s1 = 6\n",
    "s2 = 5\n",
    "n1 = 30\n",
    "n2 = 30\n",
    "\n",
    "Calculating the values:\n",
    "t = (85 - 82) / sqrt((6^2/30) + (5^2/30))\n",
    "= 3 / sqrt(0.72 + 0.55)\n",
    "= 3 / sqrt(1.27)\n",
    "≈ 2.661\n",
    "\n",
    "Step 4: Determine the critical value:\n",
    "Since the test is a two-tailed test and the significance level is 0.01, we need to find the critical value that splits the alpha level evenly into both tails. Using a t-distribution table or statistical software, the critical value for a two-tailed test with a significance level of 0.01 and degrees of freedom equal to the sum of both sample sizes minus two (df = n1 + n2 - 2 = 30 + 30 - 2 = 58) is approximately ±2.660.\n",
    "\n",
    "Step 5: Compare the test statistic with the critical value:\n",
    "The absolute value of the test statistic (2.661) is greater than the critical value (±2.660). Therefore, we reject the null hypothesis.\n",
    "\n",
    "Step 6: Draw a conclusion:\n",
    "Based on the hypothesis test, we have sufficient evidence to conclude that there is a significant difference in student performance between the two teaching methods at a significance level of 0.01.\n",
    "\n",
    "In summary, the statistical analysis suggests that the two teaching methods have a significant difference in student performance."
   ]
  },
  {
   "cell_type": "markdown",
   "id": "d1039712-47cc-44e6-899f-576f9edf0056",
   "metadata": {},
   "source": [
    "## Question 13 : A population has a mean of 60 and a standard deviation of 8. A sample of 50 observations has a mean of 65. Calculate the 90% confidence interval for the true population mean.\n",
    "---"
   ]
  },
  {
   "cell_type": "markdown",
   "id": "4f55beb5-b141-444a-8cb5-681419c6732d",
   "metadata": {},
   "source": [
    "To calculate the 90% confidence interval for the true population mean, we can use the following formula:\n",
    "\n",
    "Confidence Interval = sample mean ± (critical value * standard error)\n",
    "\n",
    "Step 1: Given information:\n",
    "Population mean (μ) = 60\n",
    "Population standard deviation (σ) = 8\n",
    "Sample size (n) = 50\n",
    "Sample mean (x̄) = 65\n",
    "\n",
    "Step 2: Calculate the standard error:\n",
    "The standard error (SE) represents the standard deviation of the sample mean and is calculated as:\n",
    "\n",
    "SE = σ / sqrt(n)\n",
    "\n",
    "SE = 8 / sqrt(50)\n",
    "\n",
    "Step 3: Determine the critical value:\n",
    "For a 90% confidence interval, we need to find the critical value corresponding to a 90% confidence level. Since the sample size is large (n > 30), we can use the z-distribution and the critical value associated with a 90% confidence level is approximately 1.645.\n",
    "\n",
    "Step 4: Calculate the margin of error:\n",
    "The margin of error (ME) is the product of the critical value and the standard error:\n",
    "\n",
    "ME = critical value * SE\n",
    "\n",
    "ME = 1.645 * (8 / sqrt(50))\n",
    "\n",
    "Step 5: Calculate the confidence interval:\n",
    "The confidence interval is calculated by adding and subtracting the margin of error from the sample mean:\n",
    "\n",
    "Confidence Interval = x̄ ± ME\n",
    "\n",
    "Confidence Interval = 65 ± ME\n",
    "\n",
    "Substituting the value of ME from Step 4:\n",
    "\n",
    "Confidence Interval = 65 ± 1.645 * (8 / sqrt(50))\n",
    "\n",
    "Step 6: Calculate the values of the confidence interval:\n",
    "Using a calculator or software to evaluate the expression, we find:\n",
    "\n",
    "Confidence Interval ≈ 65 ± 1.839\n",
    "\n",
    "Step 7: Write the final answer:\n",
    "The 90% confidence interval for the true population mean is approximately (63.161, 66.839).\n",
    "\n",
    "Therefore, we can be 90% confident that the true population mean falls within this interval."
   ]
  },
  {
   "cell_type": "markdown",
   "id": "cf63dcbf-4478-4469-8a5a-22000ca5fa5a",
   "metadata": {},
   "source": [
    "## Question 14 : In a study of the effects of caffeine on reaction time, a sample of 30 participants had an average reaction time of 0.25 seconds with a standard deviation of 0.05 seconds. Conduct a hypothesis test to determine if the caffeine has a significant effect on reaction time at a 90% confidence level using a t-test.\n",
    "---"
   ]
  },
  {
   "cell_type": "markdown",
   "id": "45ecccf4-3e40-4dc9-b95e-01a07c7199de",
   "metadata": {},
   "source": [
    "Sample mean (x̄) = 0.25 seconds\n",
    "Sample standard deviation (s) = 0.05 seconds\n",
    "Sample size (n) = 30\n",
    "Population mean (μ) = 0.3 seconds\n",
    "Significance level (α) = 0.10 (90% confidence level)\n",
    "\n",
    "Step 1: State the null and alternative hypotheses:\n",
    "H0: Caffeine has no significant effect on reaction time. (μ = 0.3)\n",
    "Ha: Caffeine has a significant effect on reaction time. (μ ≠ 0.3)\n",
    "\n",
    "Step 2: Set the significance level (α):\n",
    "The significance level (α) is given as 0.10 (corresponding to a 90% confidence level).\n",
    "\n",
    "Step 3: Calculate the test statistic:\n",
    "The test statistic for a one-sample t-test is calculated using the formula:\n",
    "\n",
    "t = (sample mean - population mean) / (sample standard deviation / sqrt(sample size))\n",
    "\n",
    "Calculating the test statistic:\n",
    "t = (0.25 - 0.3) / (0.05 / sqrt(30))\n",
    "\n",
    "t = -0.05 / (0.05 / sqrt(30))\n",
    "\n",
    "t = -0.05 / (0.05 / 5.48)\n",
    "\n",
    "t = -0.05 / 0.009118\n",
    "\n",
    "t ≈ -5.47\n",
    "\n",
    "Step 4: Determine the critical value:\n",
    "For a two-tailed t-test with a 90% confidence level and 29 degrees of freedom (n - 1 = 30 - 1 = 29), the critical values are ±1.699.\n",
    "\n",
    "Step 5: Compare the test statistic with the critical value:\n",
    "The absolute value of the test statistic (|t|) is 5.47, which is greater than the critical value of 1.699. Therefore, |t| > 1.699.\n",
    "\n",
    "Step 6: Draw a conclusion:\n",
    "Since the absolute value of the test statistic is greater than the critical value (|t| > 1.699), we reject the null hypothesis. We can conclude that caffeine has a significant effect on reaction time.\n",
    "\n",
    "In summary, at a 90% confidence level, the hypothesis test suggests that caffeine has a significant effect on reaction time based on the given sample data.\n",
    "\n",
    "Please note that the critical value of 1.699 is an approximation obtained from a t-distribution table. If you have access to statistical software or a calculator, it is recommended to use the exact critical value for better precision."
   ]
  },
  {
   "cell_type": "code",
   "execution_count": null,
   "id": "067256de-0650-41a3-8073-6c4f769f05fc",
   "metadata": {},
   "outputs": [],
   "source": []
  }
 ],
 "metadata": {
  "kernelspec": {
   "display_name": "Python 3 (ipykernel)",
   "language": "python",
   "name": "python3"
  },
  "language_info": {
   "codemirror_mode": {
    "name": "ipython",
    "version": 3
   },
   "file_extension": ".py",
   "mimetype": "text/x-python",
   "name": "python",
   "nbconvert_exporter": "python",
   "pygments_lexer": "ipython3",
   "version": "3.10.8"
  }
 },
 "nbformat": 4,
 "nbformat_minor": 5
}
