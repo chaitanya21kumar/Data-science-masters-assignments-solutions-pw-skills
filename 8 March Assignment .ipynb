{
 "cells": [
  {
   "cell_type": "markdown",
   "id": "e10d78b8-7dd4-496e-80ee-7c426024c4b9",
   "metadata": {},
   "source": [
    "## Question 1: What is the Probability density function?\n",
    "---"
   ]
  },
  {
   "cell_type": "markdown",
   "id": "26deb9f7-914f-414c-8125-6cd79733b0c8",
   "metadata": {},
   "source": [
    "The probability density function (PDF) is a concept in probability theory and statistics that describes the likelihood of a continuous random variable taking on a specific value or falling within a certain range of values.\n",
    "\n",
    "For a continuous random variable, the PDF is a function that defines the relative likelihood of different values. It is often denoted as f(x) or p(x), where x represents the random variable. The PDF provides information about the distribution of the random variable by specifying the probability of the variable taking on various values.\n",
    "\n",
    "The PDF has the following properties:"
   ]
  },
  {
   "cell_type": "markdown",
   "id": "c4b9a42a-9a7c-4296-a718-1bf8e485c9e7",
   "metadata": {},
   "source": [
    "1. Non-negative values: The PDF is always non-negative, meaning that f(x) ≥ 0 for all values of x.\n",
    "\n",
    "2. Area under the curve: The total area under the PDF curve over its entire range is equal to 1. This reflects the fact that the probability of the random variable taking on any possible value is 1."
   ]
  },
  {
   "cell_type": "markdown",
   "id": "63e33146-b3ab-4760-8f0a-b5a62f3961dd",
   "metadata": {},
   "source": [
    "To calculate the probability of a continuous random variable falling within a specific range, you integrate the PDF over that range. The integral of the PDF within a given interval gives the probability of the random variable falling within that interval.\n",
    "\n",
    "It's important to note that the PDF is specific to continuous random variables. For discrete random variables, the probability distribution is typically described using a probability mass function (PMF), which assigns probabilities to individual values rather than ranges of values."
   ]
  },
  {
   "cell_type": "markdown",
   "id": "58274ba8-bfe6-41d3-ae3d-57d8a6b7f009",
   "metadata": {},
   "source": [
    "## Question 2: What are the types of Probability distribution?\n",
    "---"
   ]
  },
  {
   "cell_type": "markdown",
   "id": "37bfdd06-57f9-47cf-b159-8db337c781fb",
   "metadata": {},
   "source": [
    "There are several types of probability distributions, each with its own characteristics and applications. Here are some commonly encountered types:\n",
    "\n",
    "1. Uniform Distribution: In a uniform distribution, all outcomes within a given range are equally likely. The probability density function (PDF) is constant over the range of possible values. Examples include rolling a fair die or selecting a random number from a continuous interval.\n",
    "\n",
    "2. Normal Distribution (Gaussian Distribution): The normal distribution is one of the most widely used distributions in statistics. It is characterized by its bell-shaped curve. The PDF is symmetric, with the mean, median, and mode all coinciding at the center. Many natural phenomena follow a normal distribution, such as heights, weights, and measurement errors.\n",
    "\n",
    "3. Binomial Distribution: The binomial distribution describes the probability of obtaining a certain number of successes in a fixed number of independent Bernoulli trials (experiments with two possible outcomes, often referred to as success and failure). The PDF of the binomial distribution gives the probability of getting each possible number of successes. It is often used to model situations involving yes/no outcomes or counting the number of successes in a fixed number of trials.\n",
    "\n",
    "4. Poisson Distribution: The Poisson distribution is used to model the probability of a certain number of events occurring within a fixed interval of time or space. It is often used for rare events that occur independently. The Poisson distribution has a single parameter, λ (lambda), which represents the average rate of event occurrences. The PDF of the Poisson distribution gives the probability of obtaining each possible count.\n",
    "\n",
    "5. Exponential Distribution: The exponential distribution is a continuous probability distribution that models the time between events in a Poisson process (a process with a constant rate of events occurring independently). It is often used to describe the time until the next event or the survival time of certain systems. The PDF of the exponential distribution is characterized by a decaying exponential curve.\n",
    "\n",
    "6. Chi-Square Distribution: The chi-square distribution arises in various statistical tests, such as the chi-square test for independence and goodness-of-fit tests. It is defined by a parameter called degrees of freedom. The PDF of the chi-square distribution is positively skewed and assumes only non-negative values.\n",
    "\n",
    "These are just a few examples of probability distributions. There are many other distributions, such as the gamma distribution, beta distribution, t-distribution, and more, each with its own characteristics and applications in different fields of study.\n",
    "\n",
    "\n",
    "\n",
    "\n",
    "\n"
   ]
  },
  {
   "cell_type": "markdown",
   "id": "1e008bda-d769-477a-8163-a835b5604e7e",
   "metadata": {},
   "source": [
    "## Question 3: Write a Python function to calculate the probability density function of a normal distribution with given mean and standard deviation at a given point.\n",
    "---"
   ]
  },
  {
   "cell_type": "markdown",
   "id": "038790f7-47d6-4aea-9773-f6aa75bb26f0",
   "metadata": {},
   "source": [
    "Here's a Python function that calculates the probability density function (PDF) of a normal distribution at a given point, given the mean and standard deviation:"
   ]
  },
  {
   "cell_type": "code",
   "execution_count": 3,
   "id": "a5d05c98-8f91-4404-9a5f-448b3b0db0fb",
   "metadata": {},
   "outputs": [],
   "source": [
    "import math "
   ]
  },
  {
   "cell_type": "code",
   "execution_count": 4,
   "id": "70e374fb-0d66-414e-a73b-197f01157bab",
   "metadata": {},
   "outputs": [],
   "source": [
    "def normal_pdf(x,mean,std_dev):\n",
    "    coefficient= 1/(std_dev*math.sqrt(2*math.pi))\n",
    "    exponent=-((x-mean)**2)/(2*(std_dev**2))\n",
    "    pdf=coefficient*math.exp(exponent)\n",
    "    return pdf "
   ]
  },
  {
   "cell_type": "markdown",
   "id": "00670b8f-6a90-43dd-bbe7-21cfe34b398b",
   "metadata": {},
   "source": [
    "In this function, x represents the point at which you want to calculate the PDF, mean is the mean of the normal distribution, and std_dev is the standard deviation.\n",
    "\n",
    "To use this function, simply call it and provide the required parameters. Here's an example:"
   ]
  },
  {
   "cell_type": "code",
   "execution_count": 11,
   "id": "de2e4624-104a-43d4-8bb3-13a8f1b1263c",
   "metadata": {},
   "outputs": [],
   "source": [
    "mean=3\n",
    "std_dev=2\n",
    "x=4\n",
    "pdf=normal_pdf(x,mean,std_dev)\n"
   ]
  },
  {
   "cell_type": "code",
   "execution_count": 12,
   "id": "761d148d-5766-4a26-9bab-1f2404819add",
   "metadata": {},
   "outputs": [
    {
     "data": {
      "text/plain": [
       "0.17603266338214976"
      ]
     },
     "execution_count": 12,
     "metadata": {},
     "output_type": "execute_result"
    }
   ],
   "source": [
    "pdf"
   ]
  },
  {
   "cell_type": "markdown",
   "id": "1c75b7f7-d6ef-4281-ad31-fce44e9c86fe",
   "metadata": {},
   "source": [
    "## Question 4 : What are the properties of Binomial distribution? Give two examples of events where binomial distribution can be applied.\n",
    "---"
   ]
  },
  {
   "cell_type": "markdown",
   "id": "eb95258a-ebc1-4ab9-a753-81b0eaa9c1df",
   "metadata": {},
   "source": [
    "The binomial distribution is a discrete probability distribution that describes the number of successes in a fixed number of independent Bernoulli trials. It has the following properties:\n",
    "\n",
    "Fixed number of trials: The binomial distribution is applicable when there is a fixed number of trials, denoted as n. Each trial is independent and has only two possible outcomes: success or failure.\n",
    "\n",
    "Constant probability of success: The probability of success in each trial remains constant. This probability is denoted as p.\n",
    "\n",
    "Independent trials: Each trial is independent of the others, meaning the outcome of one trial does not affect the outcomes of the other trials.\n",
    "\n",
    "Discrete outcomes: The binomial distribution deals with discrete outcomes, which are the number of successes (ranging from 0 to n) in the fixed number of trials.\n",
    "\n",
    "Examples of events where the binomial distribution can be applied are:\n",
    "\n",
    "Coin Flips: Consider flipping a fair coin 10 times and counting the number of heads obtained. Each flip is a Bernoulli trial with two possible outcomes: heads or tails. The probability of getting heads in each flip is 0.5, and the number of heads obtained in 10 flips follows a binomial distribution.\n",
    "\n",
    "Product Defects: Suppose a factory produces a large number of items, and each item has a probability of being defective. We can define a success as an item being defective. The binomial distribution can be used to model the number of defective items in a sample of fixed size, assuming the probability of each item being defective is constant.\n",
    "\n",
    "In both of these examples, we have a fixed number of independent trials with two possible outcomes (success or failure), and we are interested in the number of successes (e.g., number of heads, number of defective items). The binomial distribution provides a way to calculate the probabilities associated with different numbers of successes in these scenarios.\n",
    "\n",
    "\n",
    "\n",
    "\n",
    "\n"
   ]
  },
  {
   "cell_type": "markdown",
   "id": "ef4fdf5f-c5f9-4615-9b98-eba5f68f7647",
   "metadata": {},
   "source": [
    "## Question 5: Generate a random sample of size 1000 from a binomial distribution with probability of success 0.4 and plot a histogram of the results using matplotlib.\n",
    "---"
   ]
  },
  {
   "cell_type": "markdown",
   "id": "84f2a0d0-47ef-4ef6-864a-22520e17f040",
   "metadata": {},
   "source": [
    "Here's a Python code snippet that generates a random sample of size 1000 from a binomial distribution with a probability of success of 0.4 and plots a histogram of the results using Matplotlib:"
   ]
  },
  {
   "cell_type": "code",
   "execution_count": 13,
   "id": "b9ea44b4-0b2f-4c5e-86ad-92962e8b9e4a",
   "metadata": {},
   "outputs": [],
   "source": [
    "import numpy as np "
   ]
  },
  {
   "cell_type": "code",
   "execution_count": 14,
   "id": "2f11c84b-01d2-468a-aba4-61cd59130bd6",
   "metadata": {},
   "outputs": [],
   "source": [
    "import matplotlib.pyplot as plt "
   ]
  },
  {
   "cell_type": "code",
   "execution_count": 16,
   "id": "52370146-7d8b-415c-b421-5c63caa99519",
   "metadata": {},
   "outputs": [
    {
     "data": {
      "image/png": "[encoded data removed]",
      "text/plain": [
       "<Figure size 640x480 with 1 Axes>"
      ]
     },
     "metadata": {},
     "output_type": "display_data"
    }
   ],
   "source": [
    "sample_size=1000\n",
    "probability_success=0.4\n",
    "sample=np.random.binomial(1,probability_success,sample_size)\n",
    "plt.hist(sample,bins=2,rwidth=0.8,align='mid',color='skyblue')\n",
    "plt.xlabel('success')\n",
    "plt.ylabel('frequency')\n",
    "plt.title('binomial distribution : random sample')\n",
    "plt.xticks([0,1] , ['failure' , 'success'])\n",
    "plt.show()"
   ]
  },
  {
   "cell_type": "markdown",
   "id": "9407e7db-cbbc-4e94-883c-5de2060f554f",
   "metadata": {},
   "source": [
    "## Question 6 : Write a Python function to calculate the cumulative distribution function of a Poisson distribution with given mean at a given point.\n",
    "---"
   ]
  },
  {
   "cell_type": "code",
   "execution_count": 18,
   "id": "000216dd-2111-493b-bed9-4a712fb58f8e",
   "metadata": {},
   "outputs": [],
   "source": [
    "import math "
   ]
  },
  {
   "cell_type": "code",
   "execution_count": 19,
   "id": "695d05ac-3ea0-4cb8-9def-eef106b0d501",
   "metadata": {},
   "outputs": [],
   "source": [
    "def poisson_cdf(x,mean):\n",
    "    cdf=0\n",
    "    for i in range (x+1):\n",
    "        cdf+=(mean**i)*math.exp(-mean)/math.factorial(i)\n",
    "    return cdf "
   ]
  },
  {
   "cell_type": "code",
   "execution_count": 20,
   "id": "7c4471e7-0f1e-4c0b-8a82-454d9a975e6a",
   "metadata": {},
   "outputs": [
    {
     "data": {
      "text/plain": [
       "0.9160820579686966"
      ]
     },
     "execution_count": 20,
     "metadata": {},
     "output_type": "execute_result"
    }
   ],
   "source": [
    "mean=3\n",
    "x=5\n",
    "cdf=poisson_cdf(x,mean)\n",
    "cdf"
   ]
  },
  {
   "cell_type": "markdown",
   "id": "2140ab98-bb1d-4502-b56a-1603fffb1ab6",
   "metadata": {},
   "source": [
    "## Question 7 : How Binomial distribution different from Poisson distribution?\n",
    "---"
   ]
  },
  {
   "cell_type": "markdown",
   "id": "c2a9c6b6-bff2-411e-994e-5117af621775",
   "metadata": {},
   "source": [
    "|                     | Binomial Distribution                  | Poisson Distribution               |\n",
    "|---------------------|---------------------------------------|-----------------------------------|\n",
    "| Assumptions         | Fixed number of trials                 | Random and rare events             |\n",
    "|                     | Two possible outcomes (success/failure)| occurring independently            |\n",
    "|                     | Constant probability of success        | Constant average rate of events    |\n",
    "| Nature of Events    | Events with fixed number of trials      | Rare events occurring in continuous|\n",
    "|                     | Success/failure outcomes                | time or space                      |\n",
    "| Parameters          | Number of trials (n)                   | Average rate of events (λ)         |\n",
    "|                     | Probability of success (p)             |                                   |\n",
    "| Shape               | Generally symmetric                    | Skewed to the right                |\n",
    "|                     | Approaches normal distribution with    | Approaches normal distribution    |\n",
    "|                     | increasing trials and moderate success | with increasing average rate       |\n",
    "|                     | probability                           |                                   |\n"
   ]
  },
  {
   "cell_type": "markdown",
   "id": "b046ab7f-4580-4068-8cbf-b981b41c245d",
   "metadata": {},
   "source": [
    "## Question 8 : Generate a random sample of size 1000 from a Poisson distribution with mean 5 and calculate the sample mean and variance\n",
    "---"
   ]
  },
  {
   "cell_type": "code",
   "execution_count": 23,
   "id": "26ef508d-5a5c-482e-ac70-7b037b5d2ee5",
   "metadata": {},
   "outputs": [],
   "source": [
    "import numpy as np "
   ]
  },
  {
   "cell_type": "code",
   "execution_count": 24,
   "id": "f54ad521-f653-4478-b051-4d644e71e7d1",
   "metadata": {},
   "outputs": [],
   "source": [
    "mean=5\n",
    "sample_size=1000\n",
    "sample=np.random.poisson(mean,size=sample_size)\n",
    "sample_mean=np.mean(sample)\n",
    "sample_variance=np.var(sample)"
   ]
  },
  {
   "cell_type": "code",
   "execution_count": 25,
   "id": "683bfab5-0e29-49ad-a580-227c080616a3",
   "metadata": {},
   "outputs": [
    {
     "name": "stdout",
     "output_type": "stream",
     "text": [
      "4.959\n"
     ]
    }
   ],
   "source": [
    "print(sample_mean)"
   ]
  },
  {
   "cell_type": "code",
   "execution_count": 26,
   "id": "192e6c27-1dce-4108-a728-60f03c18f294",
   "metadata": {},
   "outputs": [
    {
     "name": "stdout",
     "output_type": "stream",
     "text": [
      "5.009319\n"
     ]
    }
   ],
   "source": [
    "print(sample_variance)"
   ]
  },
  {
   "cell_type": "markdown",
   "id": "bf194c35-c834-4868-9484-bc1a4d2c457a",
   "metadata": {},
   "source": [
    "## Question 9 : How mean and variance are related in Binomial distribution and Poisson distribution?\n",
    "---"
   ]
  },
  {
   "cell_type": "markdown",
   "id": "32765c1a-e6ff-4224-80f2-9ebd3764f1cc",
   "metadata": {},
   "source": [
    "In both the Binomial distribution and the Poisson distribution, the mean and variance are related, but the nature of their relationship differs between the two distributions.\n",
    "\n",
    "For the Binomial distribution:\n",
    "\n",
    "Mean: The mean of a Binomial distribution is given by the product of the number of trials (n) and the probability of success (p), denoted as μ = n * p.\n",
    "Variance: The variance of a Binomial distribution is given by the product of the number of trials (n), the probability of success (p), and the probability of failure (q = 1 - p), denoted as σ^2 = n * p * q.\n",
    "The relationship between the mean and variance in the Binomial distribution is direct and follows the formula σ^2 = μ * q.\n",
    "\n",
    "For the Poisson distribution:\n",
    "\n",
    "Mean: The mean of a Poisson distribution is equal to the parameter λ, which represents the average rate of events occurring in a given time interval or space.\n",
    "Variance: The variance of a Poisson distribution is also equal to the parameter λ.\n",
    "In the Poisson distribution, the mean and variance are both equal to λ, indicating that they have the same value. This relationship is unique to the Poisson distribution.\n",
    "\n",
    "In summary, in the Binomial distribution, the variance depends on both the number of trials and the probability of success, while in the Poisson distribution, the mean and variance are equal and determined solely by the parameter λ.\n",
    "\n",
    "\n",
    "\n",
    "\n",
    "\n"
   ]
  },
  {
   "cell_type": "markdown",
   "id": "7ef17969-f0a9-4b2c-a01e-3bde23525ca6",
   "metadata": {},
   "source": [
    "## Question 10 : In normal distribution with respect to mean position, where does the least frequent data appear?\n",
    "---"
   ]
  },
  {
   "cell_type": "markdown",
   "id": "d74c84a5-b9b5-4217-8f17-5296edfde914",
   "metadata": {},
   "source": [
    "In a normal distribution, the least frequent data appears in the tails of the distribution, which are the extreme values located farthest from the mean. These extreme values occur at both ends of the distribution, in the regions of the distribution that are farther away from the mean."
   ]
  },
  {
   "cell_type": "code",
   "execution_count": null,
   "id": "584b1450-83a6-41fe-bebb-c377d17f827c",
   "metadata": {},
   "outputs": [],
   "source": []
  }
 ],
 "metadata": {
  "kernelspec": {
   "display_name": "Python 3 (ipykernel)",
   "language": "python",
   "name": "python3"
  },
  "language_info": {
   "codemirror_mode": {
    "name": "ipython",
    "version": 3
   },
   "file_extension": ".py",
   "mimetype": "text/x-python",
   "name": "python",
   "nbconvert_exporter": "python",
   "pygments_lexer": "ipython3",
   "version": "3.10.8"
  }
 },
 "nbformat": 4,
 "nbformat_minor": 5
}
