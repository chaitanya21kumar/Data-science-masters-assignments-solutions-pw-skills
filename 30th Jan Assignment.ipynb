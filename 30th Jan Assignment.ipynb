{
 "cells": [
  {
   "cell_type": "markdown",
   "id": "dceea7f2",
   "metadata": {},
   "source": [
    "```\n",
    "Q1. Write a program to accept percentage from the user and display the grade according to the following criteria: \n",
    "```\n",
    "| Marks           | Grade   |\n",
    "| --------------- | ------- |\n",
    "| >90             | A       |\n",
    "| >80 and <= 90   | B       |\n",
    "| >=60 and <= 80  | C       |\n",
    "| below 60        | D       |"
   ]
  },
  {
   "cell_type": "code",
   "execution_count": 3,
   "id": "878f15be",
   "metadata": {},
   "outputs": [
    {
     "name": "stdout",
     "output_type": "stream",
     "text": [
      "enter your marks 56\n",
      "grade C\n"
     ]
    }
   ],
   "source": [
    "marks=int(input(\"enter your marks \"))\n",
    "if marks >90 :\n",
    "    print(\"grade A\")\n",
    "elif marks >80 and marks <= 90 :\n",
    "    print(\"grade B\")\n",
    "elif marks >= 60 and marks<= 80 :\n",
    "    print(\"grade C\")\n",
    "else :\n",
    "    print(\"grade C\")\n"
   ]
  },
  {
   "cell_type": "markdown",
   "id": "81786363",
   "metadata": {},
   "source": [
    "```\n",
    "Q2. Write a program to accept the cost price of a bike and display the road tax to be paid according to the following criteria: \n",
    "\n",
    "```\n",
    "| Tax             | Cost Price (In Rs.)   |\n",
    "| --------------- | -------               |\n",
    "| 15%             | > 100000              |\n",
    "| 10%             | > 50000 and <= 100000 |\n",
    "| 5%              | <= 50000              |\n"
   ]
  },
  {
   "cell_type": "code",
   "execution_count": 5,
   "id": "75d0f588",
   "metadata": {},
   "outputs": [
    {
     "name": "stdout",
     "output_type": "stream",
     "text": [
      " enter the cost price of your bike 10000\n",
      " 5% road tax \n"
     ]
    }
   ],
   "source": [
    "cost_price=int(input(\" enter the cost price of your bike \"))\n",
    "if cost_price >100000 :\n",
    "    print(\" 15% road tax \")\n",
    "elif cost_price > 50000 and cost_price <=100000 :\n",
    "    print(\" 10 % road tax \")\n",
    "else  :\n",
    "    print(\" 5% road tax \")"
   ]
  },
  {
   "cell_type": "markdown",
   "id": "1643df38",
   "metadata": {},
   "source": [
    "```\n",
    "Q3. Accept any city from the user and display monuments of that city.\n",
    "\n",
    "```\n",
    "| City      | Monument  |\n",
    "| --------- | -------   |\n",
    "| Delhi     | Red Fort  |\n",
    "| Agra      | Taj Mahal |\n",
    "| Jaipur    | Jal Mahal |"
   ]
  },
  {
   "cell_type": "code",
   "execution_count": 8,
   "id": "3a07640b",
   "metadata": {},
   "outputs": [
    {
     "name": "stdout",
     "output_type": "stream",
     "text": [
      "enter city name Delhi\n",
      "monument present here is Red Fort \n"
     ]
    }
   ],
   "source": [
    "city=input(\"enter city name \")\n",
    "if city == \"Delhi\" :\n",
    "    print(\"monument present here is Red Fort \")\n",
    "elif city==\"Agra\":\n",
    "    print(\"monument present here is Taj Mahal\")\n",
    "elif city ==\"Jaipur\":\n",
    "    print(\"monument present here is Jal Mahal\")"
   ]
  },
  {
   "cell_type": "markdown",
   "id": "19e75eb6",
   "metadata": {},
   "source": [
    "```\n",
    "Q4. Check how many times a given number can be divided by 3 before it is less than or equal to 10. \n",
    "\n",
    "```\n"
   ]
  },
  {
   "cell_type": "code",
   "execution_count": 13,
   "id": "ee15cd46",
   "metadata": {},
   "outputs": [
    {
     "name": "stdout",
     "output_type": "stream",
     "text": [
      "enter any number3\n",
      "Times the Number can be divided by Three : 0 times.\n"
     ]
    }
   ],
   "source": [
    "num = int(input(\"enter any number\"))\n",
    "counter = 0 \n",
    "while num >10:\n",
    "    num = num/3\n",
    "    print(num)\n",
    "    counter = counter+1\n",
    "print(f'Times the Number can be divided by Three : {counter} times.')"
   ]
  },
  {
   "cell_type": "markdown",
   "id": "627fc7fc",
   "metadata": {},
   "source": [
    "### Q5. Why and When to use While loop in python give a detailed description with example\n",
    "Ans. The while loop in Python is used when one wants to repeatedly execute a block of code as long as a certain condition is correct . The loop continues to execute as long as the condition is True.For example :-\n",
    "\n",
    "\n"
   ]
  },
  {
   "cell_type": "code",
   "execution_count": 1,
   "id": "bea7317f",
   "metadata": {},
   "outputs": [
    {
     "name": "stdout",
     "output_type": "stream",
     "text": [
      "20\n",
      "21\n",
      "22\n",
      "23\n",
      "24\n",
      "25\n",
      "26\n",
      "27\n",
      "28\n",
      "29\n",
      "30\n",
      "31\n",
      "32\n",
      "33\n",
      "34\n",
      "35\n"
     ]
    }
   ],
   "source": [
    "a=20\n",
    "while a <=35 :\n",
    "    print(a)\n",
    "    a+=1"
   ]
  },
  {
   "cell_type": "markdown",
   "id": "fd08c4f4",
   "metadata": {},
   "source": [
    "#### Q6. Use nested while loop to print 3 different pattern. "
   ]
  },
  {
   "cell_type": "code",
   "execution_count": 9,
   "id": "e2b218e4",
   "metadata": {},
   "outputs": [
    {
     "name": "stdout",
     "output_type": "stream",
     "text": [
      "enter number of rows 15\n",
      "**************\n",
      "*************\n",
      "************\n",
      "***********\n",
      "**********\n",
      "*********\n",
      "********\n",
      "*******\n",
      "******\n",
      "*****\n",
      "****\n",
      "***\n",
      "**\n",
      "*\n",
      "\n"
     ]
    }
   ],
   "source": [
    "#PATTERN 1 \n",
    "\n",
    "a=int(input(\"enter number of rows \"))\n",
    "while a>0 :\n",
    "    a-=1\n",
    "    print(\"*\"*a)"
   ]
  },
  {
   "cell_type": "code",
   "execution_count": 6,
   "id": "3549ed5b",
   "metadata": {},
   "outputs": [
    {
     "name": "stdout",
     "output_type": "stream",
     "text": [
      "enter number of rows 8\n",
      "       *\n",
      "      **\n",
      "     ***\n",
      "    ****\n",
      "   *****\n",
      "  ******\n",
      " *******\n",
      "********\n"
     ]
    }
   ],
   "source": [
    "#PATTERN 2\n",
    "\n",
    "a=int(input('enter number of rows '))\n",
    "b=1 \n",
    "while a>0 :\n",
    "    a-=1\n",
    "    print(\" \"*a , end =\"*\"*b +\"\\n\")\n",
    "    b+=1\n"
   ]
  },
  {
   "cell_type": "code",
   "execution_count": 8,
   "id": "e3d7c8b2",
   "metadata": {},
   "outputs": [
    {
     "name": "stdout",
     "output_type": "stream",
     "text": [
      "enter number of rows 12\n",
      "           *           \n",
      "          ***          \n",
      "         *****         \n",
      "        *******        \n",
      "       *********       \n",
      "      ***********      \n",
      "     *************     \n",
      "    ***************    \n",
      "   *****************   \n",
      "  *******************  \n",
      " ********************* \n",
      "***********************\n"
     ]
    }
   ],
   "source": [
    "# PATTERN 3 \n",
    "\n",
    "a=int(input(\"enter number of rows \"))\n",
    "b=1\n",
    "while a >0 :\n",
    "    a-=1\n",
    "    print(\" \"*a + \"*\"*b , end =\" \"*a +\"\\n\")\n",
    "    b+=2"
   ]
  },
  {
   "cell_type": "markdown",
   "id": "e77df47e",
   "metadata": {},
   "source": [
    "```\n",
    "Q7. Reverse a while loop to display numbers from 10 to 1 \n",
    "```\n"
   ]
  },
  {
   "cell_type": "code",
   "execution_count": 10,
   "id": "a6a4f13f",
   "metadata": {},
   "outputs": [
    {
     "name": "stdout",
     "output_type": "stream",
     "text": [
      "10\n",
      "9\n",
      "8\n",
      "7\n",
      "6\n",
      "5\n",
      "4\n",
      "3\n",
      "2\n",
      "1\n"
     ]
    }
   ],
   "source": [
    "a=10\n",
    "while a >0 :\n",
    "    print(a)\n",
    "    a-=1"
   ]
  },
  {
   "cell_type": "markdown",
   "id": "4b5dfd8a",
   "metadata": {},
   "source": [
    "```\n",
    "Q8. Reverse a while loop to display numbers from 10 to 1 \n",
    "```"
   ]
  },
  {
   "cell_type": "code",
   "execution_count": 11,
   "id": "84cc97a0",
   "metadata": {},
   "outputs": [
    {
     "name": "stdout",
     "output_type": "stream",
     "text": [
      "10\n",
      "9\n",
      "8\n",
      "7\n",
      "6\n",
      "5\n",
      "4\n",
      "3\n",
      "2\n",
      "1\n"
     ]
    }
   ],
   "source": [
    "a=10\n",
    "while a >0 :\n",
    "    print(a)\n",
    "    a-=1"
   ]
  },
  {
   "cell_type": "code",
   "execution_count": null,
   "id": "64d8d839",
   "metadata": {},
   "outputs": [],
   "source": []
  }
 ],
 "metadata": {
  "kernelspec": {
   "display_name": "Python 3 (ipykernel)",
   "language": "python",
   "name": "python3"
  },
  "language_info": {
   "codemirror_mode": {
    "name": "ipython",
    "version": 3
   },
   "file_extension": ".py",
   "mimetype": "text/x-python",
   "name": "python",
   "nbconvert_exporter": "python",
   "pygments_lexer": "ipython3",
   "version": "3.9.13"
  }
 },
 "nbformat": 4,
 "nbformat_minor": 5
}
