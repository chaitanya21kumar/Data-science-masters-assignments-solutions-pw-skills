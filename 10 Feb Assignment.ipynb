{
 "cells": [
  {
   "cell_type": "markdown",
   "id": "7532683a",
   "metadata": {},
   "source": [
    "# Question 1 : Which function is used to open a file? What are the different modes of opening a file? Explain each mode of file opening.\n",
    "---"
   ]
  },
  {
   "cell_type": "markdown",
   "id": "7d75d2d8",
   "metadata": {},
   "source": [
    "## Files in Python can be opened with a built-in open() function\n",
    "### Syntax : open(file_address, access_mode)\n",
    "\n",
    "\n",
    "The different modes of opening a file are:\n",
    "\n",
    "\"r\" (read mode): This mode is used to read data from an existing file. If the file does not exist, a FileNotFoundError is raised.\n",
    "\n",
    "\"w\" (write mode): This mode is used to write data to a file. If the file already exists, its contents are overwritten. If the file does not exist, a new file is created.\n",
    "\n",
    "\"a\" (append mode): This mode is used to append data to an existing file. If the file does not exist, a new file is created.\n",
    "\n",
    "\"x\" (exclusive creation mode): This mode is used to create a new file, but only if it does not already exist. If the file already exists, a FileExistsError is raised.\n",
    "\n",
    "\"b\" (binary mode): This mode is used to read or write binary data, such as images or other non-text files.\n",
    "\n",
    "\"t\" (text mode): This mode is used to read or write text data, which is the default mode if no mode is specified.\n",
    "\n",
    "\"+\" (read and write mode): This mode is used to allow both reading and writing to a file.\n",
    "\n",
    "\n",
    "1. In ‘r’ mode, the file opens in the read only mode. By default, if we don’t specify the mode argument, it will be treated as read or ‘r’ mode."
   ]
  },
  {
   "cell_type": "code",
   "execution_count": 2,
   "id": "cb3b234a",
   "metadata": {},
   "outputs": [
    {
     "name": "stdout",
     "output_type": "stream",
     "text": [
      "data science masters\n",
      "\n"
     ]
    }
   ],
   "source": [
    "file=open(\"test.txt\",\"r\")\n",
    "a=file.read()\n",
    "print(a)"
   ]
  },
  {
   "cell_type": "markdown",
   "id": "c5b9e710",
   "metadata": {},
   "source": [
    "2. In the ‘w’ mode, the file opens in write mode. It removes existing content, if present, in the file. If the specified file doesn’t exist, it creates one with the specified name."
   ]
  },
  {
   "cell_type": "code",
   "execution_count": 1,
   "id": "a71be81e",
   "metadata": {},
   "outputs": [],
   "source": [
    "file=open(\"test.txt\",\"w\")\n",
    "file.write(\"data science masters\\n\")\n",
    "file.close()"
   ]
  },
  {
   "cell_type": "markdown",
   "id": "8b62c52b",
   "metadata": {},
   "source": [
    "3. In the ‘a’ mode, the file opens in append mode. It adds content to an existing file (or append at the end of the file). If the specified file doesn’t exist, it creates one with the specified name."
   ]
  },
  {
   "cell_type": "code",
   "execution_count": 3,
   "id": "b50890d0",
   "metadata": {},
   "outputs": [
    {
     "name": "stdout",
     "output_type": "stream",
     "text": [
      "data science masters\n",
      "web dev\n",
      "\n"
     ]
    }
   ],
   "source": [
    "file=open(\"test.txt\",\"a\")\n",
    "file.write(\"web dev\\n\")\n",
    "file.close()\n",
    "file=open(\"test.txt\",\"r\")\n",
    "x=file.read()\n",
    "print(x)\n"
   ]
  },
  {
   "cell_type": "markdown",
   "id": "492cb596",
   "metadata": {},
   "source": [
    "4.  In the ‘r+’ mode, the file opens in the read & write mode. It does not remove existing content, if present, in the file and does not create a file if not present in the directory. "
   ]
  },
  {
   "cell_type": "code",
   "execution_count": 4,
   "id": "a138d301",
   "metadata": {},
   "outputs": [
    {
     "name": "stdout",
     "output_type": "stream",
     "text": [
      "pwskills\n",
      "nce masters\n",
      "web dev\n",
      "\n"
     ]
    }
   ],
   "source": [
    "file=open(\"test.txt\",\"r+\")\n",
    "file.write(\"pwskills\\n\")\n",
    "file.close\n",
    "\n",
    "file=open(\"test.txt\",\"r\")\n",
    "k=file.read()\n",
    "\n",
    "print(k)\n"
   ]
  },
  {
   "cell_type": "markdown",
   "id": "c53f122a",
   "metadata": {},
   "source": [
    "5. In the ‘w+’ mode, open the file in the read & write mode & remove existing content. If the file doesn’t exist, it creates a new one. It does not remove existing content & if a file doesn’t exist, it creates a new one"
   ]
  },
  {
   "cell_type": "code",
   "execution_count": 7,
   "id": "354e5312",
   "metadata": {},
   "outputs": [
    {
     "name": "stdout",
     "output_type": "stream",
     "text": [
      "python\n",
      "\n"
     ]
    }
   ],
   "source": [
    "file=open(\"test.txt\",\"w+\")\n",
    "file.write(\"python\\n\")\n",
    "file.close()\n",
    "file=open(\"test.txt\",\"r\")\n",
    "print(file.read())"
   ]
  },
  {
   "cell_type": "markdown",
   "id": "996053fc",
   "metadata": {},
   "source": [
    "6. a+: Opens a file for both appending and reading"
   ]
  },
  {
   "cell_type": "code",
   "execution_count": 12,
   "id": "f8da4218",
   "metadata": {},
   "outputs": [
    {
     "name": "stdout",
     "output_type": "stream",
     "text": [
      "python\n",
      "skills skills\n",
      "\n"
     ]
    }
   ],
   "source": [
    "file=open(\"test.txt\",\"a+\")\n",
    "file.write(\"skills\\n\")\n",
    "file.close()\n",
    "file=open(\"test.txt\",\"a+\")\n",
    "file.seek(0)\n",
    "k=file.read()\n",
    "print(k)"
   ]
  },
  {
   "cell_type": "markdown",
   "id": "fd5da0ac",
   "metadata": {},
   "source": [
    "## Question 2: Why close() function is used? Why is it important to close a file?\n",
    "---"
   ]
  },
  {
   "cell_type": "markdown",
   "id": "03526614",
   "metadata": {},
   "source": [
    "In Python, the close() function is used to close an open file object. It's important to close a file after you have finished working with it because it frees up system resources that were being used by the open file.\n",
    "\n",
    "When a file is opened, the operating system allocates system resources to the file handle, including memory, buffer space, and CPU time. If a file is not closed properly, these resources may not be freed up, which can lead to issues such as resource leaks or file corruption. Additionally, some operating systems limit the number of open files that a process can have at any given time, so leaving a file open unnecessarily can prevent other processes from accessing that file.\n",
    "\n",
    "Therefore, it's a good programming practice to close the file as soon as you're done with it. You can either call the close() method explicitly, or use the with statement, which automatically closes the file when the block is exited."
   ]
  },
  {
   "cell_type": "code",
   "execution_count": 10,
   "id": "a83aab4a",
   "metadata": {},
   "outputs": [
    {
     "name": "stdout",
     "output_type": "stream",
     "text": [
      "python\n",
      "skills \n"
     ]
    }
   ],
   "source": [
    "# method 1 \n",
    "\n",
    "file=open(\"test.txt\",\"r\")\n",
    "a=file.read()\n",
    "print(a)\n",
    "file.close()"
   ]
  },
  {
   "cell_type": "code",
   "execution_count": 1,
   "id": "5ed48155",
   "metadata": {},
   "outputs": [
    {
     "name": "stdout",
     "output_type": "stream",
     "text": [
      "hello world\n",
      "\n"
     ]
    }
   ],
   "source": [
    "# method 2 \n",
    "\n",
    "with open(\"test.txt\",\"w+\") as f :\n",
    "    f.write(\"hello world\\n\")\n",
    "    \n",
    "    \n",
    "with open(\"test.txt\",\"r\") as f :\n",
    "    print(f.read())"
   ]
  },
  {
   "cell_type": "markdown",
   "id": "799a4604",
   "metadata": {},
   "source": [
    "## Question 3: Write a python program to create a text file. Write ‘I want to become a Data Scientist’ in that file. Then close the file. Open this file and read the content of the file.\n",
    "---"
   ]
  },
  {
   "cell_type": "code",
   "execution_count": 3,
   "id": "b427a788",
   "metadata": {},
   "outputs": [
    {
     "name": "stdout",
     "output_type": "stream",
     "text": [
      "I want to become a Data Scientist\n"
     ]
    }
   ],
   "source": [
    "# method 1 \n",
    "\n",
    "\n",
    "file =open(\"test1.txt\",\"w\")\n",
    "file.write(\"I want to become a Data Scientist\")\n",
    "file.close()\n",
    "\n",
    "\n",
    "file=open(\"test1.txt\",\"r\")\n",
    "a=file.read()\n",
    "print(a)"
   ]
  },
  {
   "cell_type": "code",
   "execution_count": 4,
   "id": "d6f09782",
   "metadata": {},
   "outputs": [
    {
     "name": "stdout",
     "output_type": "stream",
     "text": [
      "I want to become a Data Scientist\n"
     ]
    }
   ],
   "source": [
    "# method 2\n",
    "\n",
    "with open(\"test2.txt\",\"w\") as f :\n",
    "    f.write(\"I want to become a Data Scientist\")\n",
    "    \n",
    "with open(\"test2.txt\",\"r\") as f :\n",
    "    print(f.read())"
   ]
  },
  {
   "cell_type": "markdown",
   "id": "825827b0",
   "metadata": {},
   "source": [
    "## Question 4 : Explain the following with python code: read(), readline() and readlines().\n",
    "---"
   ]
  },
  {
   "cell_type": "code",
   "execution_count": 33,
   "id": "49ffa7f3",
   "metadata": {},
   "outputs": [],
   "source": [
    "with open(\"test5.txt\",\"w+\") as f :\n",
    "    f.write(\"Data Science Masters course is highly curated and uniquely designed according to the latest industry standards. This program instills students the skills essential to knowledge \\ndiscovery efforts to identify standard, novel, and truly differentiated \\nsolutions and decision-making, including skills in managing,\\n querying, analyzing, visualizing, and extracting meaning from extremely large data sets. \\nThis trending program provides students with the statistical, mathematical \\nand computational skills needed to meet the large-scale data science challenges of today's professional\\n world. You will learn all the stack required to work in data science industry including cloud infrastructure and real-time industry projects.\")\n"
   ]
  },
  {
   "cell_type": "markdown",
   "id": "6f89c02a",
   "metadata": {},
   "source": [
    "1. read(): The read() method reads the entire content of a file as a string. It takes an optional argument that specifies the number of characters to read. If no argument is given, it reads the entire file."
   ]
  },
  {
   "cell_type": "code",
   "execution_count": 34,
   "id": "2a88b33f",
   "metadata": {},
   "outputs": [
    {
     "name": "stdout",
     "output_type": "stream",
     "text": [
      "Data Science Masters course is highly curated and uniquely designed according to the latest industry standards. This program instills students the skills essential to knowledge \n",
      "discovery efforts to identify standard, novel, and truly differentiated \n",
      "solutions and decision-making, including skills in managing,\n",
      " querying, analyzing, visualizing, and extracting meaning from extremely large data sets. \n",
      "This trending program provides students with the statistical, mathematical \n",
      "and computational skills needed to meet the large-scale data science challenges of today's professional\n",
      " world. You will learn all the stack required to work in data science industry including cloud infrastructure and real-time industry projects.\n"
     ]
    }
   ],
   "source": [
    "with open(\"test5.txt\",\"r\") as f :\n",
    "    print(f.read())"
   ]
  },
  {
   "cell_type": "markdown",
   "id": "b1fcffbc",
   "metadata": {},
   "source": [
    "2. readline(): The readline() method reads one line of a file at a time. Each time you call this method, it reads the next line of the file. If you call it again, it will read the next line, and so on until it reaches the end of the file.\n"
   ]
  },
  {
   "cell_type": "code",
   "execution_count": 35,
   "id": "05210bdf",
   "metadata": {},
   "outputs": [
    {
     "name": "stdout",
     "output_type": "stream",
     "text": [
      "Data Science Masters course is highly curated and uniquely designed according to the latest industry standards. This program instills students the skills essential to knowledge \n",
      "\n",
      "discovery efforts to identify standard, novel, and truly differentiated \n",
      "\n"
     ]
    }
   ],
   "source": [
    "with open(\"test5.txt\",\"r\") as f :\n",
    "    print(f.readline())\n",
    "    print(f.readline())\n"
   ]
  },
  {
   "cell_type": "markdown",
   "id": "93380533",
   "metadata": {},
   "source": [
    "3. readlines(): The readlines() method reads the entire content of a file as a list of strings. Each string in the list represents a line of the file. If you specify the optional argument sizehint, it will read up to sizehint bytes from the file."
   ]
  },
  {
   "cell_type": "code",
   "execution_count": 36,
   "id": "19a878c7",
   "metadata": {},
   "outputs": [
    {
     "name": "stdout",
     "output_type": "stream",
     "text": [
      "['Data Science Masters course is highly curated and uniquely designed according to the latest industry standards. This program instills students the skills essential to knowledge \\n', 'discovery efforts to identify standard, novel, and truly differentiated \\n', 'solutions and decision-making, including skills in managing,\\n', ' querying, analyzing, visualizing, and extracting meaning from extremely large data sets. \\n', 'This trending program provides students with the statistical, mathematical \\n', \"and computational skills needed to meet the large-scale data science challenges of today's professional\\n\", ' world. You will learn all the stack required to work in data science industry including cloud infrastructure and real-time industry projects.']\n"
     ]
    }
   ],
   "source": [
    "with open(\"test5.txt\",\"r\") as f :\n",
    "    print(f.readlines())"
   ]
  },
  {
   "cell_type": "markdown",
   "id": "458ca98f",
   "metadata": {},
   "source": [
    "## Question 5 : Explain why with statement is used with open(). What is the advantage of using with statement and open() together\n",
    "---"
   ]
  },
  {
   "cell_type": "markdown",
   "id": "72317525",
   "metadata": {},
   "source": [
    "The with statement is used along with the open() function to ensure that a file is closed after its operations are done. The advantage of using the with statement with the open() function is that it provides a clean and easy-to-use syntax to open and close files automatically, without the need to manually close them.\n",
    "\n",
    "When you use the with statement, Python takes care of closing the file after the block of code inside the with statement completes, even if there is an exception or error during the execution of the block. This is useful because it ensures that the file is properly closed and any resources used by the file are released, preventing potential issues like data loss, corrupted files, or performance problems."
   ]
  },
  {
   "cell_type": "code",
   "execution_count": 38,
   "id": "765abf35",
   "metadata": {},
   "outputs": [
    {
     "name": "stdout",
     "output_type": "stream",
     "text": [
      "Data Science Masters course is highly curated and uniquely designed according to the latest industry standards. This program instills students the skills essential to knowledge \n",
      "discovery efforts to identify standard, novel, and truly differentiated \n",
      "solutions and decision-making, including skills in managing,\n",
      " querying, analyzing, visualizing, and extracting meaning from extremely large data sets. \n",
      "This trending program provides students with the statistical, mathematical \n",
      "and computational skills needed to meet the large-scale data science challenges of today's professional\n",
      " world. You will learn all the stack required to work in data science industry including cloud infrastructure and real-time industry projects.\n"
     ]
    }
   ],
   "source": [
    "# for example :-\n",
    "\n",
    "with open(\"test5.txt\",\"r\") as f :\n",
    "    var=f.read()\n",
    "    print(var)"
   ]
  },
  {
   "cell_type": "markdown",
   "id": "8d5be478",
   "metadata": {},
   "source": [
    "We use the with statement to open a file named test5.txt' in read mode, and we read the content of the file into a variable named content. After the block of code inside the with statement completes, Python automatically closes the file, freeing any resources used by the file.\n",
    "\n",
    "Using the with statement with the open() function provides a more readable and efficient way of working with files, as it reduces the chance of introducing bugs related to forgetting to close files, and it ensures that resources are properly managed."
   ]
  },
  {
   "cell_type": "markdown",
   "id": "6d725eaa",
   "metadata": {},
   "source": [
    "## Question 6: Explain the write() and writelines() functions. Give a suitable example\n",
    "---"
   ]
  },
  {
   "cell_type": "markdown",
   "id": "b2affedd",
   "metadata": {},
   "source": [
    "1. The write() function will write the content in the file without adding any extra characters.<br>\n",
    " While writing data to a file, we must know that the write function does not add a newline character(\\n) to the end of the string.<br>\n",
    " The write() function returns None."
   ]
  },
  {
   "cell_type": "code",
   "execution_count": 50,
   "id": "adac706f",
   "metadata": {},
   "outputs": [
    {
     "name": "stdout",
     "output_type": "stream",
     "text": [
      "pwskills\n"
     ]
    }
   ],
   "source": [
    "with open(\"exam.txt\",\"w\") as f :\n",
    "    f.write(\"pwskills\")\n",
    "    \n",
    "with open(\"exam.txt\",\"r\") as f :\n",
    "    print(f.read())"
   ]
  },
  {
   "cell_type": "markdown",
   "id": "b4d91e94",
   "metadata": {},
   "source": [
    "2. writelines(): This function writes the content of a list to a file.<br>\n",
    "the list of strings that is passed to the writelines() function is written into the opened file.<br>\n",
    "Similar to the write() function, the writelines() function does not add a newline character(\\n) to the end of the string"
   ]
  },
  {
   "cell_type": "code",
   "execution_count": 46,
   "id": "a4622b6a",
   "metadata": {},
   "outputs": [
    {
     "name": "stdout",
     "output_type": "stream",
     "text": [
      "data science masters \n",
      "web dev \n",
      "java with dsa \n"
     ]
    }
   ],
   "source": [
    "with open(\"exam1.txt\",\"w\") as f :\n",
    "    f.writelines([\"data science masters \\n\",\"web dev \\n\",\"java with dsa \"])\n",
    "    \n",
    "with open(\"exam1.txt\",\"r\") as f :\n",
    "    print(f.read())"
   ]
  },
  {
   "cell_type": "code",
   "execution_count": null,
   "id": "cca88aef",
   "metadata": {},
   "outputs": [],
   "source": []
  }
 ],
 "metadata": {
  "kernelspec": {
   "display_name": "Python 3 (ipykernel)",
   "language": "python",
   "name": "python3"
  },
  "language_info": {
   "codemirror_mode": {
    "name": "ipython",
    "version": 3
   },
   "file_extension": ".py",
   "mimetype": "text/x-python",
   "name": "python",
   "nbconvert_exporter": "python",
   "pygments_lexer": "ipython3",
   "version": "3.9.13"
  }
 },
 "nbformat": 4,
 "nbformat_minor": 5
}
