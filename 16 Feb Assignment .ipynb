{
 "cells": [
  {
   "cell_type": "markdown",
   "id": "03c2ec58",
   "metadata": {},
   "source": [
    "## Question 1: What is a database? Differentiate between SQL and NoSQL databases.\n",
    "---"
   ]
  },
  {
   "cell_type": "markdown",
   "id": "a4460770",
   "metadata": {},
   "source": [
    "## Answer:\n",
    "\n",
    "A database is a collection of organized data that is stored and managed on a computer system. It allows for efficient storage, retrieval, and manipulation of large amounts of data. A database system typically consists of software that manages the data, a database server that stores the data, and one or more applications that access the data. It is an organized collection of data that can be easily accessed, managed, and updated. It can be a physical or a digital storage system where data is stored in tables, documents, key-value pairs, or graphs, depending on the type of database.\n",
    "\n",
    "\n",
    "\n",
    "SQL (Structured Query Language) and NoSQL (Not only SQL) are two different types of database management systems that use different methods for storing and retrieving data. Here are some key differences between the two:\n",
    "\n",
    "|      Feature   | SQL databases                              | NoSQL databases                    |\n",
    "| :---------:    | :----------------------------------------  | :--------------------------------  |\n",
    "| Data model     | Relational data model                      | Flexible data model                |\n",
    "| Query language | SQL                                        | Database-specific query language   |\n",
    "| Scalability    | Vertically scalable                        | Horizontally scalable              |\n",
    "| Consistency    | Strong consistency                         | May offer weaker consistency models|\n",
    "| Usage          | Complex queries and transactions           | Fast and flexible data processing  |\n",
    "\n",
    "Here are some examples of each databases:\n",
    "1. SQL Databases:\n",
    "    * mySQL\n",
    "    * Oracle\n",
    "    * PostgreSQL\n",
    "    * Microsoft SQL Server\n",
    "    * SQLite\n",
    "2. NoSQL Databases:\n",
    "    * MongoDB (document-oriented)\n",
    "    * Cassandra (column-family)\n",
    "    * Redis (key-value)\n",
    "    * Neo4j (graph)\n",
    "    * Amazon DynamoDB (document-oriented)\n",
    "\n",
    "It's worth noting that there are many different types of NoSQL databases, each with their own strengths and weaknesses. For example, document-oriented databases like MongoDB are great for storing unstructured data such as JSON documents, while graph databases like Neo4j are ideal for modeling complex relationships between data points.\n",
    "\n",
    "Similarly, there are many different types of SQL databases, each with their own features and benefits. For example, MySQL is a popular choice for web applications due to its fast performance and scalability, while PostgreSQL is often used for data warehousing and business intelligence applications due to its advanced query optimization capabilities.\n",
    "\n",
    "Ultimately, the choice between SQL and NoSQL databases will depend on the specific requirements of your application and the type of data you need to store and process.\n",
    "\n",
    "\n",
    "\n",
    "SQL (Structured Query Language) and NoSQL (Not only SQL) are two types of database management systems that differ in their data models, query languages, and scalability.\n",
    "\n",
    "SQL databases are relational databases that store data in tables with a predefined schema. SQL databases use a declarative language (SQL) to manipulate data and support ACID (Atomicity, Consistency, Isolation, and Durability) transactions. Examples of SQL databases include MySQL, Oracle, and PostgreSQL.\n",
    "\n",
    "NoSQL databases, on the other hand, are non-relational databases that store data in flexible, schemaless documents, key-value pairs, or graphs. NoSQL databases use various query languages, including document-oriented query language, graph query language, or key-value query language, to manipulate data. NoSQL databases are designed for scalability and high availability and can handle big data efficiently. Examples of NoSQL databases include MongoDB, Cassandra, and Redis.\n",
    "\n",
    "In summary, SQL databases are well-suited for structured data with a fixed schema and support ACID transactions, while NoSQL databases are designed for unstructured or semi-structured data and offer greater scalability and flexibility."
   ]
  },
  {
   "cell_type": "markdown",
   "id": "2a27b926",
   "metadata": {},
   "source": [
    "## Question 2: What is DDL? Explain why CREATE, DROP, ALTER, and TRUNCATE are used with an example.\n",
    "---"
   ]
  },
  {
   "cell_type": "markdown",
   "id": "603db47b",
   "metadata": {},
   "source": [
    "DDL stands for Data Definition Language, which is a subset of SQL statements used to define and manage the structure of a database.\n",
    "\n",
    "CREATE is a DDL statement that is used to create a new database, table, view, or other database object. For example, to create a new table named \"employees\" with columns for ID, name, and department, the following SQL statement can be used:\n",
    "\n",
    "\n"
   ]
  },
  {
   "cell_type": "raw",
   "id": "94b90240",
   "metadata": {},
   "source": [
    "create table employee ( id int primary key , name varchar(200) , department varchar(30) ) ;"
   ]
  },
  {
   "cell_type": "markdown",
   "id": "4bad93c2",
   "metadata": {},
   "source": [
    "DROP is a DDL statement used to delete an existing database, table, view, or other database object. For example, to delete the \"employees\" table, the following SQL statement can be used:"
   ]
  },
  {
   "cell_type": "raw",
   "id": "a05dce8d",
   "metadata": {},
   "source": [
    "drop table employees ;"
   ]
  },
  {
   "cell_type": "markdown",
   "id": "f9645157",
   "metadata": {},
   "source": [
    "ALTER is a DDL statement used to modify the structure of an existing database object. For example, to add a new column for \"salary\" to the \"employees\" table, the following SQL statement can be used:"
   ]
  },
  {
   "cell_type": "raw",
   "id": "a99d0f75",
   "metadata": {},
   "source": [
    "alter table employees \n",
    "add column salary int ;"
   ]
  },
  {
   "cell_type": "markdown",
   "id": "8a02d41d",
   "metadata": {},
   "source": [
    "TRUNCATE is a DDL statement used to remove all data from a table, but keep the table structure intact. For example, to remove all data from the \"employees\" table, the following SQL statement can be used:\n",
    "\n"
   ]
  },
  {
   "cell_type": "raw",
   "id": "e57a294d",
   "metadata": {},
   "source": [
    "truncate table employees ;\n"
   ]
  },
  {
   "cell_type": "markdown",
   "id": "7000191a",
   "metadata": {},
   "source": [
    "In summary, DDL statements like CREATE, DROP, ALTER, and TRUNCATE are used to define and manage the structure of a database and its objects."
   ]
  },
  {
   "cell_type": "markdown",
   "id": "0f158b72",
   "metadata": {},
   "source": [
    "## Question 3: What is DML? Explain INSERT, UPDATE, and DELETE with an example.\n",
    "---"
   ]
  },
  {
   "cell_type": "markdown",
   "id": "f6b9cff4",
   "metadata": {},
   "source": [
    "DML stands for Data Manipulation Language and is used to manipulate data stored in a database. It includes commands such as INSERT, UPDATE, and DELETE.\n",
    "\n",
    "INSERT: The INSERT statement is used to add new records to a table. Here's an example:"
   ]
  },
  {
   "cell_type": "raw",
   "id": "818e021a",
   "metadata": {},
   "source": [
    "insert into employee ( first_name , last_name , email )\n",
    "values('john' , 'doe' , 'john.doe@gmail.com');"
   ]
  },
  {
   "cell_type": "markdown",
   "id": "d9ac866c",
   "metadata": {},
   "source": [
    "This statement inserts a new record with the values 'John', 'Doe', and 'john.doe@email.com' into the 'employees' table.\n",
    "\n",
    "UPDATE: The UPDATE statement is used to modify existing records in a table. Here's an example:"
   ]
  },
  {
   "cell_type": "raw",
   "id": "6d324877",
   "metadata": {},
   "source": [
    "update employees \n",
    "set salary = 60000\n",
    "where employee_id=1234 ;"
   ]
  },
  {
   "cell_type": "markdown",
   "id": "61737a5c",
   "metadata": {},
   "source": [
    "This statement updates the 'salary' column for the record with an 'employee_id' of 1234 in the 'employees' table to 60000.\n",
    "\n",
    "DELETE: The DELETE statement is used to delete records from a table. Here's an example:\n"
   ]
  },
  {
   "cell_type": "raw",
   "id": "e38e4a83",
   "metadata": {},
   "source": [
    "delete from employees \n",
    "where employee_id =5678 ;\n"
   ]
  },
  {
   "cell_type": "markdown",
   "id": "075efb5a",
   "metadata": {},
   "source": [
    "This statement deletes the record with an 'employee_id' of 5678 from the 'employees' table."
   ]
  },
  {
   "cell_type": "markdown",
   "id": "534b27f2",
   "metadata": {},
   "source": [
    "## Question 4: What is DQL? Explain SELECT with an example.\n",
    "---"
   ]
  },
  {
   "cell_type": "markdown",
   "id": "bdec1194",
   "metadata": {},
   "source": [
    "DQL stands for Data Query Language, which is a subset of SQL that is used to retrieve data from a database. The most commonly used DQL command is SELECT, which is used to select data from a table in a database.\n",
    "\n",
    "The basic syntax for the SELECT command is as follows:\n",
    "\n",
    "\n"
   ]
  },
  {
   "cell_type": "code",
   "execution_count": null,
   "id": "6899b023",
   "metadata": {},
   "outputs": [],
   "source": [
    "select cloumn1 , column2 , ... from table_name where condition  ;"
   ]
  },
  {
   "cell_type": "markdown",
   "id": "5fca2993",
   "metadata": {},
   "source": [
    "column1, column2, etc.: the columns you want to retrieve data from (you can use * to retrieve data from all columns).\n",
    "\n",
    "table_name: the name of the table you want to retrieve data from.\n",
    "\n",
    "WHERE clause (optional): specifies a condition that must be satisfied for the data to be retrieved.\n",
    "For example, let's say we have a table named students with the following data:"
   ]
  },
  {
   "cell_type": "code",
   "execution_count": null,
   "id": "72eff116",
   "metadata": {},
   "outputs": [],
   "source": [
    "+----+---------+-------+-----+\n",
    "| id | name    | grade | age |\n",
    "+----+---------+-------+-----+\n",
    "| 1  | Alice   | A     | 20  |\n",
    "| 2  | Bob     | B     | 21  |\n",
    "| 3  | Charlie | A     | 19  |\n",
    "+----+---------+-------+-----+"
   ]
  },
  {
   "cell_type": "markdown",
   "id": "2bfbf774",
   "metadata": {},
   "source": [
    "To select all columns from the students table, we can use the following command:"
   ]
  },
  {
   "cell_type": "code",
   "execution_count": null,
   "id": "e626c82d",
   "metadata": {},
   "outputs": [],
   "source": [
    "select * from students ;"
   ]
  },
  {
   "cell_type": "markdown",
   "id": "22b9d305",
   "metadata": {},
   "source": [
    "This will return the following result:\n",
    "\n"
   ]
  },
  {
   "cell_type": "code",
   "execution_count": null,
   "id": "e92f08e6",
   "metadata": {},
   "outputs": [],
   "source": [
    "+----+---------+-------+-----+\n",
    "| id | name    | grade | age |\n",
    "+----+---------+-------+-----+\n",
    "| 1  | Alice   | A     | 20  |\n",
    "| 2  | Bob     | B     | 21  |\n",
    "| 3  | Charlie | A     | 19  |\n",
    "+----+---------+-------+-----+"
   ]
  },
  {
   "cell_type": "markdown",
   "id": "30e83a90",
   "metadata": {},
   "source": [
    "To select specific columns from the students table, we can specify the column names separated by commas:\n",
    "\n"
   ]
  },
  {
   "cell_type": "code",
   "execution_count": null,
   "id": "cf5eaa02",
   "metadata": {},
   "outputs": [],
   "source": [
    "select name , grade from students ;"
   ]
  },
  {
   "cell_type": "markdown",
   "id": "e40fad1d",
   "metadata": {},
   "source": [
    "This will return the following result:\n",
    "\n"
   ]
  },
  {
   "cell_type": "code",
   "execution_count": null,
   "id": "07b02036",
   "metadata": {},
   "outputs": [],
   "source": [
    "+---------+-------+\n",
    "| name    | grade |\n",
    "+---------+-------+\n",
    "| Alice   | A     |\n",
    "| Bob     | B     |\n",
    "| Charlie | A     |\n",
    "+---------+-------+"
   ]
  },
  {
   "cell_type": "markdown",
   "id": "f5ed9e75",
   "metadata": {},
   "source": [
    "We can also use the WHERE clause to specify a condition for the data to be retrieved. For example, to select only the students who are 20 years old, we can use the following command:\n",
    "\n"
   ]
  },
  {
   "cell_type": "code",
   "execution_count": null,
   "id": "b287453d",
   "metadata": {},
   "outputs": [],
   "source": [
    "select * from students where age =20 ;"
   ]
  },
  {
   "cell_type": "markdown",
   "id": "615781dd",
   "metadata": {},
   "source": [
    "This will return the following result:\n",
    "\n"
   ]
  },
  {
   "cell_type": "code",
   "execution_count": null,
   "id": "f7beec18",
   "metadata": {},
   "outputs": [],
   "source": [
    "+----+-------+-------+-----+\n",
    "| id | name  | grade | age |\n",
    "+----+-------+-------+-----+\n",
    "| 1  | Alice | A     | 20  |\n",
    "+----+-------+-------+-----+"
   ]
  },
  {
   "cell_type": "markdown",
   "id": "8f5dd732",
   "metadata": {},
   "source": [
    "## Question 5: Explain Primary Key and Foreign Key.\n",
    "---"
   ]
  },
  {
   "cell_type": "markdown",
   "id": "d4c1fa61",
   "metadata": {},
   "source": [
    "# primary key\n",
    "primary key generally focuses on the uniqueness of the table. It assures the value in the specific column is unique.\n",
    "# foreign key\n",
    "foreign key is generally used to build a relationship between the two tables."
   ]
  },
  {
   "cell_type": "markdown",
   "id": "fabcd4c8",
   "metadata": {},
   "source": [
    "## Question 6: Write a python code to connect MySQL to python. Explain the cursor() and execute() method\n",
    "---"
   ]
  },
  {
   "cell_type": "markdown",
   "id": "f7bc1a0d",
   "metadata": {},
   "source": [
    "Sure, here's an example code to connect to MySQL in Python using the mysql-connector library:"
   ]
  },
  {
   "cell_type": "code",
   "execution_count": null,
   "id": "1bfb2b5b",
   "metadata": {},
   "outputs": [],
   "source": [
    "import mysql.connector \n",
    "\n",
    "\n",
    "# establishing the connection \n",
    "\n",
    "mydb=mysql.connector.connect(\n",
    "host =\"localhost\" ,\n",
    "user=\"username\" , \n",
    "password=\"password\" , \n",
    "database=\"databasename\"\n",
    ")\n",
    "\n",
    "\n",
    "# creating a cursor object \n",
    "\n",
    "mycursor=mydb.cursor()\n",
    "\n",
    "\n",
    "# executing a sql query \n",
    "\n",
    "mycursor.execute(\"select * from table_name\")\n",
    "\n",
    "\n",
    "# fetching the results \n",
    "\n",
    "result = mycursor.fetchall()\n",
    "\n",
    "# printing the results \n",
    "\n",
    "\n",
    "for row in result :\n",
    "    print(row)"
   ]
  },
  {
   "cell_type": "markdown",
   "id": "e007cd31",
   "metadata": {},
   "source": [
    "In the above code, we first import the mysql.connector library and then establish a connection to the MySQL server using the connect() method. We pass the required parameters such as the host, username, password, and database name to this method.\n",
    "\n",
    "Next, we create a cursor object using the cursor() method of the connection object. This cursor is used to execute SQL queries and fetch the results.\n",
    "\n",
    "We then execute an SQL query using the execute() method of the cursor object. This method takes the SQL query as a parameter and executes it on the database.\n",
    "\n",
    "Finally, we fetch the results using the fetchall() method of the cursor object, which returns all the rows of the result set as a list of tuples. We then iterate over this list and print each row.\n",
    "\n",
    "The cursor() method creates a cursor object which is used to execute SQL queries and fetch the results. The execute() method is used to execute an SQL query on the database. It takes the SQL query as a parameter and returns the result (if any) of the query. The fetchall() method is used to fetch all the rows of the result set as a list of tuples."
   ]
  },
  {
   "cell_type": "markdown",
   "id": "e8a2bdb2",
   "metadata": {},
   "source": [
    "## Question 7: Give the order of execution of SQL clauses in an SQL query.\n",
    "---"
   ]
  },
  {
   "cell_type": "markdown",
   "id": "ccc07c1d",
   "metadata": {},
   "source": [
    "## Answer: In an SQL query, the clauses are executed in the following order:\n",
    "1. FROM clause: Specifies the table or tables from which to retrieve data.\n",
    "\n",
    "2. JOIN clause: Specifies how to join multiple tables together, if needed.\n",
    "\n",
    "3. WHERE clause: Specifies which rows to retrieve based on a set of conditions.\n",
    "\n",
    "4. GROUP BY clause: Specifies how to group rows based on one or more columns.\n",
    "\n",
    "5. HAVING clause: Specifies which groups to retrieve based on a set of conditions.\n",
    "\n",
    "6. SELECT clause: Specifies which columns to retrieve.\n",
    "\n",
    "7. DISTINCT clause: Specifies to retrieve only distinct values of the specified columns.\n",
    "\n",
    "8. ORDER BY clause: Specifies how to sort the retrieved rows based on one or more columns.\n",
    "\n",
    "9. LIMIT clause: Specifies the maximum number of rows to retrieve.\n",
    "\n",
    "\n",
    "\n"
   ]
  },
  {
   "cell_type": "code",
   "execution_count": null,
   "id": "5b3fce90",
   "metadata": {},
   "outputs": [],
   "source": []
  }
 ],
 "metadata": {
  "kernelspec": {
   "display_name": "Python 3 (ipykernel)",
   "language": "python",
   "name": "python3"
  },
  "language_info": {
   "codemirror_mode": {
    "name": "ipython",
    "version": 3
   },
   "file_extension": ".py",
   "mimetype": "text/x-python",
   "name": "python",
   "nbconvert_exporter": "python",
   "pygments_lexer": "ipython3",
   "version": "3.9.13"
  }
 },
 "nbformat": 4,
 "nbformat_minor": 5
}
