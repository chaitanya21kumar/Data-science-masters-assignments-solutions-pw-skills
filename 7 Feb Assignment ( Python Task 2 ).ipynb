{
 "cells": [
  {
   "cell_type": "markdown",
   "id": "847429f2",
   "metadata": {},
   "source": [
    "## Question 1: You are writing code for a company. The requirement of the company is that you create a python function that will check wether password entered by user is correct or not. The function should take password as input and return the string \"Valid Password\" if password follows below given password guidelines else it should return \"Invalid Password\"\n",
    "\n",
    "### Note : \n",
    "1. The Password should contain atleast 2 uppercase letters and 2 lowercase letters. \n",
    "2. The Password should contain atleast a number and 3 special characters.\n",
    "3. The length of password should be 10 characters long.\n",
    "---"
   ]
  },
  {
   "cell_type": "code",
   "execution_count": 5,
   "id": "46deebd4",
   "metadata": {},
   "outputs": [
    {
     "name": "stdout",
     "output_type": "stream",
     "text": [
      "enter passwordQWas1!@#zx\n",
      "valid password\n"
     ]
    }
   ],
   "source": [
    "def password_validation(password):\n",
    "    digit_count=0\n",
    "    lower_count=0\n",
    "    upper_count=0\n",
    "    special_count=0\n",
    "    \n",
    "    for x in password :\n",
    "        if x.isupper():\n",
    "            upper_count+=1\n",
    "        if x.islower():\n",
    "            lower_count+=1\n",
    "        if x.isdigit():\n",
    "            digit_count+=1\n",
    "        if not(x.isalnum()):\n",
    "            special_count+=1\n",
    "    if upper_count>=2 and lower_count>=2 and special_count>=3 and digit_count>=1 and len(password)==10:\n",
    "        print(\"valid password\")\n",
    "    else :\n",
    "        print(\"invalid password\")\n",
    "        \n",
    "password=input(\"enter password\")\n",
    "password_validation(password)"
   ]
  },
  {
   "cell_type": "markdown",
   "id": "2bce0892",
   "metadata": {},
   "source": [
    "# Q2. Solve the below-given questions using at least one of the following: \n",
    "\n",
    "1. Lambda function\n",
    "2. Filter function\n",
    "3. Map function\n",
    "4. List Comprehension\n",
    "\n",
    "-  Check if the string starts with a particular letter.\n",
    "-  Check if the string is numeric. \n",
    "-  Sort a list of tuples having fruit names and their quantity. [(\"mango\",99),(\"orange\",80), (\"grapes\", 1000)] \n",
    "-  Find the squares of numbers from 1 to 10. \n",
    "-  Find the cube root of numbers from 1 to 10. \n",
    "-  Check if a given number is even. \n",
    "-  Filter odd numbers from the given list.\n",
    "   [1,2,3,4,5,6,7,8,9,10] \n",
    "-  Sort a list of integers into positive and negative integers lists.\n",
    "   [1,2,3,4,5,6,-1,-2,-3,-4,-5,0] "
   ]
  },
  {
   "cell_type": "code",
   "execution_count": 12,
   "id": "d39141d6",
   "metadata": {},
   "outputs": [
    {
     "data": {
      "text/plain": [
       "True"
      ]
     },
     "execution_count": 12,
     "metadata": {},
     "output_type": "execute_result"
    }
   ],
   "source": [
    "#Check if the string starts with a particular letter\n",
    "\n",
    "a=\"Pwskills\"\n",
    "b=lambda a: a.startswith(\"P\")\n",
    "b(a)"
   ]
  },
  {
   "cell_type": "code",
   "execution_count": 16,
   "id": "cf5f3909",
   "metadata": {},
   "outputs": [
    {
     "data": {
      "text/plain": [
       "True"
      ]
     },
     "execution_count": 16,
     "metadata": {},
     "output_type": "execute_result"
    }
   ],
   "source": [
    "#Check if the string is numeric\n",
    "\n",
    "q=\"123\"\n",
    "x=lambda p: p.isnumeric()\n",
    "x(q)"
   ]
  },
  {
   "cell_type": "code",
   "execution_count": 20,
   "id": "38573243",
   "metadata": {},
   "outputs": [
    {
     "data": {
      "text/plain": [
       "[('orange', 80), ('mango', 99), ('grapes', 1000)]"
      ]
     },
     "execution_count": 20,
     "metadata": {},
     "output_type": "execute_result"
    }
   ],
   "source": [
    "#Sort a list of tuples having fruit names and their quantity. [(\"mango\",99),(\"orange\",80), (\"grapes\", 1000)] \n",
    "\n",
    "#sorting based on quantity\n",
    "\n",
    "l=[(\"mango\",99),(\"orange\",80), (\"grapes\", 1000)] \n",
    "a=sorted(l,key = lambda x :x[1])\n",
    "a\n"
   ]
  },
  {
   "cell_type": "code",
   "execution_count": 22,
   "id": "28b89254",
   "metadata": {},
   "outputs": [
    {
     "data": {
      "text/plain": [
       "[('grapes', 1000), ('mango', 99), ('orange', 80)]"
      ]
     },
     "execution_count": 22,
     "metadata": {},
     "output_type": "execute_result"
    }
   ],
   "source": [
    "#sorting based on fruit names \n",
    "\n",
    "l=[(\"mango\",99),(\"orange\",80), (\"grapes\", 1000)] \n",
    "b=sorted(l,key=lambda x : x[0])\n",
    "b\n",
    "\n",
    "\n"
   ]
  },
  {
   "cell_type": "code",
   "execution_count": 25,
   "id": "64f1441d",
   "metadata": {},
   "outputs": [
    {
     "data": {
      "text/plain": [
       "[1, 4, 9, 16, 25, 36, 49, 64, 81, 100]"
      ]
     },
     "execution_count": 25,
     "metadata": {},
     "output_type": "execute_result"
    }
   ],
   "source": [
    "#Find the squares of numbers from 1 to 10\n",
    "\n",
    "# method 1 ( using list comprehension )\n",
    "\n",
    "[ x**2 for x in range(1,11)]"
   ]
  },
  {
   "cell_type": "code",
   "execution_count": 28,
   "id": "68d6ec2a",
   "metadata": {},
   "outputs": [
    {
     "data": {
      "text/plain": [
       "[1, 4, 9, 16, 25, 36, 49, 64, 81, 100]"
      ]
     },
     "execution_count": 28,
     "metadata": {},
     "output_type": "execute_result"
    }
   ],
   "source": [
    "# method 2 ( using lambda , map function )\n",
    "\n",
    "a=range(1,11)\n",
    "b=map(lambda x :pow(x,2),a)\n",
    "list(b)"
   ]
  },
  {
   "cell_type": "code",
   "execution_count": 32,
   "id": "fcbe84e3",
   "metadata": {},
   "outputs": [
    {
     "data": {
      "text/plain": [
       "[1.0,\n",
       " 1.2599210498948732,\n",
       " 1.4422495703074083,\n",
       " 1.5874010519681994,\n",
       " 1.7099759466766968,\n",
       " 1.8171205928321397,\n",
       " 1.912931182772389,\n",
       " 2.0,\n",
       " 2.080083823051904,\n",
       " 2.154434690031884]"
      ]
     },
     "execution_count": 32,
     "metadata": {},
     "output_type": "execute_result"
    }
   ],
   "source": [
    "#Find the cube root of numbers from 1 to 10\n",
    "\n",
    "# method 1\n",
    "\n",
    "[ pow(x,(1/3)) for x in range(1,11)]"
   ]
  },
  {
   "cell_type": "code",
   "execution_count": 31,
   "id": "9faac2c5",
   "metadata": {},
   "outputs": [
    {
     "name": "stdout",
     "output_type": "stream",
     "text": [
      "[1.0, 1.2599210498948732, 1.4422495703074083, 1.5874010519681994, 1.7099759466766968, 1.8171205928321397, 1.912931182772389, 2.0, 2.080083823051904, 2.154434690031884] "
     ]
    }
   ],
   "source": [
    "# method 2\n",
    "\n",
    "a=range(1,11)\n",
    "b=map(lambda x :x**(1/3),a)\n",
    "print(list(b),end=\" \")"
   ]
  },
  {
   "cell_type": "code",
   "execution_count": 39,
   "id": "d7cc598f",
   "metadata": {},
   "outputs": [
    {
     "data": {
      "text/plain": [
       "[1.0,\n",
       " 1.2599210498948732,\n",
       " 1.4422495703074083,\n",
       " 1.5874010519681996,\n",
       " 1.709975946676697,\n",
       " 1.8171205928321397,\n",
       " 1.9129311827723892,\n",
       " 2.0,\n",
       " 2.080083823051904,\n",
       " 2.154434690031884]"
      ]
     },
     "execution_count": 39,
     "metadata": {},
     "output_type": "execute_result"
    }
   ],
   "source": [
    "# method 3 \n",
    "\n",
    "import numpy as np \n",
    "[ np.cbrt(x) for x in range(1,11)]"
   ]
  },
  {
   "cell_type": "code",
   "execution_count": 23,
   "id": "00eacb4e",
   "metadata": {},
   "outputs": [
    {
     "name": "stdout",
     "output_type": "stream",
     "text": [
      "enter any number121\n",
      "odd\n"
     ]
    }
   ],
   "source": [
    "# Check if a given number is even\n",
    "\n",
    "x=int(input(\"enter any number\"))\n",
    "y=lambda z : print(\"even\") if z%2==0 else print(\"odd\")\n",
    "y(x)"
   ]
  },
  {
   "cell_type": "code",
   "execution_count": 24,
   "id": "46f2d6ec",
   "metadata": {},
   "outputs": [
    {
     "data": {
      "text/plain": [
       "[1, 3, 5, 7, 9]"
      ]
     },
     "execution_count": 24,
     "metadata": {},
     "output_type": "execute_result"
    }
   ],
   "source": [
    "# Filter odd numbers from the given list. [1,2,3,4,5,6,7,8,9,10]\n",
    "\n",
    "l=[1,2,3,4,5,6,7,8,9,10]\n",
    "list(filter(lambda x : x%2!=0 , l))"
   ]
  },
  {
   "cell_type": "code",
   "execution_count": 36,
   "id": "00896947",
   "metadata": {},
   "outputs": [
    {
     "name": "stdout",
     "output_type": "stream",
     "text": [
      "[1, 2, 3, 4, 5, 6] \n",
      " [-1, -2, -3, -4, -5]\n"
     ]
    }
   ],
   "source": [
    "#Sort a list of integers into positive and negative integers lists. [1,2,3,4,5,6,-1,-2,-3,-4,-5,0]\n",
    "\n",
    "# method 1 \n",
    "\n",
    "l=[1,2,3,4,5,6,-1,-2,-3,-4,-5,0]\n",
    "\n",
    "p=list(filter(lambda x : x>0 , l ))\n",
    "n=list(filter(lambda x : x<0 , l))\n",
    "print(p,\"\\n\",n)"
   ]
  },
  {
   "cell_type": "code",
   "execution_count": 33,
   "id": "27dc5704",
   "metadata": {},
   "outputs": [
    {
     "name": "stdout",
     "output_type": "stream",
     "text": [
      "[1, 2, 3, 4, 5, 6]\n",
      "[-1, -2, -3, -4, -5]\n"
     ]
    }
   ],
   "source": [
    "# method 2\n",
    "\n",
    "l=[1,2,3,4,5,6,-1,-2,-3,-4,-5,0]\n",
    "print([a for a in l if a >0])\n",
    "print([b for b in l if b<0])"
   ]
  }
 ],
 "metadata": {
  "kernelspec": {
   "display_name": "Python 3 (ipykernel)",
   "language": "python",
   "name": "python3"
  },
  "language_info": {
   "codemirror_mode": {
    "name": "ipython",
    "version": 3
   },
   "file_extension": ".py",
   "mimetype": "text/x-python",
   "name": "python",
   "nbconvert_exporter": "python",
   "pygments_lexer": "ipython3",
   "version": "3.9.13"
  }
 },
 "nbformat": 4,
 "nbformat_minor": 5
}
