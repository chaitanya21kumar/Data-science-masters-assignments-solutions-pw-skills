{
 "cells": [
  {
   "cell_type": "markdown",
   "id": "5afd4c14-1ff0-4008-b732-f8a004f65be8",
   "metadata": {},
   "source": [
    "## Question 1: Create a Pandas Series that contains the following data: 4, 8, 15, 16, 23, and 42. Then, print the series.\n",
    "---"
   ]
  },
  {
   "cell_type": "code",
   "execution_count": 2,
   "id": "65aa2dd4-b806-4d6d-9361-2716523e30b3",
   "metadata": {},
   "outputs": [
    {
     "name": "stdout",
     "output_type": "stream",
     "text": [
      "0     4\n",
      "1     8\n",
      "2    15\n",
      "3    16\n",
      "4    23\n",
      "5    42\n",
      "dtype: int64\n"
     ]
    }
   ],
   "source": [
    "import pandas as pd \n",
    "a=pd.Series([4,8,15,16,23,42])\n",
    "print(a)"
   ]
  },
  {
   "cell_type": "markdown",
   "id": "1e280e22-51d1-4f15-a297-302635b19330",
   "metadata": {},
   "source": [
    "## Question 2: Create a variable of list type containing 10 elements in it, and apply pandas.Series function on the variable print it.\n",
    "---"
   ]
  },
  {
   "cell_type": "code",
   "execution_count": 3,
   "id": "794b47b2-b7ea-4ea5-9aaa-69e80e95b11c",
   "metadata": {},
   "outputs": [
    {
     "name": "stdout",
     "output_type": "stream",
     "text": [
      "0     1\n",
      "1     2\n",
      "2     3\n",
      "3     4\n",
      "4     5\n",
      "5     6\n",
      "6     7\n",
      "7     8\n",
      "8     9\n",
      "9    10\n",
      "dtype: int64\n"
     ]
    }
   ],
   "source": [
    "b=[1,2,3,4,5,6,7,8,9,10]\n",
    "c=pd.Series(b)\n",
    "print(c)"
   ]
  },
  {
   "cell_type": "markdown",
   "id": "ccb08b1b-e429-4d8b-a4c1-8c47160651bf",
   "metadata": {},
   "source": [
    "## Question 3: Create a Pandas DataFrame that contains the following data:\n",
    "\n",
    "|Name  |Age  |Gender|\n",
    "|:----:|:---:|:----:|\n",
    "|Alice |25   |Female|\n",
    "|Bob   |30   |Male  |\n",
    "|Claire|27   |Female|\n",
    "\n",
    "## Then Print the DataFrame\n",
    "\n",
    "---"
   ]
  },
  {
   "cell_type": "code",
   "execution_count": 4,
   "id": "1623b35b-cdf5-4e09-989e-17f2be183b18",
   "metadata": {},
   "outputs": [
    {
     "data": {
      "text/html": [
       "<div>\n",
       "<style scoped>\n",
       "    .dataframe tbody tr th:only-of-type {\n",
       "        vertical-align: middle;\n",
       "    }\n",
       "\n",
       "    .dataframe tbody tr th {\n",
       "        vertical-align: top;\n",
       "    }\n",
       "\n",
       "    .dataframe thead th {\n",
       "        text-align: right;\n",
       "    }\n",
       "</style>\n",
       "<table border=\"1\" class=\"dataframe\">\n",
       "  <thead>\n",
       "    <tr style=\"text-align: right;\">\n",
       "      <th></th>\n",
       "      <th>Name</th>\n",
       "      <th>Age</th>\n",
       "      <th>Gender</th>\n",
       "    </tr>\n",
       "  </thead>\n",
       "  <tbody>\n",
       "    <tr>\n",
       "      <th>0</th>\n",
       "      <td>Alice</td>\n",
       "      <td>25</td>\n",
       "      <td>Female</td>\n",
       "    </tr>\n",
       "    <tr>\n",
       "      <th>1</th>\n",
       "      <td>Bob</td>\n",
       "      <td>30</td>\n",
       "      <td>Male</td>\n",
       "    </tr>\n",
       "    <tr>\n",
       "      <th>2</th>\n",
       "      <td>Claire</td>\n",
       "      <td>27</td>\n",
       "      <td>Female</td>\n",
       "    </tr>\n",
       "  </tbody>\n",
       "</table>\n",
       "</div>"
      ],
      "text/plain": [
       "     Name  Age  Gender\n",
       "0   Alice   25  Female\n",
       "1     Bob   30    Male\n",
       "2  Claire   27  Female"
      ]
     },
     "execution_count": 4,
     "metadata": {},
     "output_type": "execute_result"
    }
   ],
   "source": [
    "x={\"Name\":[\"Alice\",\"Bob\",\"Claire\"],\n",
    "  \"Age\":[25 , 30 , 27] ,\n",
    "  \"Gender\":[\"Female\",\"Male\",\"Female\"]}\n",
    "\n",
    "df=pd.DataFrame(x)\n",
    "df"
   ]
  },
  {
   "cell_type": "code",
   "execution_count": 5,
   "id": "890ec05b-20b4-4ef3-8f73-a0818bc58ace",
   "metadata": {},
   "outputs": [
    {
     "name": "stdout",
     "output_type": "stream",
     "text": [
      "     Name  Age  Gender\n",
      "0   Alice   25  Female\n",
      "1     Bob   30    Male\n",
      "2  Claire   27  Female\n"
     ]
    }
   ],
   "source": [
    "print(df)"
   ]
  },
  {
   "cell_type": "markdown",
   "id": "9223c9e5-19ea-4bda-ab9f-bbeb55b052d8",
   "metadata": {},
   "source": [
    "## Question 4: What is ‘DataFrame’ in pandas and how is it different from pandas.series? Explain with an example.\n",
    "---"
   ]
  },
  {
   "cell_type": "markdown",
   "id": "b4d531d3-b175-4ac2-ade3-83d2ae90cac6",
   "metadata": {},
   "source": [
    "n Pandas, a DataFrame is a two-dimensional labeled data structure with columns of potentially different types, similar to a spreadsheet or SQL table. It is a fundamental Pandas object used for data manipulation, analysis, and visualization. It is a collection of Pandas series, where each series represents a column of data.\n",
    "\n",
    "On the other hand, a Series is a one-dimensional labeled array that can hold data of any type. It can be thought of as a column in a table or a single variable. A DataFrame can be seen as a collection of Series objects, where each column of the DataFrame is a Series.\n",
    "\n"
   ]
  },
  {
   "cell_type": "markdown",
   "id": "e03e04a3-a14e-4ecd-8e67-5285f7f2b839",
   "metadata": {},
   "source": [
    "In summary, a DataFrame is a two-dimensional table-like data structure with columns and rows, where each column can be of different data types, and a Series is a one-dimensional labeled array with homogeneous data type. A DataFrame is a collection of Series objects, where each column of the DataFrame is a Series."
   ]
  },
  {
   "cell_type": "code",
   "execution_count": 6,
   "id": "be629fdd-2517-4524-97a2-055da6e64af4",
   "metadata": {},
   "outputs": [
    {
     "data": {
      "text/html": [
       "<div>\n",
       "<style scoped>\n",
       "    .dataframe tbody tr th:only-of-type {\n",
       "        vertical-align: middle;\n",
       "    }\n",
       "\n",
       "    .dataframe tbody tr th {\n",
       "        vertical-align: top;\n",
       "    }\n",
       "\n",
       "    .dataframe thead th {\n",
       "        text-align: right;\n",
       "    }\n",
       "</style>\n",
       "<table border=\"1\" class=\"dataframe\">\n",
       "  <thead>\n",
       "    <tr style=\"text-align: right;\">\n",
       "      <th></th>\n",
       "      <th>Name</th>\n",
       "      <th>Age</th>\n",
       "      <th>Gender</th>\n",
       "    </tr>\n",
       "  </thead>\n",
       "  <tbody>\n",
       "    <tr>\n",
       "      <th>0</th>\n",
       "      <td>Alice</td>\n",
       "      <td>25</td>\n",
       "      <td>Female</td>\n",
       "    </tr>\n",
       "    <tr>\n",
       "      <th>1</th>\n",
       "      <td>Bob</td>\n",
       "      <td>30</td>\n",
       "      <td>Male</td>\n",
       "    </tr>\n",
       "    <tr>\n",
       "      <th>2</th>\n",
       "      <td>Claire</td>\n",
       "      <td>27</td>\n",
       "      <td>Female</td>\n",
       "    </tr>\n",
       "  </tbody>\n",
       "</table>\n",
       "</div>"
      ],
      "text/plain": [
       "     Name  Age  Gender\n",
       "0   Alice   25  Female\n",
       "1     Bob   30    Male\n",
       "2  Claire   27  Female"
      ]
     },
     "execution_count": 6,
     "metadata": {},
     "output_type": "execute_result"
    }
   ],
   "source": [
    "# dataframe\n",
    "\n",
    "df"
   ]
  },
  {
   "cell_type": "code",
   "execution_count": 8,
   "id": "c090f82e-0dca-4984-95f2-81be0ef42e36",
   "metadata": {},
   "outputs": [
    {
     "data": {
      "text/plain": [
       "pandas.core.frame.DataFrame"
      ]
     },
     "execution_count": 8,
     "metadata": {},
     "output_type": "execute_result"
    }
   ],
   "source": [
    "type(df)"
   ]
  },
  {
   "cell_type": "code",
   "execution_count": 7,
   "id": "587d694d-a1aa-4940-9088-dad253d1d61d",
   "metadata": {},
   "outputs": [
    {
     "data": {
      "text/plain": [
       "0     Alice\n",
       "1       Bob\n",
       "2    Claire\n",
       "Name: Name, dtype: object"
      ]
     },
     "execution_count": 7,
     "metadata": {},
     "output_type": "execute_result"
    }
   ],
   "source": [
    "df['Name']"
   ]
  },
  {
   "cell_type": "code",
   "execution_count": 9,
   "id": "edbc0bf4-aff0-4791-a0ef-e034d6ea3932",
   "metadata": {},
   "outputs": [
    {
     "data": {
      "text/plain": [
       "pandas.core.series.Series"
      ]
     },
     "execution_count": 9,
     "metadata": {},
     "output_type": "execute_result"
    }
   ],
   "source": [
    "type(df['Name'])"
   ]
  },
  {
   "cell_type": "markdown",
   "id": "4a2dcb01-3158-4457-b349-1c52ad3c358c",
   "metadata": {},
   "source": [
    "## Question 5: What are some common functions you can use to manipulate data in a Pandas DataFrame? Can you give an example of when you might use one of these functions?\n",
    "---"
   ]
  },
  {
   "cell_type": "markdown",
   "id": "c0572a1c-be4b-4d35-a5c0-766665229f7d",
   "metadata": {},
   "source": [
    "There are many functions available in Pandas for manipulating data in a DataFrame. Here are some of the most common ones:\n",
    "\n",
    "head() and tail(): These functions allow you to view the first or last n rows of the DataFrame, respectively. For example, df.head(10) would show the first 10 rows of the DataFrame.\n",
    "\n",
    "info(): This function provides information about the DataFrame, including the data types of each column and the number of non-null values. For example, df.info() would show information about the DataFrame.\n",
    "\n",
    "describe(): This function generates descriptive statistics for the DataFrame, including count, mean, standard deviation, minimum, and maximum values. For example, df.describe() would show descriptive statistics for the DataFrame.\n",
    "\n",
    "drop(): This function allows you to drop one or more columns or rows from the DataFrame. For example, df.drop('column_name', axis=1) would drop the specified column from the DataFrame.\n",
    "\n",
    "groupby(): This function groups the DataFrame by one or more columns and allows you to perform operations on each group. For example, df.groupby('column_name').sum() would group the DataFrame by the specified column and calculate the sum of each group.\n",
    "\n",
    "sort_values(): This function allows you to sort the DataFrame by one or more columns. For example, df.sort_values('column_name') would sort the DataFrame by the specified column.\n",
    "\n",
    "fillna(): This function allows you to replace missing values in the DataFrame with a specified value. For example, df.fillna(0) would replace all missing values in the DataFrame with 0.\n",
    "\n",
    "One example of when you might use these functions is when you are analyzing sales data for a company. You could use head() to quickly view the first few rows of the DataFrame to get an idea of what the data looks like. You could use groupby() to group the data by region and calculate the total sales for each region. You could use sort_values() to sort the data by date to see how sales have changed over time. And you could use fillna() to replace any missing values in the data with zeros so that you can perform calculations on the data without errors.\n",
    "\n",
    "\n",
    "\n",
    "\n",
    "\n"
   ]
  },
  {
   "cell_type": "markdown",
   "id": "3e96b680-1f92-4e26-bbe7-071e1520e8ef",
   "metadata": {},
   "source": [
    "## Question 6: Which of the following is mutable in nature Series, DataFrame, Panel?\n",
    "---"
   ]
  },
  {
   "cell_type": "markdown",
   "id": "593b7a86-056e-4ab2-941b-baf6c425ac1b",
   "metadata": {},
   "source": [
    "Both Series and DataFrame are mutable in nature, while Panel is not. This means that you can modify the data in a Series or DataFrame after it has been created, but you cannot modify the data in a Panel after it has been created."
   ]
  },
  {
   "cell_type": "markdown",
   "id": "fb9f6566-e3d0-4b5c-ab56-e5ed5fef3038",
   "metadata": {},
   "source": [
    "## Question 7 : Create a DataFrame using multiple Series. Explain with an example.\n",
    "---"
   ]
  },
  {
   "cell_type": "markdown",
   "id": "f639ddd6-78be-46d4-a238-511819b3ba7c",
   "metadata": {},
   "source": [
    "To create a DataFrame using multiple Series, we can pass a dictionary of Series to the pd.DataFrame() function. Each key in the dictionary will become a column name in the DataFrame, and each value will become a Series in that column.\n",
    "\n",
    "Here is an example:"
   ]
  },
  {
   "cell_type": "code",
   "execution_count": 10,
   "id": "1c7e50e2-29bb-4d2c-be47-9b859f4c8e9d",
   "metadata": {},
   "outputs": [
    {
     "name": "stdout",
     "output_type": "stream",
     "text": [
      "     Name  Age  Gender\n",
      "0   Alice   25  Female\n",
      "1     Bob   30    Male\n",
      "2  Claire   22  Female\n"
     ]
    }
   ],
   "source": [
    "name=pd.Series(['Alice' , 'Bob' , 'Claire'])\n",
    "age=pd.Series([25,30,22])\n",
    "gender=pd.Series(['Female','Male','Female'])\n",
    "\n",
    "d={'Name':name , 'Age': age , 'Gender':gender}\n",
    "\n",
    "df1=pd.DataFrame(d)\n",
    "\n",
    "print(df1)"
   ]
  },
  {
   "cell_type": "code",
   "execution_count": 11,
   "id": "18ba8db9-e604-43a0-975f-f75d58dc9d28",
   "metadata": {},
   "outputs": [
    {
     "data": {
      "text/html": [
       "<div>\n",
       "<style scoped>\n",
       "    .dataframe tbody tr th:only-of-type {\n",
       "        vertical-align: middle;\n",
       "    }\n",
       "\n",
       "    .dataframe tbody tr th {\n",
       "        vertical-align: top;\n",
       "    }\n",
       "\n",
       "    .dataframe thead th {\n",
       "        text-align: right;\n",
       "    }\n",
       "</style>\n",
       "<table border=\"1\" class=\"dataframe\">\n",
       "  <thead>\n",
       "    <tr style=\"text-align: right;\">\n",
       "      <th></th>\n",
       "      <th>Name</th>\n",
       "      <th>Age</th>\n",
       "      <th>Gender</th>\n",
       "    </tr>\n",
       "  </thead>\n",
       "  <tbody>\n",
       "    <tr>\n",
       "      <th>0</th>\n",
       "      <td>Alice</td>\n",
       "      <td>25</td>\n",
       "      <td>Female</td>\n",
       "    </tr>\n",
       "    <tr>\n",
       "      <th>1</th>\n",
       "      <td>Bob</td>\n",
       "      <td>30</td>\n",
       "      <td>Male</td>\n",
       "    </tr>\n",
       "    <tr>\n",
       "      <th>2</th>\n",
       "      <td>Claire</td>\n",
       "      <td>22</td>\n",
       "      <td>Female</td>\n",
       "    </tr>\n",
       "  </tbody>\n",
       "</table>\n",
       "</div>"
      ],
      "text/plain": [
       "     Name  Age  Gender\n",
       "0   Alice   25  Female\n",
       "1     Bob   30    Male\n",
       "2  Claire   22  Female"
      ]
     },
     "execution_count": 11,
     "metadata": {},
     "output_type": "execute_result"
    }
   ],
   "source": [
    "df1"
   ]
  },
  {
   "cell_type": "code",
   "execution_count": null,
   "id": "5cfb8f66-ed17-4654-8752-7c6274890e83",
   "metadata": {},
   "outputs": [],
   "source": []
  },
  {
   "cell_type": "code",
   "execution_count": null,
   "id": "4dbe7757-9bee-4df6-819c-dd9d5c878ce4",
   "metadata": {},
   "outputs": [],
   "source": []
  }
 ],
 "metadata": {
  "kernelspec": {
   "display_name": "Python 3 (ipykernel)",
   "language": "python",
   "name": "python3"
  },
  "language_info": {
   "codemirror_mode": {
    "name": "ipython",
    "version": 3
   },
   "file_extension": ".py",
   "mimetype": "text/x-python",
   "name": "python",
   "nbconvert_exporter": "python",
   "pygments_lexer": "ipython3",
   "version": "3.10.8"
  }
 },
 "nbformat": 4,
 "nbformat_minor": 5
}
