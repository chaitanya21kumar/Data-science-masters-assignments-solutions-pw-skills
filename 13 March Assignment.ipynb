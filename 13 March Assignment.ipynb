{
 "cells": [
  {
   "cell_type": "markdown",
   "id": "9c6a957b-4bce-487a-a8e1-5bf1e32fb734",
   "metadata": {},
   "source": [
    "## Question 1 : Explain the assumptions required to use ANOVA and provide examples of violations that could impact the validity of the results.\n",
    "---"
   ]
  },
  {
   "cell_type": "markdown",
   "id": "7baf87a3-0b63-4308-8c3c-b584e994c13e",
   "metadata": {},
   "source": [
    " Here are the assumptions required to use ANOVA:\n",
    "\n",
    "1. Normality: The data for each group should be normally distributed. This means that the data should be bell-shaped and symmetrical. If the data is not normally distributed, the results of the ANOVA may be invalid.\n",
    "\n",
    "\n",
    "2. Homogeneity of variances: The variances of the data for each group should be equal. This means that the spread of the data should be similar for each group. If the variances are not equal, the results of the ANOVA may be invalid.\n",
    "\n",
    "\n",
    "3. Independence: The data should be independent of each other. This means that the values of one data point should not be related to the values of any other data point. If the data is not independent, the results of the ANOVA may be invalid.\n",
    "\n",
    "\n",
    "\n",
    "Here are some examples of violations that could impact the validity of the results of an ANOVA:\n",
    "\n",
    "1. Non-normality: If the data is not normally distributed, the results of the ANOVA may be invalid. There are a number of ways to deal with non-normality, such as using a nonparametric test or transforming the data to make it more normal.\n",
    "\n",
    "\n",
    "2. Heterogeneity of variances: If the variances of the data for each group are not equal, the results of the ANOVA may be invalid. There are a number of ways to deal with heterogeneity of variances, such as using a Welch's ANOVA or a Brown-Forsythe test.\n",
    "\n",
    "\n",
    "3. Dependence: If the data is not independent, the results of the ANOVA may be invalid. There are a number of ways to deal with dependence, such as using a repeated measures ANOVA or a generalized linear model.\n",
    "\n",
    "\n",
    "It is important to note that the assumptions of ANOVA are not always met. In these cases, it is important to carefully consider the impact of the violation on the results of the ANOVA. If the violation is likely to have a significant impact on the results, it may be necessary to use a different statistical test."
   ]
  },
  {
   "cell_type": "markdown",
   "id": "c8c69ff9-8ba0-48e4-94f0-2780d04d4a6a",
   "metadata": {},
   "source": [
    "## Question 2 : What are the three types of ANOVA, and in what situations would each be used?\n",
    "---"
   ]
  },
  {
   "cell_type": "markdown",
   "id": "9504cc19-36ca-4b25-bc56-b1bf5beb5cbf",
   "metadata": {},
   "source": [
    "The three types of ANOVA are:\n",
    "\n",
    "One-Way ANOVA: One-Way ANOVA is used when there is a single categorical independent variable (also known as a factor) with three or more levels, and a continuous dependent variable. It is used to determine if there are any statistically significant differences in the means of the dependent variable across the different levels of the independent variable. For example, a one-way ANOVA can be used to compare the mean test scores of students from different schools (independent variable) to see if there are any significant differences.\n",
    "\n",
    "Two-Way ANOVA: Two-Way ANOVA is used when there are two independent variables (factors) and a continuous dependent variable. It examines the effects of each independent variable separately, as well as their interaction effect on the dependent variable. This allows for the assessment of the main effects of each independent variable and any interaction effects between them. For example, a two-way ANOVA can be used to analyze the effects of both gender and age group on the performance of athletes.\n",
    "\n",
    "Factorial ANOVA: Factorial ANOVA is an extension of the two-way ANOVA and is used when there are two or more independent variables (factors) and a continuous dependent variable. It allows for the examination of the main effects of each factor, as well as the interaction effects between the factors. Factorial ANOVA is useful for studying complex experimental designs with multiple independent variables. For example, a factorial ANOVA can be used to analyze the effects of different treatment combinations in a drug trial, where the factors may include dosage, duration, and gender.\n",
    "\n",
    "These different types of ANOVA provide flexibility in analyzing data with varying numbers of independent variables and help assess the impact of different factors on the dependent variable. The choice of ANOVA type depends on the specific research design, the number of independent variables, and the research questions being addressed."
   ]
  },
  {
   "cell_type": "markdown",
   "id": "94fdb808-dfac-4aeb-bb4d-bdf6bfacd3f3",
   "metadata": {},
   "source": [
    "## Question 3 : What is the partitioning of variance in ANOVA, and why is it important to understand this concept?\n",
    "---"
   ]
  },
  {
   "cell_type": "markdown",
   "id": "ad4e149f-99ba-4892-a16d-15d25cb11058",
   "metadata": {},
   "source": [
    "In ANOVA (Analysis of Variance), the partitioning of variance refers to the division of the total variance in the data into different components that can be attributed to specific sources of variation. Understanding this concept is important because it provides valuable insights into the factors that contribute to the observed differences in the data, helping to determine the significance of those factors and their effects.\n",
    "\n",
    "The partitioning of variance in ANOVA involves dividing the total variance into two main components:\n",
    "\n",
    "Between-group variance: This component of variance represents the differences among the group means. It measures the variation between the groups being compared in terms of the independent variable(s). A larger between-group variance suggests that the groups are more distinct from each other.\n",
    "\n",
    "Within-group variance: This component of variance represents the differences within each group. It measures the variation within the groups and is typically attributed to random error or unexplained variability. A smaller within-group variance indicates that the data within each group are more homogeneous.\n",
    "\n",
    "By comparing the magnitudes of the between-group and within-group variances, ANOVA determines if the observed differences among the groups are statistically significant. If the between-group variance is much larger than the within-group variance, it suggests that the independent variable(s) have a significant effect on the dependent variable.\n",
    "\n",
    "Understanding the partitioning of variance helps in interpreting the results of ANOVA. It allows researchers to quantify the amount of variability in the data that can be explained by the independent variable(s) and to assess the relative importance of different sources of variation. This knowledge is crucial for drawing valid conclusions, making informed decisions, and understanding the factors influencing the outcome variable. Additionally, the partitioning of variance forms the basis for calculating effect sizes, which provide a standardized measure of the strength of the observed effects."
   ]
  },
  {
   "cell_type": "markdown",
   "id": "d8779a5c-2a0a-47ef-af73-6b92d4893905",
   "metadata": {},
   "source": [
    "## Question 4 : How would you calculate the total sum of squares (SST), explained sum of squares (SSE), and residual sum of squares (SSR) in a one-way ANOVA using Python?\n",
    "---"
   ]
  },
  {
   "cell_type": "code",
   "execution_count": 1,
   "id": "72b27844-eda6-4071-a221-a99074388e6c",
   "metadata": {},
   "outputs": [
    {
     "name": "stdout",
     "output_type": "stream",
     "text": [
      "133.33333333333331\n",
      "103.33333333333333\n",
      "29.999999999999986\n"
     ]
    }
   ],
   "source": [
    "import numpy as np \n",
    "\n",
    "from scipy import stats \n",
    "\n",
    "group1 = [3, 5, 2, 6, 4]\n",
    "group2 = [7, 4, 6, 3, 5]\n",
    "group3 = [9, 11, 8, 10, 12]\n",
    "\n",
    "data=np.concatenate([group1,group2,group3])\n",
    "\n",
    "\n",
    "mean_total=np.mean(data)\n",
    "\n",
    "SST=np.sum((data-mean_total)**2)\n",
    "\n",
    "mean_group1=np.mean(group1)\n",
    "mean_group2=np.mean(group2)\n",
    "mean_group3=np.mean(group3)\n",
    "\n",
    "\n",
    "SSE=len(group1)*(mean_group1-mean_total)**2+\\\n",
    "    len(group2)*(mean_group2-mean_total)**2+\\\n",
    "    len(group3)*(mean_group3-mean_total)**2\n",
    "\n",
    "SSR=SST-SSE\n",
    "\n",
    "print(SST)\n",
    "print(SSE)\n",
    "print(SSR)"
   ]
  },
  {
   "cell_type": "markdown",
   "id": "b3f2cf20-1596-48cd-96d4-f6ee60e6dad9",
   "metadata": {},
   "source": [
    "## Question 5 : In a two-way ANOVA, how would you calculate the main effects and interaction effects using Python?\n",
    "---"
   ]
  },
  {
   "cell_type": "code",
   "execution_count": 8,
   "id": "09ebddc5-4ead-40e3-9420-9db4fee3d529",
   "metadata": {},
   "outputs": [
    {
     "name": "stdout",
     "output_type": "stream",
     "text": [
      "Main Effect of Factor 1: 4.000000000000009\n",
      "Main Effect of Factor 2: 16.666666666666657\n",
      "Interaction Effect: 1.0000000000000018\n"
     ]
    }
   ],
   "source": [
    "import numpy as np\n",
    "import pandas as pd\n",
    "import statsmodels.api as sm\n",
    "from statsmodels.formula.api import ols\n",
    "\n",
    "# Sample data for two independent variables (factors)\n",
    "factor1 = np.array([1, 1, 2, 2, 3, 3])\n",
    "factor2 = np.array([1, 2, 1, 2, 1, 2])\n",
    "\n",
    "# Dependent variable data\n",
    "dependent_var = np.array([3, 5, 2, 6, 4, 8])\n",
    "\n",
    "# Create a DataFrame with the data\n",
    "data = {'dependent_var': dependent_var, 'factor1': factor1, 'factor2': factor2}\n",
    "df = pd.DataFrame(data)\n",
    "\n",
    "# Fit the two-way ANOVA model\n",
    "model = ols('dependent_var ~ factor1 + factor2 + factor1:factor2', data=df).fit()\n",
    "anova_table = sm.stats.anova_lm(model, typ=2)\n",
    "\n",
    "# Extract the main effects and interaction effect\n",
    "main_effect_factor1 = anova_table.loc['factor1', 'sum_sq']\n",
    "main_effect_factor2 = anova_table.loc['factor2', 'sum_sq']\n",
    "interaction_effect = anova_table.loc['factor1:factor2', 'sum_sq']\n",
    "\n",
    "# Print the results\n",
    "print(\"Main Effect of Factor 1:\", main_effect_factor1)\n",
    "print(\"Main Effect of Factor 2:\", main_effect_factor2)\n",
    "print(\"Interaction Effect:\", interaction_effect)\n"
   ]
  },
  {
   "cell_type": "markdown",
   "id": "cd66a33b-2f3b-4069-980d-a5775589c27f",
   "metadata": {},
   "source": [
    "## Question 6 : Suppose you conducted a one-way ANOVA and obtained an F-statistic of 5.23 and a p-value of 0.02. What can you conclude about the differences between the groups, and how would you interpret these results?\n",
    "---"
   ]
  },
  {
   "cell_type": "markdown",
   "id": "3959f9c8-6793-4bb4-82cf-4d2874c865ae",
   "metadata": {},
   "source": [
    "\n",
    "Based on the given information from the one-way ANOVA, where the obtained F-statistic is 5.23 and the p-value is 0.02, we can draw the following conclusions:\n",
    "\n",
    "Significance of the F-statistic: The F-statistic compares the variation between groups to the variation within groups. A higher F-statistic suggests larger differences between the groups. In this case, the obtained F-statistic of 5.23 indicates that there are some differences between the groups.\n",
    "\n",
    "Significance of the p-value: The p-value indicates the probability of obtaining the observed results (or more extreme) if there were no real differences between the groups. A lower p-value suggests stronger evidence against the null hypothesis of no differences. In this case, the p-value of 0.02 is below the typical significance level of 0.05, indicating that there is sufficient evidence to reject the null hypothesis.\n",
    "\n",
    "Interpretation: Based on these results, we can conclude that there are statistically significant differences between the groups being compared. The specific interpretation will depend on the context and the nature of the data being analyzed. It indicates that at least one of the groups differs from the others in terms of the variable being measured. However, it does not provide information about which particular group(s) differ. Further post-hoc tests or additional analysis would be needed to determine the specific group differences."
   ]
  },
  {
   "cell_type": "markdown",
   "id": "f2ca5c10-86db-4cec-94eb-13762e7bda17",
   "metadata": {},
   "source": [
    "## Question 7 : In a repeated measures ANOVA, how would you handle missing data, and what are the potential consequences of using different methods to handle missing data?\n",
    "---"
   ]
  },
  {
   "cell_type": "markdown",
   "id": "8c34d7d3-aaa3-431d-bfc5-9164560211da",
   "metadata": {},
   "source": [
    "\n",
    "Handling missing data in a repeated measures ANOVA requires careful consideration, as different methods can lead to different consequences. Here are some approaches to handling missing data and their potential consequences:\n",
    "\n",
    "Complete Case Analysis (CCA): This method involves excluding cases with missing data, resulting in a reduced sample size. The consequence is reduced statistical power and potential bias if the missing data are not random, leading to less accurate estimates and potentially biased results.\n",
    "\n",
    "Pairwise Deletion: This approach involves analyzing only available data for each pair of variables, allowing for varying sample sizes across comparisons. However, this can lead to imprecise estimates and biased results if the missing data are not missing completely at random (MCAR). It can also affect the interpretation of the results due to the dependency between the variables.\n",
    "\n",
    "Imputation Methods: Imputation involves replacing missing values with estimated values based on observed data. Common imputation methods include mean imputation, regression imputation, or multiple imputation. The consequences of imputation depend on the assumptions made and the quality of the imputation model. If the imputation model is misspecified or the imputation assumptions are violated, the estimates may be biased, and the standard errors may be underestimated.\n",
    "\n",
    "Model-Based Methods: These methods utilize advanced techniques such as maximum likelihood estimation or mixed-effects models to handle missing data. These approaches can provide valid estimates under certain assumptions, such as missing at random (MAR) or ignorable nonresponse. However, the assumptions must be carefully evaluated and justified to ensure valid inferences.\n",
    "\n",
    "In summary, the consequences of using different methods to handle missing data in a repeated measures ANOVA include reduced statistical power, biased estimates, imprecise results, and potentially incorrect conclusions. It is important to carefully assess the missing data mechanism and choose an appropriate method that aligns with the assumptions and goals of the analysis."
   ]
  },
  {
   "cell_type": "markdown",
   "id": "da1787f0-3a15-4d05-9667-254e0924c25f",
   "metadata": {},
   "source": [
    "## Question 8 : What are some common post-hoc tests used after ANOVA, and when would you use each one? Provide an example of a situation where a post-hoc test might be necessary.\n",
    "---"
   ]
  },
  {
   "cell_type": "markdown",
   "id": "f438727c-7e64-4fb2-a832-9850a6ee209d",
   "metadata": {},
   "source": [
    "After conducting an ANOVA and obtaining a significant result, post-hoc tests are used to make pairwise comparisons between groups to determine which specific groups differ from each other. Some common post-hoc tests include:\n",
    "\n",
    "Tukey's Honestly Significant Difference (HSD): This test is used when you have equal group sizes and want to control for the familywise error rate. It compares all possible pairs of group means and provides simultaneous confidence intervals. It is suitable for situations where you have multiple groups and want to identify which pairs are significantly different.\n",
    "\n",
    "Bonferroni correction: This is a conservative approach that adjusts the significance level for multiple comparisons. It divides the desired significance level (typically 0.05) by the number of pairwise comparisons. It is suitable when you have a small number of comparisons and want to control the overall Type I error rate.\n",
    "\n",
    "Dunnett's test: This test is used when you have one control group and want to compare it to multiple treatment groups. It controls the familywise error rate by comparing each treatment group to the control group.\n",
    "\n",
    "Scheffe's test: This test is a more conservative alternative that allows for any type of comparison among groups, even if they are not predetermined. It is suitable for situations where you have a small sample size or unequal group sizes and want to control the familywise error rate.\n",
    "\n",
    "Example situation: Suppose you conducted a study to compare the effectiveness of four different treatments for reducing pain intensity. After conducting an ANOVA and finding a significant difference among the treatment groups, you would perform post-hoc tests to determine which specific treatment groups differ significantly from each other. In this case, you might use Tukey's HSD test to compare all possible pairs of treatment means and identify the significant differences. This would help in determining which treatments are more effective in reducing pain intensity compared to others."
   ]
  },
  {
   "cell_type": "markdown",
   "id": "55e41405-8f73-4662-8568-3201d1bf6634",
   "metadata": {},
   "source": [
    "## Question 9 : A researcher wants to compare the mean weight loss of three diets: A, B, and C. They collect data from 50 participants who were randomly assigned to one of the diets. Conduct a one-way ANOVA using Python to determine if there are any significant differences between the mean weight loss of the three diets. Report the F-statistic and p-value, and interpret the results.\n",
    "---"
   ]
  },
  {
   "cell_type": "code",
   "execution_count": 9,
   "id": "c12d7e70-e73c-40a0-a13e-6df07fcd456f",
   "metadata": {},
   "outputs": [
    {
     "name": "stdout",
     "output_type": "stream",
     "text": [
      "1.3761892269365994\n",
      "0.255795216474792\n"
     ]
    }
   ],
   "source": [
    "import scipy.stats as stats\n",
    "\n",
    "diet_A = [2, 3, 4, 3, 5, 4, 3, 2, 1, 2, 3, 2, 1, 2, 3, 4, 3, 2, 3, 4,\n",
    "          5, 4, 3, 2, 3, 4, 5, 4, 3, 2, 3, 4, 5, 4, 3, 2, 3, 4, 5, 4,\n",
    "          3, 2, 3, 4, 5, 4, 3, 2, 3, 4]\n",
    "diet_B = [3, 4, 5, 4, 3, 2, 3, 4, 5, 4, 3, 2, 3, 4, 5, 4, 3, 2, 3, 4,\n",
    "          5, 4, 3, 2, 3, 4, 5, 4, 3, 2, 3, 4, 5, 4, 3, 2, 3, 4, 5, 4,\n",
    "          3, 2, 3, 4, 5, 4, 3, 2, 3, 4]\n",
    "diet_C = [4, 5, 4, 3, 2, 3, 4, 5, 4, 3, 2, 3, 4, 5, 4, 3, 2, 3, 4, 5,\n",
    "          4, 3, 2, 3, 4, 5, 4, 3, 2, 3, 4, 5, 4, 3, 2, 3, 4, 5, 4, 3,\n",
    "          2, 3, 4, 5, 4, 3, 2, 3, 4]\n",
    "\n",
    "f_statistic , p_value  =stats.f_oneway(diet_A,diet_B,diet_C)\n",
    "\n",
    "print(f_statistic)\n",
    "print(p_value)"
   ]
  },
  {
   "cell_type": "markdown",
   "id": "302d3669-f1d8-4ec1-ad0e-a51a100c55d5",
   "metadata": {},
   "source": [
    "## Question 10 : A company wants to know if there are any significant differences in the average time it takes to complete a task using three different software programs: Program A, Program B, and Program C. They randomly assign 30 employees to one of the programs and record the time it takes each employee to complete the task. Conduct a two-way ANOVA using Python to determine if there are any main effects or interaction effects between the software programs and employee experience level (novice vs. experienced). Report the F-statistics and p-values, and interpret the results.\n",
    "---"
   ]
  },
  {
   "cell_type": "code",
   "execution_count": 16,
   "id": "d90f6527-76f3-4231-b500-c1b220046211",
   "metadata": {},
   "outputs": [
    {
     "name": "stdout",
     "output_type": "stream",
     "text": [
      "Main effect of software (F = 0.38, p = 0.716)\n",
      "Main effect of experience (F = 0.00, p = 1.000)\n",
      "Interaction effect (F = 0.00, p = 1.000)\n"
     ]
    }
   ],
   "source": [
    "import pandas as pd\n",
    "from statsmodels.formula.api import ols\n",
    "from statsmodels.stats.anova import anova_lm\n",
    "\n",
    "data = {\n",
    "    'software': ['A', 'A', 'A', 'B', 'B', 'B', 'C', 'C', 'C'],\n",
    "    'experience': ['Novice', 'Experienced', 'Novice', 'Experienced', 'Novice', 'Experienced', 'Novice', 'Experienced', 'Novice'],\n",
    "    'time': [10, 12, 14, 9, 11, 13, 8, 10, 12]\n",
    "}\n",
    "\n",
    "df = pd.DataFrame(data)\n",
    "\n",
    "model = ols('time ~ software * experience', data=df).fit()\n",
    "\n",
    "anova_table = anova_lm(model, type=2)\n",
    "\n",
    "f_software = anova_table['F'][0]\n",
    "p_software = anova_table['PR(>F)'][0]\n",
    "f_experience = anova_table['F'][1]\n",
    "p_experience = anova_table['PR(>F)'][1]\n",
    "f_interaction = anova_table['F'][2]\n",
    "p_interaction = anova_table['PR(>F)'][2]\n",
    "\n",
    "print(f\"Main effect of software (F = {f_software:.2f}, p = {p_software:.3f})\")\n",
    "print(f\"Main effect of experience (F = {f_experience:.2f}, p = {p_experience:.3f})\")\n",
    "print(f\"Interaction effect (F = {f_interaction:.2f}, p = {p_interaction:.3f})\")\n"
   ]
  },
  {
   "cell_type": "markdown",
   "id": "fd4b7763-2385-4f3e-b91b-c5dc50ee219a",
   "metadata": {},
   "source": [
    "## Question 11 : An educational researcher is interested in whether a new teaching method improves student test scores. They randomly assign 100 students to either the control group (traditional teaching method) or the experimental group (new teaching method) and administer a test at the end of the semester. Conduct a two-sample t-test using Python to determine if there are any significant differences in test scores between the two groups. If the results are significant, follow up with a post-hoc test to determine which group(s) differ significantly from each other.\n",
    "---"
   ]
  },
  {
   "cell_type": "code",
   "execution_count": 19,
   "id": "55f9c8b3-fd8a-4dff-9f5e-dbcbac434ca1",
   "metadata": {},
   "outputs": [
    {
     "name": "stdout",
     "output_type": "stream",
     "text": [
      "two sample t test results : t=-1.72 , p=0.103\n",
      "post hoc test results : t=-1.72 , p=0.103\n"
     ]
    }
   ],
   "source": [
    "import numpy as np \n",
    "from scipy import stats \n",
    "\n",
    "control_scores = [80, 85, 78, 92, 88, 75, 82, 79, 86, 90]\n",
    "\n",
    "experimental_scores = [88, 92, 95, 82, 79, 86, 90, 85, 91, 87]\n",
    "\n",
    "t_statistic , p_value=stats.ttest_ind(control_scores , experimental_scores)\n",
    "\n",
    "print(f\"two sample t test results : t={t_statistic:.2f} , p={p_value:.3f}\")\n",
    "\n",
    "pairwise_t_statistic , pairwise_p_value = stats.ttest_ind(control_scores , experimental_scores)\n",
    "\n",
    "print(f\"post hoc test results : t={pairwise_t_statistic:.2f} , p={pairwise_p_value:.3f}\")"
   ]
  },
  {
   "cell_type": "markdown",
   "id": "1dd171cf-8009-459e-8019-3a3eb0fe6d38",
   "metadata": {},
   "source": [
    "## Question 12 : A researcher wants to know if there are any significant differences in the average daily sales of three retail stores: Store A, Store B, and Store C. They randomly select 30 days and record the sales for each store on those days. Conduct a repeated measures ANOVA using Python to determine if there are any significant differences in sales between the three stores. If the results are significant, follow up with a posthoc test to determine which store(s) differ significantly from each other.\n",
    "---"
   ]
  },
  {
   "cell_type": "code",
   "execution_count": 26,
   "id": "abd8c387-7020-45fd-9004-e913aa1f002d",
   "metadata": {},
   "outputs": [
    {
     "name": "stdout",
     "output_type": "stream",
     "text": [
      "One-way repeated measures ANOVA results: F = -4.86, p = 1.000\n",
      "Post hoc test (Tukey's HSD) results:\n",
      "Multiple Comparison of Means - Tukey HSD, FWER=0.05\n",
      "==================================================\n",
      "group1 group2 meandiff p-adj  lower  upper  reject\n",
      "--------------------------------------------------\n",
      "     A      B      0.0   1.0 -5.3308 5.3308  False\n",
      "     A      C      0.0   1.0 -5.3308 5.3308  False\n",
      "     B      C      0.0   1.0 -5.3308 5.3308  False\n",
      "--------------------------------------------------\n"
     ]
    }
   ],
   "source": [
    "import pandas as pd\n",
    "from statsmodels.stats.anova import AnovaRM\n",
    "from statsmodels.stats.multicomp import pairwise_tukeyhsd\n",
    "\n",
    "# Create a DataFrame with the sales data\n",
    "data = {\n",
    "    'Day': list(range(30)) * 3,\n",
    "    'Store': ['A'] * 30 + ['B'] * 30 + ['C'] * 30,\n",
    "    'Sales': [100, 110, 95, 105, 115, 100, 120, 115, 110, 105, 115, 120, 125, 110, 105,\n",
    "              120, 115, 110, 100, 105, 115, 120, 125, 130, 115, 120, 115, 110, 105, 100] * 3\n",
    "}\n",
    "\n",
    "df = pd.DataFrame(data)\n",
    "\n",
    "# Perform repeated measures ANOVA\n",
    "aov = AnovaRM(df, 'Sales', 'Day', within=['Store']).fit()\n",
    "\n",
    "# Extract the F-value and p-value\n",
    "f_value = aov.anova_table['F Value'][0]\n",
    "p_value = aov.anova_table['Pr > F'][0]\n",
    "\n",
    "print(f\"One-way repeated measures ANOVA results: F = {f_value:.2f}, p = {p_value:.3f}\")\n",
    "\n",
    "# Perform post hoc test (Tukey's HSD)\n",
    "posthoc = pairwise_tukeyhsd(df['Sales'], df['Store'], alpha=0.05)\n",
    "\n",
    "print(\"Post hoc test (Tukey's HSD) results:\")\n",
    "print(posthoc)\n"
   ]
  },
  {
   "cell_type": "code",
   "execution_count": null,
   "id": "9076b235-0d21-4dbd-8a64-6b8def613543",
   "metadata": {},
   "outputs": [],
   "source": []
  }
 ],
 "metadata": {
  "kernelspec": {
   "display_name": "Python 3 (ipykernel)",
   "language": "python",
   "name": "python3"
  },
  "language_info": {
   "codemirror_mode": {
    "name": "ipython",
    "version": 3
   },
   "file_extension": ".py",
   "mimetype": "text/x-python",
   "name": "python",
   "nbconvert_exporter": "python",
   "pygments_lexer": "ipython3",
   "version": "3.10.8"
  }
 },
 "nbformat": 4,
 "nbformat_minor": 5
}
