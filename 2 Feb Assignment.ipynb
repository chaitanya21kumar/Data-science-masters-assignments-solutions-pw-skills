{
 "cells": [
  {
   "cell_type": "markdown",
   "id": "47401d27",
   "metadata": {},
   "source": [
    "## Question 1 : What are the characteristics of the tuples? Is tuple immutable?\n",
    "---"
   ]
  },
  {
   "cell_type": "markdown",
   "id": "a7cca93d",
   "metadata": {},
   "source": [
    "The main characteristics of a tuple in Python are:\n",
    "\n",
    "1. Immutable: Once a tuple is created, its elements cannot be changed or modified.\n",
    "2. Ordered: The elements in a tuple have a defined order, and this order is maintained.\n",
    "3. Heterogeneous: Tuples can store elements of different data types.\n",
    "4. Indexed: Each element in a tuple can be retrieved by using its index number.\n",
    "5. Uses parentheses: Tuples are defined using parentheses, like this: (1, 2, 3).\n",
    "6. In summary, tuples are ordered, heterogeneous, and immutable collections of elements that can be indexed."
   ]
  },
  {
   "cell_type": "markdown",
   "id": "8a646b2a",
   "metadata": {},
   "source": [
    "## Question 2: What are the two tuple methods in python? Give an example of each method. Give a reason why tuples have only two in-built methods as compared to Lists\n",
    "\n",
    "\n",
    "---\n",
    "\n",
    "In Python, tuples have two built-in methods:count() and index() . For example :-\n"
   ]
  },
  {
   "cell_type": "code",
   "execution_count": 2,
   "id": "86f4e821",
   "metadata": {},
   "outputs": [
    {
     "data": {
      "text/plain": [
       "2"
      ]
     },
     "execution_count": 2,
     "metadata": {},
     "output_type": "execute_result"
    }
   ],
   "source": [
    "# count() : returns the number of occurrences of a given element in the tuple.\n",
    "\n",
    "a=(1,2,3,4,5,6,7,8,1,2)\n",
    "a.count(1)"
   ]
  },
  {
   "cell_type": "code",
   "execution_count": 4,
   "id": "457eb587",
   "metadata": {},
   "outputs": [
    {
     "data": {
      "text/plain": [
       "5"
      ]
     },
     "execution_count": 4,
     "metadata": {},
     "output_type": "execute_result"
    }
   ],
   "source": [
    "# index() : returns the index of the first occurrence of a given element in the tuple.\n",
    "\n",
    "b=(\"pw\",\"data_science_masters\",\"pw\",1,2,3,6)\n",
    "b.index(3)\n",
    "\n"
   ]
  },
  {
   "cell_type": "markdown",
   "id": "64c7d52b",
   "metadata": {},
   "source": [
    "#### Tuples have only two in-built methods because they are meant to be lightweight, immutable collections of elements. The idea is to keep them simple, fast, and efficient, rather than providing a lot of functionalities like lists. The two methods provided are the most commonly used ones for tuples. In other cases, it is recommended to use other data structures like lists or dictionaries."
   ]
  },
  {
   "cell_type": "markdown",
   "id": "fcf0e3bb",
   "metadata": {},
   "source": [
    "## Question 3 : Which collection datatypes in python do not allow duplicate items? Write a code using a set to remove duplicates from the given list.\n",
    "\n",
    "#### List = [1, 1, 1, 2, 1, 3, 1, 4, 2, 1, 2, 2, 2, 3, 2, 4, 3, 1, 3, 2, 3, 3, 3, 4, 4, 1, 4, 2, 4, 3, 4, 4]\n",
    "\n",
    "---\n",
    "\n",
    "In Python, the set datatype does not allow duplicate items. To remove duplicates from a list, one can convert the list to a set, then back to a list:\n"
   ]
  },
  {
   "cell_type": "code",
   "execution_count": 5,
   "id": "f4aaa8df",
   "metadata": {},
   "outputs": [
    {
     "data": {
      "text/plain": [
       "[1, 2, 3, 4]"
      ]
     },
     "execution_count": 5,
     "metadata": {},
     "output_type": "execute_result"
    }
   ],
   "source": [
    "List = [1, 1, 1, 2, 1, 3, 1, 4, 2, 1, 2, 2, 2, 3, 2, 4, 3, 1, 3, 2, 3, 3, 3, 4, 4, 1, 4, 2, 4, 3, 4, 4]\n",
    "a=list(set(List))\n",
    "a"
   ]
  },
  {
   "cell_type": "markdown",
   "id": "9f55d0ca",
   "metadata": {},
   "source": [
    "## Question 4 - Explain the difference between the union() and update() methods for a set. Give an example of each method.\n",
    "---\n",
    "\n",
    "\n",
    "Both union() and update() are set methods in Python, but they differ in their behavior:\n"
   ]
  },
  {
   "cell_type": "code",
   "execution_count": 11,
   "id": "984d86a9",
   "metadata": {},
   "outputs": [
    {
     "name": "stdout",
     "output_type": "stream",
     "text": [
      "{1, 2, 'a', 'd', 'b', 'e'}\n",
      "{1, 'b', 'a'}\n"
     ]
    }
   ],
   "source": [
    "# union(): This method returns a new set that contains all the unique elements from the original set as well \n",
    "# as the specified set or iterable. The original sets are not modified.\n",
    "# For Example: \n",
    "\n",
    "set_a={\"a\",\"b\",1}\n",
    "set_b={\"d\",\"e\",2}\n",
    "set_c=set_a.union(set_b)\n",
    "print(set_c)\n",
    "print(set_a)"
   ]
  },
  {
   "cell_type": "code",
   "execution_count": 14,
   "id": "761e9b2b",
   "metadata": {},
   "outputs": [
    {
     "name": "stdout",
     "output_type": "stream",
     "text": [
      "None\n",
      "{1, 2, 'a', 'd', 'b', 'e'}\n"
     ]
    }
   ],
   "source": [
    "# update(): This method modifies the original set by adding all the unique elements from the specified set \n",
    "# or iterable to it.\n",
    "# For Example:\n",
    "\n",
    "set_a={\"a\",\"b\",1}\n",
    "set_b={\"d\",\"e\",2}\n",
    "set_c=set_a.update(set_b)\n",
    "print(set_c)\n",
    "print(set_a)"
   ]
  },
  {
   "cell_type": "markdown",
   "id": "8fb0f7a0",
   "metadata": {},
   "source": [
    "###  In above example, the update() method is used to add all the unique elements from set_b to set_a, modifying set_a in place.\n",
    "\n",
    "The key difference between union() and update() is that union() returns a new set without modifying the original sets,\n",
    "whereas update() modifies the original set by adding new elements to it."
   ]
  },
  {
   "cell_type": "markdown",
   "id": "38f4ce1d",
   "metadata": {},
   "source": [
    "## Question 5 : What is a dictionary? Give an example. Also, state whether a dictionary is ordered or unordered\n",
    "---\n",
    "\n",
    "In programming, a dictionary is a collection of key-value pairs, where each key is associated with a corresponding value ,and the keys are unique within the dictionary.\n",
    "                                                       For example :-"
   ]
  },
  {
   "cell_type": "code",
   "execution_count": 18,
   "id": "6fd16fc0",
   "metadata": {},
   "outputs": [
    {
     "data": {
      "text/plain": [
       "{'company_name': 'pw',\n",
       " 'founder': 'alakh_pandey',\n",
       " 'company_type': 'edtech',\n",
       " 'company_valuation': '1billion$',\n",
       " 'headquarters': 'noida'}"
      ]
     },
     "execution_count": 18,
     "metadata": {},
     "output_type": "execute_result"
    }
   ],
   "source": [
    "# In Python, dictionaries are unordered, which means that the order in which the key-value pairs are added to \n",
    "# the dictionary may not be preserved when you iterate over them.The order of the elements can be controlled by \n",
    "# sorting the keys, but by default, the order is not guaranteed.\n",
    "\n",
    "\n",
    "d={\"company_name\":\"pw\", \"founder\":\"alakh_pandey\" , \"company_type\":\"edtech\" ,\"company_valuation\":\"1billion$\" ,\n",
    "   \"headquarters\":\"noida\" }\n",
    "d\n",
    "\n"
   ]
  },
  {
   "cell_type": "markdown",
   "id": "688ab788",
   "metadata": {},
   "source": [
    "## Question 6 : Can we create a nested dictionary? If so, please give an example by creating a simple one-level nested dictionary.\n",
    "---\n",
    "\n",
    "Yes, we can create a nested dictionary in Python. A nested dictionary is a dictionary inside a dictionary, where the value associated with each key is itself another dictionary. Here is an example of a simple one-level nested dictionary :-"
   ]
  },
  {
   "cell_type": "code",
   "execution_count": 20,
   "id": "1872d1bd",
   "metadata": {},
   "outputs": [
    {
     "data": {
      "text/plain": [
       "{'study': {'science': 'pcm',\n",
       "  'arts': 'drawing',\n",
       "  'humanities': 'social studies '},\n",
       " 'sports': {'cricket_players': 11, 'badminton_singles_players': 2}}"
      ]
     },
     "execution_count": 20,
     "metadata": {},
     "output_type": "execute_result"
    }
   ],
   "source": [
    "a={\"study\":{\"science\":\"pcm\",\"arts\":\"drawing\",\"humanities\":\"social studies \"} , \"sports\":{\"cricket_players\":11 ,\n",
    "    \"badminton_singles_players\":2}}\n",
    "a"
   ]
  },
  {
   "cell_type": "markdown",
   "id": "b9b05874",
   "metadata": {},
   "source": [
    "## Question 7 : Using setdefault() method, create key named topics in the given dictionary and also add the value of the key as this list ['Python', 'Machine Learning’, 'Deep Learning']\n",
    "\n",
    "### dict1 = {'language' : 'Python', 'course': 'Data Science Masters'}\n",
    "---"
   ]
  },
  {
   "cell_type": "code",
   "execution_count": 37,
   "id": "27062696",
   "metadata": {},
   "outputs": [
    {
     "data": {
      "text/plain": [
       "{'language': 'Python',\n",
       " 'course': 'Data Science Masters',\n",
       " 'topics': ['Python', 'Machine Learning', 'Deep Learning']}"
      ]
     },
     "execution_count": 37,
     "metadata": {},
     "output_type": "execute_result"
    }
   ],
   "source": [
    "dict1 = {'language' : 'Python', 'course': 'Data Science Masters'}\n",
    "dict1.setdefault('topics',['Python','Machine Learning','Deep Learning'])\n",
    "dict1"
   ]
  },
  {
   "cell_type": "markdown",
   "id": "f7df0f43",
   "metadata": {},
   "source": [
    "## Question 8 : What are the three view objects in dictionaries? Use the three in-built methods in python to display these three view objects for the given dictionary.\n",
    "\n",
    "### dict1 = {'Sport': 'Cricket' , 'Teams': ['India', 'Australia', 'England', 'South Africa', 'Sri Lanka', 'New Zealand']}\n",
    "---\n",
    "\n"
   ]
  },
  {
   "cell_type": "code",
   "execution_count": 40,
   "id": "842de155",
   "metadata": {},
   "outputs": [
    {
     "name": "stdout",
     "output_type": "stream",
     "text": [
      "dict_keys(['Sport', 'Teams'])\n",
      "dict_values(['Cricket', ['India', 'Australia', 'England', 'South Africa', 'Sri Lanka', 'New Zealand']])\n",
      "dict_items([('Sport', 'Cricket'), ('Teams', ['India', 'Australia', 'England', 'South Africa', 'Sri Lanka', 'New Zealand'])])\n"
     ]
    }
   ],
   "source": [
    "# In Python, dictionaries have three view objects:\n",
    "# keys(): returns a view object that displays a list of all the keys in the dictionary.\n",
    "# values(): returns a view object that displays a list of all the values in the dictionary.\n",
    "# items(): returns a view object that displays a list of all the items (keys and values) in the dictionary as a tuple.\n",
    "\n",
    "\n",
    "\n",
    "\n",
    "dict1 = {'Sport': 'Cricket' , 'Teams': ['India', 'Australia', 'England', 'South Africa','Sri Lanka', 'New Zealand']}\n",
    "print(dict1.keys())\n",
    "print(dict1.values())\n",
    "print(dict1.items())"
   ]
  },
  {
   "cell_type": "code",
   "execution_count": null,
   "id": "8ffa82f0",
   "metadata": {},
   "outputs": [],
   "source": []
  }
 ],
 "metadata": {
  "kernelspec": {
   "display_name": "Python 3 (ipykernel)",
   "language": "python",
   "name": "python3"
  },
  "language_info": {
   "codemirror_mode": {
    "name": "ipython",
    "version": 3
   },
   "file_extension": ".py",
   "mimetype": "text/x-python",
   "name": "python",
   "nbconvert_exporter": "python",
   "pygments_lexer": "ipython3",
   "version": "3.9.13"
  }
 },
 "nbformat": 4,
 "nbformat_minor": 5
}
