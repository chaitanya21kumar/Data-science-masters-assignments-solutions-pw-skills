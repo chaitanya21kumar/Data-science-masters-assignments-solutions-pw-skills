{
 "cells": [
  {
   "cell_type": "markdown",
   "id": "a8edacf2-2c5e-46c1-acaf-9f2a1d8f732a",
   "metadata": {},
   "source": [
    "## Consider the below code to answer further questions:"
   ]
  },
  {
   "cell_type": "code",
   "execution_count": 67,
   "id": "9ae2b728-8576-4b2d-a3c5-0ed38dfe6f40",
   "metadata": {},
   "outputs": [],
   "source": [
    "import numpy as np\n",
    "\n",
    "list_ = ['1','2','3','4','5']\n",
    "\n",
    "array_list = np.array(object = list_)"
   ]
  },
  {
   "cell_type": "markdown",
   "id": "ee1d81eb-776a-49ba-94f4-cbd912424ec2",
   "metadata": {},
   "source": [
    "## Queston 1 : Is there any difference in the data type of variables list_ and array_list? If there is then write a code to print the data types of both the variables\n",
    "---"
   ]
  },
  {
   "cell_type": "code",
   "execution_count": 47,
   "id": "bb7733c1-03ec-4802-95ca-e6a0b87c9029",
   "metadata": {},
   "outputs": [
    {
     "data": {
      "text/plain": [
       "list"
      ]
     },
     "execution_count": 47,
     "metadata": {},
     "output_type": "execute_result"
    }
   ],
   "source": [
    "type(list_)"
   ]
  },
  {
   "cell_type": "code",
   "execution_count": 48,
   "id": "0c1c4503-82ed-41ad-915d-122b9635fdcd",
   "metadata": {},
   "outputs": [
    {
     "data": {
      "text/plain": [
       "numpy.ndarray"
      ]
     },
     "execution_count": 48,
     "metadata": {},
     "output_type": "execute_result"
    }
   ],
   "source": [
    "type(array_list)"
   ]
  },
  {
   "cell_type": "markdown",
   "id": "a42b99f7-f5cf-4e69-aea3-7f74a1c198a8",
   "metadata": {},
   "source": [
    "Yes, there is a difference in the data type of list_ and array_list.\n",
    "\n",
    "list_ is a Python list, while array_list is a NumPy array."
   ]
  },
  {
   "cell_type": "markdown",
   "id": "dae7366f-0bb5-46b1-a3f4-04d48cc88162",
   "metadata": {},
   "source": [
    "## Question 2: Write a code to print the data type of each and every element of both the variables list_ and array_list.\n",
    "---"
   ]
  },
  {
   "cell_type": "code",
   "execution_count": 52,
   "id": "fdb61d87-ffc0-4569-a71f-2432e518e780",
   "metadata": {},
   "outputs": [
    {
     "name": "stdout",
     "output_type": "stream",
     "text": [
      "1 <class 'str'>\n",
      "2 <class 'str'>\n",
      "3 <class 'str'>\n",
      "4 <class 'str'>\n",
      "5 <class 'str'>\n"
     ]
    }
   ],
   "source": [
    "for i in list_:\n",
    "    print(i,type(i))"
   ]
  },
  {
   "cell_type": "code",
   "execution_count": 53,
   "id": "6b00afe3-5e8a-4915-b8e4-d5b26dd0ede4",
   "metadata": {},
   "outputs": [
    {
     "name": "stdout",
     "output_type": "stream",
     "text": [
      "1 <class 'numpy.str_'>\n",
      "2 <class 'numpy.str_'>\n",
      "3 <class 'numpy.str_'>\n",
      "4 <class 'numpy.str_'>\n",
      "5 <class 'numpy.str_'>\n"
     ]
    }
   ],
   "source": [
    "for i in array_list:\n",
    "    print(i,type(i))"
   ]
  },
  {
   "cell_type": "markdown",
   "id": "7cdd09d7-090e-41d9-b5b2-3c78ada7a54b",
   "metadata": {},
   "source": [
    "## Question 3: Considering the following changes in the variable, array_list:"
   ]
  },
  {
   "cell_type": "code",
   "execution_count": 69,
   "id": "fc56b985-f92e-4f26-9e0f-d7ee0ff2d0a8",
   "metadata": {},
   "outputs": [
    {
     "data": {
      "text/plain": [
       "['1', '2', '3', '4', '5']"
      ]
     },
     "execution_count": 69,
     "metadata": {},
     "output_type": "execute_result"
    }
   ],
   "source": [
    "list_"
   ]
  },
  {
   "cell_type": "code",
   "execution_count": 71,
   "id": "828b0a8c-fce9-43b6-8a40-f0ef425e6a0c",
   "metadata": {},
   "outputs": [],
   "source": [
    "array_list = np.array(object = list_, dtype = int)"
   ]
  },
  {
   "cell_type": "code",
   "execution_count": 61,
   "id": "b84be93b-52b6-475e-b4a1-1d9396f72302",
   "metadata": {},
   "outputs": [
    {
     "data": {
      "text/plain": [
       "array([1, 2, 3, 4, 5])"
      ]
     },
     "execution_count": 61,
     "metadata": {},
     "output_type": "execute_result"
    }
   ],
   "source": [
    "array_list"
   ]
  },
  {
   "cell_type": "markdown",
   "id": "9194aa63-b47d-464e-9107-76d7944f43bc",
   "metadata": {},
   "source": [
    "## Will there be any difference in the data type of the elements present in both the variables, list_ and array_list? If so then print the data types of each and every element present in both the variables, list_and array_list.\n",
    "---"
   ]
  },
  {
   "cell_type": "markdown",
   "id": "c445596b-d895-4518-bc0b-f5080d2bcaa0",
   "metadata": {},
   "source": [
    "Yes, there will be a difference in the data types of the elements present in list_ and array_list. Initially, array_list is a NumPy array with string values (dtype='<U1'), and then it is converted to a new NumPy array with an integer data type (dtype=int).\n",
    "\n",
    "To print the data types of each element in both variables, you can iterate over the elements and use the type()"
   ]
  },
  {
   "cell_type": "markdown",
   "id": "c5cb7d8c-417e-43f7-92a7-f19428357b4a",
   "metadata": {},
   "source": [
    "This code will iterate over each element in list_ and array_list and print the data type of each element on separate lines.\n",
    "\n",
    "Initially, the elements in list_ are strings since they are enclosed in quotes ('1', '2', '3', '4', '5'). After converting list_ to a NumPy array with dtype='<U1', the elements in array_list are also strings.\n",
    "\n",
    "However, when array_list is converted to a new NumPy array with dtype=int, the elements are cast to integers. Therefore, the elements in the final array_list have a data type of int.\n",
    "\n",
    "Keep in mind that during the conversion from strings to integers, if any of the elements in list_ cannot be converted to an integer, it will raise a ValueError."
   ]
  },
  {
   "cell_type": "code",
   "execution_count": 73,
   "id": "37def0fb-0ea8-41ae-941a-07ac029b4c86",
   "metadata": {},
   "outputs": [
    {
     "name": "stdout",
     "output_type": "stream",
     "text": [
      "1 <class 'str'>\n",
      "2 <class 'str'>\n",
      "3 <class 'str'>\n",
      "4 <class 'str'>\n",
      "5 <class 'str'>\n"
     ]
    }
   ],
   "source": [
    "for i in list_:\n",
    "    print(i,type(i))"
   ]
  },
  {
   "cell_type": "code",
   "execution_count": 75,
   "id": "72b754ba-c3be-447e-a509-d592055daf14",
   "metadata": {},
   "outputs": [
    {
     "name": "stdout",
     "output_type": "stream",
     "text": [
      "1 <class 'numpy.ndarray'>\n",
      "2 <class 'numpy.ndarray'>\n",
      "3 <class 'numpy.ndarray'>\n",
      "4 <class 'numpy.ndarray'>\n",
      "5 <class 'numpy.ndarray'>\n"
     ]
    }
   ],
   "source": [
    "for i in array_list:\n",
    "    print(i,type(array_list))"
   ]
  },
  {
   "cell_type": "markdown",
   "id": "8d433550-8e5a-403d-a295-585ba0564ba8",
   "metadata": {},
   "source": [
    "## Consider the below code to answer further questions:"
   ]
  },
  {
   "cell_type": "code",
   "execution_count": 1,
   "id": "b1045b46-0e17-4833-b4ff-7b6061c84b0a",
   "metadata": {},
   "outputs": [],
   "source": [
    "import numpy as np\n",
    "num_list = [ [ 1 , 2 , 3 ] , [ 4 , 5 , 6 ] ]\n",
    "num_array = np.array(object = num_list)"
   ]
  },
  {
   "cell_type": "markdown",
   "id": "95a0783f-4c38-4d94-9764-b1402777396d",
   "metadata": {},
   "source": [
    "## Question 4: Write a code to find the following characteristics of variable, num_array:\n",
    "### 1. shape\n",
    "### 2. size\n",
    "---"
   ]
  },
  {
   "cell_type": "code",
   "execution_count": 2,
   "id": "2b2f789e-e531-4247-b749-10251c61e9df",
   "metadata": {},
   "outputs": [
    {
     "data": {
      "text/plain": [
       "(2, 3)"
      ]
     },
     "execution_count": 2,
     "metadata": {},
     "output_type": "execute_result"
    }
   ],
   "source": [
    "num_array.shape"
   ]
  },
  {
   "cell_type": "code",
   "execution_count": 3,
   "id": "8297cb27-8826-4b85-a6c2-ef0c7bada657",
   "metadata": {},
   "outputs": [
    {
     "data": {
      "text/plain": [
       "6"
      ]
     },
     "execution_count": 3,
     "metadata": {},
     "output_type": "execute_result"
    }
   ],
   "source": [
    "num_array.size"
   ]
  },
  {
   "cell_type": "markdown",
   "id": "902bceb6-a978-4aef-a4d6-7281d03cd25b",
   "metadata": {},
   "source": [
    "## Question 5: Write a code to create numpy array of 3*3 matrix containing zeros only, using a numpy array creation function.\n",
    "\n",
    "### [Hint: The size of the array will be 9 and the shape will be (3,3).]\n",
    "\n",
    "---"
   ]
  },
  {
   "cell_type": "code",
   "execution_count": 6,
   "id": "5389b6eb-6183-4db5-bd73-ce24bcc2f2c0",
   "metadata": {},
   "outputs": [
    {
     "data": {
      "text/plain": [
       "array([[0., 0., 0.],\n",
       "       [0., 0., 0.],\n",
       "       [0., 0., 0.]])"
      ]
     },
     "execution_count": 6,
     "metadata": {},
     "output_type": "execute_result"
    }
   ],
   "source": [
    "np.zeros((3,3))"
   ]
  },
  {
   "cell_type": "markdown",
   "id": "9f1492d4-a243-4da0-a9f4-a9b7a782ec0e",
   "metadata": {},
   "source": [
    "## Question 6: Create an identity matrix of shape (5,5) using numpy functions?\n",
    "\n",
    "### [Hint: An identity matrix is a matrix containing 1 diagonally and other elements will be 0.]\n",
    "---"
   ]
  },
  {
   "cell_type": "code",
   "execution_count": 7,
   "id": "56723788-1eb4-4772-8aa7-e3cc15215058",
   "metadata": {},
   "outputs": [
    {
     "data": {
      "text/plain": [
       "array([[1., 0., 0., 0., 0.],\n",
       "       [0., 1., 0., 0., 0.],\n",
       "       [0., 0., 1., 0., 0.],\n",
       "       [0., 0., 0., 1., 0.],\n",
       "       [0., 0., 0., 0., 1.]])"
      ]
     },
     "execution_count": 7,
     "metadata": {},
     "output_type": "execute_result"
    }
   ],
   "source": [
    "np.eye(5)"
   ]
  },
  {
   "cell_type": "code",
   "execution_count": null,
   "id": "df792b78-3509-4db4-ac5d-920ccf4fc807",
   "metadata": {},
   "outputs": [],
   "source": []
  }
 ],
 "metadata": {
  "kernelspec": {
   "display_name": "Python 3 (ipykernel)",
   "language": "python",
   "name": "python3"
  },
  "language_info": {
   "codemirror_mode": {
    "name": "ipython",
    "version": 3
   },
   "file_extension": ".py",
   "mimetype": "text/x-python",
   "name": "python",
   "nbconvert_exporter": "python",
   "pygments_lexer": "ipython3",
   "version": "3.10.8"
  }
 },
 "nbformat": 4,
 "nbformat_minor": 5
}
