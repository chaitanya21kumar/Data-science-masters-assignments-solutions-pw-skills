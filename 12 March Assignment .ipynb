{
 "cells": [
  {
   "cell_type": "markdown",
   "id": "d1ab0b71-05e4-4088-aada-59c4ac271f94",
   "metadata": {},
   "source": [
    "## Question 1 : Calculate the 95% confidence interval for a sample of data with a mean of 50 and a standard deviation of 5 using Python. Interpret the results.\n",
    "---"
   ]
  },
  {
   "cell_type": "code",
   "execution_count": 2,
   "id": "db9a3eab-1474-44dd-b0c9-e4682a622418",
   "metadata": {},
   "outputs": [
    {
     "name": "stdout",
     "output_type": "stream",
     "text": [
      "95% confidence interval : [48.13 , 51.87]\n"
     ]
    }
   ],
   "source": [
    "import scipy.stats as stats\n",
    "\n",
    "sample_mean=50\n",
    "sample_std=5\n",
    "\n",
    "sample_size=30\n",
    "\n",
    "standard_error=sample_std / (sample_size**0.5)\n",
    "                        \n",
    "margin_of_error=stats.t.ppf(0.975 , df=sample_size-1)*standard_error\n",
    "\n",
    "lower_bound=sample_mean-margin_of_error\n",
    "upper_bound=sample_mean+margin_of_error\n",
    "\n",
    "print(f\"95% confidence interval : [{lower_bound:.2f} , {upper_bound:.2f}]\")\n"
   ]
  },
  {
   "cell_type": "markdown",
   "id": "3ceb8dab-c61d-46a4-97a8-e16568646920",
   "metadata": {},
   "source": [
    "## Question 2: Conduct a chi-square goodness of fit test to determine if the distribution of colors of M&Ms in a bag matches the expected distribution of 20% blue, 20% orange, 20% green, 10% yellow, 10% red, and 20% brown. Use Python to perform the test with a significance level of 0.05\n",
    "---"
   ]
  },
  {
   "cell_type": "code",
   "execution_count": 16,
   "id": "076059c9-c4a6-4c1c-9064-e5d27e2c0471",
   "metadata": {},
   "outputs": [
    {
     "name": "stdout",
     "output_type": "stream",
     "text": [
      "chisquare test statistic :2.7632\n",
      "pvalue : 0.7364\n"
     ]
    }
   ],
   "source": [
    "import scipy.stats as stats\n",
    "import numpy as np \n",
    "\n",
    "observed_freq = [45, 40, 35, 20, 15, 35]\n",
    "total_count=sum(observed_freq)\n",
    "\n",
    "expected_freq=[0.2, 0.2, 0.2, 0.1, 0.1, 0.2]\n",
    "expected_freq=[freq*total_count for freq in expected_freq]\n",
    "\n",
    "chi2_stat,p_value=stats.chisquare(observed_freq ,expected_freq)\n",
    "\n",
    "print(f\"chisquare test statistic :{chi2_stat:.4f}\")\n",
    "print(f\"pvalue : {p_value:.4f}\")\n"
   ]
  },
  {
   "cell_type": "markdown",
   "id": "5017bc9f-8069-4772-b9a1-f56726b9908c",
   "metadata": {},
   "source": [
    "## Question 3 : Use Python to calculate the chi-square statistic and p-value for a contingency table with the following data :\n",
    "\n",
    "|         | Group A | Group B |\n",
    "|:-------:|:-------:|:-------:|\n",
    "|Outcome 1| 20      | 15      |\n",
    "|Outcome 2| 10      | 25      |\n",
    "|Outcome 3| 15      | 20      |\n",
    "\n",
    "### Interpret the results of test\n",
    "---"
   ]
  },
  {
   "cell_type": "code",
   "execution_count": 15,
   "id": "800ab9d8-d042-4fc5-81bc-1e72abeb7301",
   "metadata": {},
   "outputs": [
    {
     "name": "stdout",
     "output_type": "stream",
     "text": [
      "chisquare test statistic :5.8333\n",
      "pvalue :0.0541\n",
      "dof :2\n",
      "expected frequencies:\n",
      "[[15. 20.]\n",
      " [15. 20.]\n",
      " [15. 20.]]\n"
     ]
    }
   ],
   "source": [
    "import scipy.stats as stats \n",
    "import numpy as np \n",
    "\n",
    "observed_data=np.array([[20,15],\n",
    "                       [10,25],\n",
    "                       [15,20]])\n",
    "\n",
    "chi2stat,p_value,dof,expected_freq=stats.chi2_contingency(observed_data)\n",
    "\n",
    "print(f\"chisquare test statistic :{chi2stat:.4f}\")\n",
    "print(f\"pvalue :{p_value:.4f}\")\n",
    "print(f\"dof :{dof}\")\n",
    "print(\"expected frequencies:\")\n",
    "print(expected_freq)"
   ]
  },
  {
   "cell_type": "markdown",
   "id": "0e12017e-d14e-4f72-a109-e392b3a9ea69",
   "metadata": {},
   "source": [
    "## Question 4 : Study of the prevalence of smoking in a population of 500 individuals found that 60 individuals smoked. Use Python to calculate the 95% confidence interval for the true proportion of individuals in the population who smoke.\n",
    "---"
   ]
  },
  {
   "cell_type": "code",
   "execution_count": 17,
   "id": "01d8e124-b4d9-4e82-aca0-c2e7068c1f48",
   "metadata": {},
   "outputs": [
    {
     "name": "stdout",
     "output_type": "stream",
     "text": [
      "sample size : 500\n",
      "number of smokers :60\n",
      "smoking proportion :0.1200\n",
      "95% confidence interval:(0.09151638887130706, 0.14848361112869293)\n"
     ]
    }
   ],
   "source": [
    "import statsmodels.stats.proportion as proportion\n",
    "sample_size=500\n",
    "smokers=60\n",
    "\n",
    "smoking_proportion=smokers/sample_size\n",
    "\n",
    "conf_interval=proportion.proportion_confint(smokers,sample_size,alpha=0.05,method='normal')\n",
    "\n",
    "print(f\"sample size : {sample_size}\")\n",
    "print(f\"number of smokers :{smokers}\")\n",
    "print(f\"smoking proportion :{smoking_proportion:.4f}\")\n",
    "print(f\"95% confidence interval:{conf_interval}\")"
   ]
  },
  {
   "cell_type": "markdown",
   "id": "1ed0382c-173a-4375-abf6-9f9fb7f104b4",
   "metadata": {},
   "source": [
    "## Question 5 : Calculate the 90% confidence interval for a sample of data with a mean of 75 and a standard deviation of 12 using Python. Interpret the results.\n",
    "---"
   ]
  },
  {
   "cell_type": "code",
   "execution_count": 18,
   "id": "84796f09-5f9b-4ba6-96c1-53235be19a17",
   "metadata": {},
   "outputs": [
    {
     "name": "stdout",
     "output_type": "stream",
     "text": [
      "sample mean:75\n",
      "sample standard deviation :12\n",
      "sample size:30\n",
      "90% confidence interval :(71.27739919800369, 78.72260080199631)\n"
     ]
    }
   ],
   "source": [
    "import scipy.stats as stats \n",
    "import numpy as np \n",
    "\n",
    "sample_mean=75\n",
    "sample_std=12\n",
    "sample_size=30\n",
    "\n",
    "standard_error=sample_std/np.sqrt(sample_size)\n",
    "\n",
    "confidence_level=0.90\n",
    "degrees_of_freedom=sample_size-1\n",
    "t_value=stats.t.ppf((1+confidence_level)/2,degrees_of_freedom)\n",
    "\n",
    "margin_of_error=t_value*standard_error\n",
    "\n",
    "confidence_interval=(sample_mean-margin_of_error,sample_mean+margin_of_error)\n",
    "\n",
    "print(f\"sample mean:{sample_mean}\")\n",
    "print(f\"sample standard deviation :{sample_std}\")\n",
    "print(f\"sample size:{sample_size}\")\n",
    "print(f\"90% confidence interval :{confidence_interval}\")"
   ]
  },
  {
   "cell_type": "markdown",
   "id": "3e6e76cf-a19e-4bc0-afc3-c904589aafc9",
   "metadata": {},
   "source": [
    "## Question 6 : Use Python to plot the chi-square distribution with 10 degrees of freedom. Label the axes and shade the area corresponding to a chi-square statistic of 15.\n",
    "---"
   ]
  },
  {
   "cell_type": "code",
   "execution_count": 19,
   "id": "c6b82151-086f-45be-9a28-204d38aa8630",
   "metadata": {},
   "outputs": [
    {
     "data": {
      "image/png": "[encoded data removed]",
      "text/plain": [
       "<Figure size 800x600 with 1 Axes>"
      ]
     },
     "metadata": {},
     "output_type": "display_data"
    }
   ],
   "source": [
    "import numpy as np \n",
    "import matplotlib.pyplot as plt\n",
    "import scipy.stats as stats\n",
    "\n",
    "df=10\n",
    "\n",
    "x=np.linspace(0,30,500)\n",
    "\n",
    "pdf=stats.chi2.pdf(x,df)\n",
    "\n",
    "plt.figure(figsize=(8,6))\n",
    "\n",
    "plt.plot(x,pdf,'b-',label=f\"chi square with {df} degrees of freedom\")\n",
    "\n",
    "shade_start=0\n",
    "shade_end=15\n",
    "x_shade=np.linspace(shade_start,shade_end,100)\n",
    "y_shade=stats.chi2.pdf(x_shade,df)\n",
    "plt.fill_between(x_shade,y_shade,color='red',alpha=0.3 , label='shaded area')\n",
    "\n",
    "plt.xlabel('chi square statistic')\n",
    "plt.ylabel('probability density function')\n",
    "\n",
    "plt.show()"
   ]
  },
  {
   "cell_type": "markdown",
   "id": "e6e82704-2bcd-4df7-8443-cb4a4ff908ba",
   "metadata": {},
   "source": [
    "## Question 7 : A random sample of 1000 people was asked if they preferred Coke or Pepsi. Of the sample, 520 preferred Coke. Calculate a 99% confidence interval for the true proportion of people in the population who prefer Coke.\n",
    "---"
   ]
  },
  {
   "cell_type": "code",
   "execution_count": 21,
   "id": "f3568665-0a7a-44ba-a3b5-b412224ebb8b",
   "metadata": {},
   "outputs": [
    {
     "name": "stdout",
     "output_type": "stream",
     "text": [
      "Sample size: 1000\n",
      "Number of people who prefer Coke: 520\n",
      "Sample proportion: 0.52\n",
      "99% Confidence Interval: (0.4793051576779699, 0.5606948423220302)\n"
     ]
    }
   ],
   "source": [
    "import scipy.stats as stats\n",
    "import numpy as np\n",
    "\n",
    "# Sample data\n",
    "sample_size = 1000\n",
    "preferred_coke = 520\n",
    "\n",
    "# Calculate the sample proportion\n",
    "sample_proportion = preferred_coke / sample_size\n",
    "\n",
    "# Calculate the standard error\n",
    "standard_error = np.sqrt((sample_proportion * (1 - sample_proportion)) / sample_size)\n",
    "\n",
    "# Calculate the z-value for the desired confidence level\n",
    "confidence_level = 0.99\n",
    "z_value = stats.norm.ppf((1 + confidence_level) / 2)\n",
    "\n",
    "# Calculate the margin of error\n",
    "margin_of_error = z_value * standard_error\n",
    "\n",
    "# Calculate the confidence interval\n",
    "confidence_interval = (sample_proportion - margin_of_error, sample_proportion + margin_of_error)\n",
    "\n",
    "# Print the results\n",
    "print(f\"Sample size: {sample_size}\")\n",
    "print(f\"Number of people who prefer Coke: {preferred_coke}\")\n",
    "print(f\"Sample proportion: {sample_proportion}\")\n",
    "print(f\"99% Confidence Interval: {confidence_interval}\")\n"
   ]
  },
  {
   "cell_type": "markdown",
   "id": "67e98479-ae05-43bf-a7d8-e64fe761daa9",
   "metadata": {},
   "source": [
    "## Question 8 : A researcher hypothesizes that a coin is biased towards tails. They flip the coin 100 times and observe 45 tails. Conduct a chi-square goodness of fit test to determine if the observed frequencies match the expected frequencies of a fair coin. Use a significance level of 0.05\n",
    "---"
   ]
  },
  {
   "cell_type": "code",
   "execution_count": 23,
   "id": "fc033e84-9a52-47ba-a12d-f1729f6ea055",
   "metadata": {},
   "outputs": [
    {
     "name": "stdout",
     "output_type": "stream",
     "text": [
      "chi square statistic :1.0000\n",
      "p value :0.3173\n",
      "the observed frequencies do not significantly differ from the expected frequencies \n"
     ]
    }
   ],
   "source": [
    "import scipy.stats as stats\n",
    "\n",
    "observed_freq=[45,55]\n",
    "expected_freq=[50,50]\n",
    "\n",
    "chi2_stat , p_value=stats.chisquare(observed_freq,expected_freq)\n",
    "\n",
    "alpha=0.05\n",
    "\n",
    "print(f\"chi square statistic :{chi2_stat:.4f}\")\n",
    "print(f\"p value :{p_value:.4f}\")\n",
    "\n",
    "\n",
    "if p_value<alpha:\n",
    "    print(\"the observed frequencies significantly differ from the expected frequencies\")\n",
    "else :\n",
    "    print(\"the observed frequencies do not significantly differ from the expected frequencies \")"
   ]
  },
  {
   "cell_type": "markdown",
   "id": "95423583-27d9-47e6-bd3b-48938440773a",
   "metadata": {},
   "source": [
    "## Question 9 : A study was conducted to determine if there is an association between smoking status (smoker or non-smoker) and lung cancer diagnosis (yes or no). The results are shown in the contingency table below. Conduct a chi-square test for independence to determine if there is a significant association between smoking status and lung cancer diagnosis.\n",
    "\n",
    "|            | Lung Cancer:Yes | Lung Cancer:No |\n",
    "|:----------:|:---------------:|:--------------:|\n",
    "| Smoker     | 60              | 140            |\n",
    "| Non Smoker | 30              | 170            |\n",
    "\n",
    "## Use a significance level of 0.05.\n",
    "---"
   ]
  },
  {
   "cell_type": "code",
   "execution_count": 24,
   "id": "f3b63988-14cb-4b3d-93e2-a68ea64a6cd9",
   "metadata": {},
   "outputs": [
    {
     "name": "stdout",
     "output_type": "stream",
     "text": [
      "chi square statistic :12.0573\n",
      "p value :0.0005\n",
      "degress of freedom :1\n",
      "expected frequencies :\n",
      "[[ 45. 155.]\n",
      " [ 45. 155.]]\n",
      "there is a significant association between smoking status and lung cancer diagnosis\n"
     ]
    }
   ],
   "source": [
    "import scipy.stats as stats \n",
    "\n",
    "observed_freq=[[60,140] , [30,170]]\n",
    "\n",
    "chi2_stat,p_value,dof,expected_freq=stats.chi2_contingency(observed_freq)\n",
    "\n",
    "alpha=0.05\n",
    "\n",
    "print(f\"chi square statistic :{chi2_stat:.4f}\")\n",
    "print(f\"p value :{p_value:.4f}\")\n",
    "print(f\"degress of freedom :{dof}\")\n",
    "print('expected frequencies :')\n",
    "\n",
    "print(expected_freq)\n",
    "\n",
    "if p_value <alpha:\n",
    "    print(\"there is a significant association between smoking status and lung cancer diagnosis\")\n",
    "else :\n",
    "    print(\"there is no significant association between smoking status and lung cancer diagnosis\")"
   ]
  },
  {
   "cell_type": "markdown",
   "id": "16c6d7fa-f436-4778-ada8-176c72fe83d0",
   "metadata": {},
   "source": [
    "## Question 10 : A study was conducted to determine if the proportion of people who prefer milk chocolate, dark chocolate, or white chocolate is different in the U.S. versus the U.K. A random sample of 500 people from the U.S. and a random sample of 500 people from the U.K. were surveyed. The results are shown in the contingency table below. Conduct a chi-square test for independence to determine if there is a significant association between chocolate preference and country of origin.\n",
    "\n",
    "|             | Milk Chocolate | Dark Chocolate | White Chocolate |\n",
    "|:-----------:|:--------------:|:--------------:|:---------------:|\n",
    "|U.S. (n=500) | 200            | 150            | 150             |\n",
    "|U.K. (n=500) | 225            | 175            | 100             |\n",
    "\n",
    "## Use a significance level of 0.01.\n",
    "---"
   ]
  },
  {
   "cell_type": "code",
   "execution_count": 25,
   "id": "8c1be853-7c8c-45c4-8a49-993c3f1d9a7a",
   "metadata": {},
   "outputs": [
    {
     "name": "stdout",
     "output_type": "stream",
     "text": [
      "there is a significant association between chocolate preference and country of origin\n"
     ]
    }
   ],
   "source": [
    "import scipy.stats as stats \n",
    "\n",
    "observed_freq=[[200,150,150] , [225,175,100]]\n",
    "\n",
    "chi2_stat , p_value , dof , expected_freq  =stats.chi2_contingency(observed_freq)\n",
    "\n",
    "significance_level=0.01\n",
    "\n",
    "if p_value<significance_level:\n",
    "    print(\"there is a significant association between chocolate preference and country of origin\")\n",
    "    \n",
    "else :\n",
    "    print(\"there is no significant association between chocolate preference and country of origin\")"
   ]
  },
  {
   "cell_type": "markdown",
   "id": "e07a5d9a-a3b2-4667-b3f7-c89b47f293a6",
   "metadata": {},
   "source": [
    "## Question 11 : A random sample of 30 people was selected from a population with an unknown mean and standard deviation. The sample mean was found to be 72 and the sample standard deviation was found to be 10. Conduct a hypothesis test to determine if the population mean is significantly different from 70. Use a significance level of 0.05\n",
    "---"
   ]
  },
  {
   "cell_type": "code",
   "execution_count": 1,
   "id": "245ed347-47cd-44f0-b9ce-05e4849761d4",
   "metadata": {},
   "outputs": [
    {
     "name": "stdout",
     "output_type": "stream",
     "text": [
      "there is insufficient evidence to conclude that the population mean is significantly different from 70\n"
     ]
    }
   ],
   "source": [
    "import scipy.stats as stats \n",
    "\n",
    "sample_mean=72\n",
    "sample_std=10\n",
    "sample_size=30\n",
    "population_mean=70\n",
    "\n",
    "df=sample_size-1\n",
    "\n",
    "t_value=(sample_mean-population_mean)/(sample_std/(sample_size**0.5))\n",
    "\n",
    "\n",
    "p_value=2*(1-stats.t.cdf(abs(t_value),df))\n",
    "\n",
    "significance_level=0.05\n",
    "\n",
    "\n",
    "if p_value<significance_level:\n",
    "    print(\"the population mean is significantly different from 70\")\n",
    "    \n",
    "else :\n",
    "    print(\"there is insufficient evidence to conclude that the population mean is significantly different from 70\")"
   ]
  },
  {
   "cell_type": "code",
   "execution_count": null,
   "id": "e45e6801-dddf-4611-b55a-ef5a38155601",
   "metadata": {},
   "outputs": [],
   "source": []
  }
 ],
 "metadata": {
  "kernelspec": {
   "display_name": "Python 3 (ipykernel)",
   "language": "python",
   "name": "python3"
  },
  "language_info": {
   "codemirror_mode": {
    "name": "ipython",
    "version": 3
   },
   "file_extension": ".py",
   "mimetype": "text/x-python",
   "name": "python",
   "nbconvert_exporter": "python",
   "pygments_lexer": "ipython3",
   "version": "3.10.8"
  }
 },
 "nbformat": 4,
 "nbformat_minor": 5
}
