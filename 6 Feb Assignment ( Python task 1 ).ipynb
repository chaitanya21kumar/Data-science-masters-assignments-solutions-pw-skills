{
 "cells": [
  {
   "cell_type": "markdown",
   "id": "4e2cf1a2",
   "metadata": {},
   "source": [
    "## Question 1: Create a function which will take a list as an argument and return the product of all the numbers after creating a flat list.\n",
    "\n",
    "### Use the below-given list as an argument for your function.\n",
    "\n",
    "\n",
    "### list1 = [1,2,3,4, [44,55,66, True], False, (34,56,78,89,34), {1,2,3,3,2,1}, {1:34, \"key2\": [55, 67, 78, 89], 4: (45,22, 61, 34)}, [56, 'data science'], 'Machine Learning']\n",
    "\n",
    "\n",
    "### Note: you must extract numeric keys and values of the dictionary also.\n",
    "---"
   ]
  },
  {
   "cell_type": "code",
   "execution_count": 25,
   "id": "c093be50",
   "metadata": {},
   "outputs": [
    {
     "name": "stdout",
     "output_type": "stream",
     "text": [
      "4134711838987085478833841242112000\n"
     ]
    }
   ],
   "source": [
    "list1 = [1,2,3,4, [44,55,66, True], False, (34,56,78,89,34), {1,2,3,3,2,1}, \n",
    "         {1:34, \"key2\": [55, 67, 78, 89], 4: (45,22, 61, 34)}, [56, 'data science'], 'Machine Learning']\n",
    "\n",
    "\n",
    "from functools import reduce \n",
    "\n",
    "def test(l):\n",
    "    a=[]\n",
    "    for x in list1 :\n",
    "        if type(x)==int or type(x)==str or type(x)==bool :\n",
    "            a.append(x)\n",
    "        elif type(x)==list or type(x)==tuple :\n",
    "            for b in x :\n",
    "                a.append(b)\n",
    "        elif type(x)==set :\n",
    "            for c in x :\n",
    "                a.append(c)\n",
    "        else :\n",
    "            for s in x.keys():\n",
    "                a.append(s)\n",
    "            for f in x.values():\n",
    "                if type(f)==int:\n",
    "                    a.append(f)\n",
    "                else :\n",
    "                    for g in f :\n",
    "                        a.append(g)\n",
    "    \n",
    "    o=list(filter(lambda z : type(z)==int , a))\n",
    "    p=reduce(lambda x,y:x*y , o)\n",
    "    return o,p\n",
    "\n",
    "\n",
    "o,p=test(list1)\n",
    "print(p)\n",
    "                "
   ]
  },
  {
   "cell_type": "markdown",
   "id": "deebfbf3",
   "metadata": {},
   "source": [
    "## Question 2 : Write a python program for encrypting a message sent to you by your friend. The logic of encryption should be such that, for a the output should be z. For b, the output should be y. For c, the output should be x respectively. Also, the whitespace should be replaced with a dollar sign. Keep the punctuation marks unchanged.\n",
    "\n",
    "### Input Sentence: I want to become a Data Scientist.\n",
    "\n",
    "### Encrypt the above input sentence using the program you just created.\n",
    "\n",
    "### Note: Convert the given input sentence into lowercase before encrypting. The final output should be lowercase.\n",
    "---"
   ]
  },
  {
   "cell_type": "code",
   "execution_count": 26,
   "id": "c877cc61",
   "metadata": {},
   "outputs": [
    {
     "name": "stdout",
     "output_type": "stream",
     "text": [
      "Given string : I want to become a Data Scientist.\n",
      "\n",
      "Encrypted Message : r$dzmg$gl$yvxlnv$z$wzgz$hxrvmgrhg.\n"
     ]
    }
   ],
   "source": [
    "def Encrypt_msg(string):\n",
    "    lstring = string.lower()\n",
    "    print(f\"Given string : {string}\\n\")\n",
    "    new_string = \"\"\n",
    "    for i in lstring:\n",
    "        ascii_num = ord(i)\n",
    "        if ascii_num >= 97 and ascii_num <= 122:\n",
    "            new_string = new_string + chr(122 - (ascii_num - 97))\n",
    "        elif i == \" \":\n",
    "            new_string = new_string + \"$\"\n",
    "        else:\n",
    "            new_string = new_string + i\n",
    "    print(f\"Encrypted Message : {new_string}\")\n",
    "    \n",
    "    \n",
    "string = \"I want to become a Data Scientist.\"\n",
    "Encrypt_msg(string)"
   ]
  },
  {
   "cell_type": "code",
   "execution_count": null,
   "id": "3b9b5ba0",
   "metadata": {},
   "outputs": [],
   "source": []
  }
 ],
 "metadata": {
  "kernelspec": {
   "display_name": "Python 3 (ipykernel)",
   "language": "python",
   "name": "python3"
  },
  "language_info": {
   "codemirror_mode": {
    "name": "ipython",
    "version": 3
   },
   "file_extension": ".py",
   "mimetype": "text/x-python",
   "name": "python",
   "nbconvert_exporter": "python",
   "pygments_lexer": "ipython3",
   "version": "3.9.13"
  }
 },
 "nbformat": 4,
 "nbformat_minor": 5
}
