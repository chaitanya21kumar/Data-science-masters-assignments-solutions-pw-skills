{
 "cells": [
  {
   "cell_type": "markdown",
   "id": "424b2016",
   "metadata": {},
   "source": [
    "## Question 1: What is Flask Framework? What are the advantages of Flask Framework?\n",
    "---"
   ]
  },
  {
   "cell_type": "markdown",
   "id": "162cb3b2",
   "metadata": {},
   "source": [
    "Flask is a micro web framework for Python that allows you to build web applications quickly and easily. It is lightweight and flexible, and it comes with a minimal set of tools and libraries, which allows developers to have greater control over their applications.\n",
    "\n",
    "Some advantages of Flask are:\n",
    "\n",
    "Simplicity: Flask has a simple and intuitive API, which makes it easy to learn and use, even for beginners.\n",
    "\n",
    "Flexibility: Flask is a lightweight framework, which means that it doesn't impose any specific coding patterns or project structures. This allows developers to build applications according to their specific needs and preferences.\n",
    "\n",
    "Extensibility: Flask has a modular design, which means that developers can add or remove features as needed, using a variety of third-party extensions.\n",
    "\n",
    "Scalability: Flask is designed to scale well, allowing developers to easily add more functionality as their applications grow.\n",
    "\n",
    "Testing: Flask makes it easy to write and run tests for your application, which is essential for ensuring its quality and reliability.\n",
    "\n",
    "Compatibility: Flask works with a wide range of Python versions and web servers, which makes it a versatile and reliable choice for web development.\n",
    "\n",
    "Overall, Flask is a great choice for building small to medium-sized web applications, due to its simplicity, flexibility, and extensibility."
   ]
  },
  {
   "cell_type": "markdown",
   "id": "88d50d89",
   "metadata": {},
   "source": [
    "## Question 2: Create a simple Flask application to display ‘Hello World!!’. Attach the screenshot of the output in Jupyter Notebook.\n",
    "---"
   ]
  },
  {
   "cell_type": "code",
   "execution_count": 2,
   "id": "8164ee4b",
   "metadata": {},
   "outputs": [
    {
     "name": "stdout",
     "output_type": "stream",
     "text": [
      "Requirement already satisfied: flask in ./opt/anaconda3/lib/python3.9/site-packages (1.1.2)\n",
      "Requirement already satisfied: itsdangerous>=0.24 in ./opt/anaconda3/lib/python3.9/site-packages (from flask) (2.0.1)\n",
      "Requirement already satisfied: Jinja2>=2.10.1 in ./opt/anaconda3/lib/python3.9/site-packages (from flask) (2.11.3)\n",
      "Requirement already satisfied: click>=5.1 in ./opt/anaconda3/lib/python3.9/site-packages (from flask) (8.0.4)\n",
      "Requirement already satisfied: Werkzeug>=0.15 in ./opt/anaconda3/lib/python3.9/site-packages (from flask) (2.0.3)\n",
      "Requirement already satisfied: MarkupSafe>=0.23 in ./opt/anaconda3/lib/python3.9/site-packages (from Jinja2>=2.10.1->flask) (2.0.1)\n",
      "Note: you may need to restart the kernel to use updated packages.\n"
     ]
    }
   ],
   "source": [
    "%pip install flask"
   ]
  },
  {
   "cell_type": "code",
   "execution_count": null,
   "id": "327fc83c",
   "metadata": {},
   "outputs": [
    {
     "name": "stdout",
     "output_type": "stream",
     "text": [
      " * Serving Flask app \"__main__\" (lazy loading)\n",
      " * Environment: production\n",
      "\u001b[31m   WARNING: This is a development server. Do not use it in a production deployment.\u001b[0m\n",
      "\u001b[2m   Use a production WSGI server instead.\u001b[0m\n",
      " * Debug mode: off\n"
     ]
    },
    {
     "name": "stderr",
     "output_type": "stream",
     "text": [
      " * Running on all addresses.\n",
      "   WARNING: This is a development server. Do not use it in a production deployment.\n",
      " * Running on http://192.168.45.101:5000/ (Press CTRL+C to quit)\n",
      "127.0.0.1 - - [24/Apr/2023 19:03:53] \"GET / HTTP/1.1\" 200 -\n"
     ]
    }
   ],
   "source": [
    "from flask import Flask\n",
    "\n",
    "\n",
    "app=Flask(__name__)\n",
    "\n",
    "@app.route(\"/\")\n",
    "def function():\n",
    "    return \"Hello World!!\"\n",
    "\n",
    "if __name__==\"__main__\":\n",
    "    app.run(host=\"0.0.0.0\")\n"
   ]
  },
  {
   "cell_type": "markdown",
   "id": "c4380628",
   "metadata": {},
   "source": [
    "![](abc.jpeg)"
   ]
  },
  {
   "cell_type": "markdown",
   "id": "af29b6a5",
   "metadata": {},
   "source": [
    "## Question 3: What is App routing in Flask? Why do we use app routes?\n",
    "---"
   ]
  },
  {
   "cell_type": "markdown",
   "id": "9bd25d16",
   "metadata": {},
   "source": [
    "In Flask, app routing is the process of mapping URLs (or routes) to view functions in your Flask application. When a user visits a specific URL in your application, Flask will invoke the appropriate view function and generate a response to return to the user's browser.\n",
    "\n",
    "App routing is important in Flask because it allows you to define the structure and behavior of your web application. By defining routes and associated view functions, you can control what content is displayed to the user at different URLs in your application.\n",
    "\n",
    "App routing provides several benefits in Flask:\n",
    "\n",
    "Separation of concerns: By mapping routes to specific view functions, you can separate the logic of your application into discrete, modular components. This makes your code more maintainable and easier to understand.\n",
    "\n",
    "URL handling: App routing allows you to handle URLs and their parameters in a flexible and powerful way. This makes it easy to create dynamic, data-driven web applications.\n",
    "\n",
    "Customization: With app routing, you have full control over the behavior of your web application. You can customize the routing behavior based on user input, session data, or any other factor you choose.\n",
    "\n",
    "Here's an example of how to define a simple app route in Flask:"
   ]
  },
  {
   "cell_type": "code",
   "execution_count": null,
   "id": "3e44d654",
   "metadata": {},
   "outputs": [],
   "source": [
    "from flask import Flask \n",
    "\n",
    "app= Flask(__name__)\n",
    "\n",
    "\n",
    "@app.route('/')\n",
    "def home():\n",
    "    return 'Hello, world!'\n",
    "\n",
    "\n",
    "if __name__==\"__main__\":\n",
    "    app.run()"
   ]
  },
  {
   "cell_type": "markdown",
   "id": "5e4671d7",
   "metadata": {},
   "source": [
    "In this example, we're defining an app route using the @app.route() decorator. The route is specified as '/', which means that it will be the home page of our application. The home() function is the associated view function, which simply returns the string 'Hello, world!'. When the user visits the URL 'http://localhost:5000/' in their browser (assuming that the Flask development server is running on port 5000), Flask will invoke the home() function and return the string 'Hello, world!' as the response.\n",
    "\n",
    "App routing is a powerful feature of Flask that allows you to build complex web applications with ease. By defining app routes, you can create a logical structure for your application and make it easy for users to navigate and interact with your content."
   ]
  },
  {
   "cell_type": "markdown",
   "id": "02eb62f2",
   "metadata": {},
   "source": [
    "## Question 4: Create a “/welcome” route to display the welcome message “Welcome to ABC Corporation” and a “/” route to show the following details:\n",
    "\n",
    "Company Name: ABC Corporation\n",
    "\n",
    "Location: India\n",
    "\n",
    "Contact Detail: 999-999-9999\n",
    "\n",
    "Attach the screenshot of the output in Jupyter Notebook.\n",
    "\n",
    "---"
   ]
  },
  {
   "cell_type": "code",
   "execution_count": null,
   "id": "2ed2c45b",
   "metadata": {},
   "outputs": [],
   "source": [
    "from flask import Flask \n",
    "\n",
    "app= Flask(__name__)\n",
    "\n",
    "@app.route(\"/welcome\")\n",
    "def function1():\n",
    "    return \"Welcome to ABC Corporation\"\n",
    "\n",
    "@app.route(\"/\")\n",
    "def function2():\n",
    "    return '''\n",
    "    <h1>Company Name: ABC Corporation</h1>\n",
    "    <p>Location: India</p>\n",
    "    <p>Contact Detail: 999-999-9999</p>\n",
    "    '''\n",
    "\n",
    "if __name__==\"__main__\":\n",
    "    app.run()"
   ]
  },
  {
   "cell_type": "markdown",
   "id": "1f63eac1",
   "metadata": {},
   "source": [
    "![](11.png)"
   ]
  },
  {
   "cell_type": "markdown",
   "id": "c593908a",
   "metadata": {},
   "source": [
    "![](22.png)"
   ]
  },
  {
   "cell_type": "markdown",
   "id": "afa92d94",
   "metadata": {},
   "source": [
    "## Question 5: What function is used in Flask for URL Building? Write a Python code to demonstrate the working of the url_for() function\n",
    "---"
   ]
  },
  {
   "cell_type": "markdown",
   "id": "1941c47c",
   "metadata": {},
   "source": [
    "The url_for() function is used in Flask for URL building. It generates a URL to a specific function based on the provided endpoint and any arguments passed to it.\n",
    "\n",
    "Here is an example Python code to demonstrate the working of the url_for() function in Flask:"
   ]
  },
  {
   "cell_type": "code",
   "execution_count": 1,
   "id": "42404e13",
   "metadata": {},
   "outputs": [
    {
     "name": "stdout",
     "output_type": "stream",
     "text": [
      "/\n",
      "/user/Alice\n"
     ]
    }
   ],
   "source": [
    "from flask import Flask , url_for\n",
    "\n",
    "app=Flask(__name__)\n",
    "\n",
    "\n",
    "@app.route('/')\n",
    "def home():\n",
    "    return 'Hello,World!'\n",
    "\n",
    "@app.route('/user/<name>')\n",
    "def user(name):\n",
    "    return f'Hello,{name}!'\n",
    "\n",
    "\n",
    "if __name__==\"__main__\":\n",
    "    with app.test_request_context():\n",
    "        print(url_for('home'))\n",
    "        print(url_for('user',name='Alice'))"
   ]
  },
  {
   "cell_type": "markdown",
   "id": "3831b771",
   "metadata": {},
   "source": [
    "In this example, we define two app routes: '/' and '/user/<name>'. The first route ('/') returns a simple string message. The second route ('/user/<name>') takes a parameter name and returns a personalized greeting message.\n",
    "\n",
    "The url_for() function is called twice in the last two lines of the code. The first call to url_for() with 'home' as the argument returns the URL '/', which is the URL for the home page of the application. The second call to url_for() with 'user' as the argument and name='Alice' as a keyword argument returns the URL '/user/Alice', which is the URL for the personalized greeting page for the user 'Alice'.\n",
    "\n",
    "Note that the with app.test_request_context() statement is used to create a test request context for the application, which is required for the url_for() function to work properly."
   ]
  },
  {
   "cell_type": "code",
   "execution_count": null,
   "id": "4f39a681",
   "metadata": {},
   "outputs": [],
   "source": []
  }
 ],
 "metadata": {
  "kernelspec": {
   "display_name": "Python 3 (ipykernel)",
   "language": "python",
   "name": "python3"
  },
  "language_info": {
   "codemirror_mode": {
    "name": "ipython",
    "version": 3
   },
   "file_extension": ".py",
   "mimetype": "text/x-python",
   "name": "python",
   "nbconvert_exporter": "python",
   "pygments_lexer": "ipython3",
   "version": "3.9.13"
  }
 },
 "nbformat": 4,
 "nbformat_minor": 5
}
