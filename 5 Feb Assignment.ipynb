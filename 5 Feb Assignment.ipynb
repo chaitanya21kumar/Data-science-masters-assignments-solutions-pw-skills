{
 "cells": [
  {
   "cell_type": "markdown",
   "id": "61bbecb6",
   "metadata": {},
   "source": [
    "## Question 1: Explain Class and Object with respect to Object-Oriented Programming. Give a suitable example.\n",
    "---\n",
    "Class is a blueprint or a template for creating objects (instances of a class). It defines a set of attributes (properties) and behaviors (methods) that are common to all objects of that class. In object-oriented programming, a class encapsulates the data and the functions that operate on that data.\n",
    "\n",
    "An Object, on the other hand, is an instance of a class. It represents a specific entity with its own property values and methods. Objects are instances of classes, created at runtime.\n",
    "\n",
    "For example :-"
   ]
  },
  {
   "cell_type": "code",
   "execution_count": 7,
   "id": "b8ac90a2",
   "metadata": {},
   "outputs": [
    {
     "data": {
      "text/plain": [
       "(9189181918, 'a@gmail.com', 213)"
      ]
     },
     "execution_count": 7,
     "metadata": {},
     "output_type": "execute_result"
    }
   ],
   "source": [
    "# Here pwskills is class \n",
    "\n",
    "\n",
    "class pwskills :\n",
    "    def __init__(self,phone_number , email_id , student_id):\n",
    "        self.phone_number=phone_number \n",
    "        self.email_id=email_id\n",
    "        self.student_id=student_id\n",
    "        \n",
    "    def student_details(self):\n",
    "        return self.phone_number,self.email_id,self.student_id\n",
    "    \n",
    "a=pwskills(9189181918,\"a@gmail.com\",213)\n",
    "a.student_details()\n",
    "\n",
    "# And a is object"
   ]
  },
  {
   "cell_type": "markdown",
   "id": "7ac2a3cd",
   "metadata": {},
   "source": [
    "## Question 2: Name the four pillars of OOPs.\n",
    "---\n",
    "Abstraction: This refers to the process of hiding the implementation details of an object and exposing only the necessary information to the users.\n",
    "\n",
    "Encapsulation: This refers to the wrapping of data (properties) and functions (methods) into a single unit or object. It ensures that the internal representation of an object is hidden from the outside world and can only be accessed through a well-defined interface.\n",
    "\n",
    "Inheritance: This refers to the ability of a new class to inherit the properties and behaviors of an existing class. The new class is called a subclass or derived class, and the existing class is called a superclass or base class.\n",
    "\n",
    "Polymorphism: This refers to the ability of objects to take on multiple forms. In OOP, polymorphism is achieved through method overriding and method overloading. It allows objects of different classes to be treated as objects of the same class, enabling code reusability and making the code more flexible and easier to maintain."
   ]
  },
  {
   "cell_type": "markdown",
   "id": "e6198d45",
   "metadata": {},
   "source": [
    "## Question 3 : Explain why the \\__init__() function is used. Give a suitable example.\n",
    "---\n",
    "The __init__() function is a special method in Python classes, also known as the constructor method. It is automatically called when an object of the class is created. The primary purpose of the __init__() function is to initialize the object's attributes or properties with the values passed as arguments when the object is created."
   ]
  },
  {
   "cell_type": "code",
   "execution_count": 10,
   "id": "c39e678c",
   "metadata": {},
   "outputs": [
    {
     "data": {
      "text/plain": [
       "('apple', 99000, '64gb')"
      ]
     },
     "execution_count": 10,
     "metadata": {},
     "output_type": "execute_result"
    }
   ],
   "source": [
    "class laptop :\n",
    "    def __init__(self,brand,price,storage):\n",
    "        self.brand=brand\n",
    "        self.price=price\n",
    "        self.storage=storage\n",
    "        \n",
    "    def laptop_details(self):\n",
    "        return self.brand , self.price , self.storage \n",
    "\n",
    "    \n",
    "    \n",
    "p1=laptop(\"apple\",99000,\"64gb\")\n",
    "    \n",
    "p1.laptop_details()"
   ]
  },
  {
   "cell_type": "markdown",
   "id": "f1fb0827",
   "metadata": {},
   "source": [
    "## Question 4: Why self is used in OOPs?\n",
    "---\n",
    "self represents the instance of the class. By using the “self”  we can access the attributes and methods of the class in python. It binds the attributes with the given arguments.\n",
    "\n",
    "The reason we need to use self. is because Python does not use the @ syntax to refer to instance attributes. Python decided to do methods in a way that makes the instance to which the method belongs be passed automatically, but not received automatically: the first parameter of methods is the instance the method is called on.\n",
    "\n",
    "In more clear way you can say that self has following Characteristic-\n",
    "\n",
    "1. self is always pointing to Current Object.\n",
    "2. self is the first argument to be passed in Constructor and Instance Method.\n",
    "-  self must be provided as a First parameter to the Instance method and constructor. If you don’t provide it, it will cause an error.\n",
    "3. self is a convention and not a Python keyword.\n",
    "-  self is parameter in Instance Method and user can use another parameter name in place of it. But it is advisable to use self because it increases the readability of code, and it is also a good programming practice.\n",
    "\n",
    "For example :-"
   ]
  },
  {
   "cell_type": "code",
   "execution_count": 21,
   "id": "5c4fb49d",
   "metadata": {},
   "outputs": [
    {
     "data": {
      "text/plain": [
       "('samsung', 22000, '48mp')"
      ]
     },
     "execution_count": 21,
     "metadata": {},
     "output_type": "execute_result"
    }
   ],
   "source": [
    "class mobile_phones :\n",
    "    def __init__(self,brand,price,camera):\n",
    "        self.brand=brand\n",
    "        self.price=price\n",
    "        self.camera=camera\n",
    "        \n",
    "    def mobile_details(self):\n",
    "        return self.brand , self.price , self.camera\n",
    "    \n",
    "a=mobile_phones(\"samsung\",22000,\"48mp\")\n",
    "a.mobile_details()\n"
   ]
  },
  {
   "cell_type": "markdown",
   "id": "97bec037",
   "metadata": {},
   "source": [
    "## Question 5 : What is inheritance? Give an example for each type of inheritance.\n",
    "---\n",
    "\n",
    "Inheritance is a mechanism in object-oriented programming (OOP) that allows a new class to be created based on an existing class. \n",
    "## The new class inherits the attributes and behaviors of the existing class, and can also add its own unique attributes and behaviors."
   ]
  },
  {
   "cell_type": "code",
   "execution_count": 23,
   "id": "3e34a19e",
   "metadata": {},
   "outputs": [
    {
     "name": "stdout",
     "output_type": "stream",
     "text": [
      "Amazon is an Online Ecommerce Store\n",
      "Ebay is an Online Store\n",
      "OLX is an Online Buy Sell Store\n"
     ]
    }
   ],
   "source": [
    "### 1. Single Inheritance : When child class is derived from only one parent class. This is called single inheritance\n",
    "\n",
    "# Single Inheritance Example\n",
    "class Brands:               #parent_class\n",
    "    brand_name_1 = \"Amazon\"\n",
    "    brand_name_2 = \"Ebay\"\n",
    "    brand_name_3 = \"OLX\"\n",
    "    \n",
    "class Products(Brands):       #child_class\n",
    "    prod_1 = \"Online Ecommerce Store\"\n",
    "    prod_2 = \"Online Store\"\n",
    "    prod_3 = \"Online Buy Sell Store\"\n",
    "    \n",
    "obj_1 = Products()          #Object_creation\n",
    "print(obj_1.brand_name_1+\" is an \"+obj_1.prod_1)\n",
    "print(obj_1.brand_name_2+\" is an \"+obj_1.prod_2)\n",
    "print(obj_1.brand_name_3+\" is an \"+obj_1.prod_3)"
   ]
  },
  {
   "cell_type": "code",
   "execution_count": 24,
   "id": "58aadce0",
   "metadata": {},
   "outputs": [
    {
     "name": "stdout",
     "output_type": "stream",
     "text": [
      "Amazon is an Online Ecommerce Store with popularity = 100\n",
      "Ebay is an Online Store with popularity = 70\n",
      "OLX is an Online Buy Sell Store with popularity = 60\n"
     ]
    }
   ],
   "source": [
    "### 2. Multiple Inheritance: When child class is derived or inherited from more than one parent class. This is called multiple inheritance. In multiple inheritance, we have two parent classes/base classes and one child class that inherits both parent classes properties.\n",
    "\n",
    "\n",
    "#example_of_multiple_inheritance\n",
    "\n",
    "class Brands:               #parent_class_1\n",
    "    brand_name_1 = \"Amazon\"\n",
    "    brand_name_2 = \"Ebay\"\n",
    "    brand_name_3 = \"OLX\"\n",
    "    \n",
    "class Products:             #parent_class_2\n",
    "    prod_1 = \"Online Ecommerce Store\"\n",
    "    prod_2 = \"Online Store\"\n",
    "    prod_3 = \"Online Buy Sell Store\"\n",
    "\n",
    "class Popularity(Brands,Products): #child class created from parent class 1 and parent class 2\n",
    "    prod_1_popularity = 100\n",
    "    prod_2_popularity = 70\n",
    "    prod_3_popularity = 60\n",
    "    \n",
    "obj_1 = Popularity()          #Object_creation\n",
    "print(obj_1.brand_name_1+\" is an \"+obj_1.prod_1 +\" with popularity = \"+str(obj_1.prod_1_popularity))\n",
    "print(obj_1.brand_name_2+\" is an \"+obj_1.prod_2 +\" with popularity = \"+str(obj_1.prod_2_popularity))\n",
    "print(obj_1.brand_name_3+\" is an \"+obj_1.prod_3 +\" with popularity = \"+str(obj_1.prod_3_popularity))"
   ]
  },
  {
   "cell_type": "code",
   "execution_count": 26,
   "id": "d4c50a27",
   "metadata": {},
   "outputs": [
    {
     "name": "stdout",
     "output_type": "stream",
     "text": [
      "Amazon is an Online Ecommerce Store popularity of 100\n",
      "Ebay is an Online Store popularity of 70\n",
      "OLX is an Online Buy Sell Store popularity of 60\n"
     ]
    }
   ],
   "source": [
    "### 3. Multilevel Inheritance: In multilevel inheritance, we have one parent class and child class that is derived or inherited from that parent class. We have a grand-child class that is derived from the child class.\n",
    "\n",
    "#example_of_multilevel_inheritance\n",
    "\n",
    "class Brands:                      #parent_class\n",
    "    brand_name_1 = \"Amazon\"\n",
    "    brand_name_2 = \"Ebay\"\n",
    "    brand_name_3 = \"OLX\"\n",
    "    \n",
    "class Products(Brands):            #child_class\n",
    "    prod_1 = \"Online Ecommerce Store\"\n",
    "    prod_2 = \"Online Store\"\n",
    "    prod_3 = \"Online Buy Sell Store\"\n",
    "\n",
    "class Popularity(Products):        #grand_child_class\n",
    "    prod_1_popularity = 100\n",
    "    prod_2_popularity = 70\n",
    "    prod_3_popularity = 60\n",
    "    \n",
    "    \n",
    "obj_1 = Popularity()          #Object_creation\n",
    "print(obj_1.brand_name_1+\" is an \"+obj_1.prod_1+\" popularity of \"+str(obj_1.prod_1_popularity))\n",
    "print(obj_1.brand_name_2+\" is an \"+obj_1.prod_2+\" popularity of \"+str(obj_1.prod_2_popularity))\n",
    "print(obj_1.brand_name_3+\" is an \"+obj_1.prod_3+\" popularity of \"+str(obj_1.prod_3_popularity))"
   ]
  },
  {
   "cell_type": "code",
   "execution_count": 27,
   "id": "35d0f4dd",
   "metadata": {},
   "outputs": [
    {
     "name": "stdout",
     "output_type": "stream",
     "text": [
      "Amazon is an Online Ecommerce Store with popularity of 100 and is Excellent Value\n",
      "Ebay is an Online Store with popularity of 70 and is Better Value\n",
      "OLX is an Online Buy Sell Store with popularity of 60 and is Good Value\n"
     ]
    }
   ],
   "source": [
    "### 4. Hierarchical inheritance: When we derive or inherit more than one child class from one(same) parent class. Then this type of inheritance is called hierarchical inheritance\n",
    "\n",
    "#example of Hierarchical inheritence\n",
    "\n",
    "class Brands:                      #parent_class\n",
    "    brand_name_1 = \"Amazon\"\n",
    "    brand_name_2 = \"Ebay\"\n",
    "    brand_name_3 = \"OLX\"\n",
    "    \n",
    "class Products(Brands):            #child_class 1\n",
    "    prod_1 = \"Online Ecommerce Store\"\n",
    "    prod_2 = \"Online Store\"\n",
    "    prod_3 = \"Online Buy Sell Store\"\n",
    "\n",
    "class Popularity(Brands):          #child class 2\n",
    "    prod_1_popularity = 100\n",
    "    prod_2_popularity = 70\n",
    "    prod_3_popularity = 60\n",
    "\n",
    "class Value(Brands):               #child class 3\n",
    "    prod_1_value = \"Excellent Value\"\n",
    "    prod_2_value = \"Better Value\"\n",
    "    prod_3_value = \"Good Value\"\n",
    "    \n",
    "obj_1 = Products()          #Objects_creation\n",
    "obj_2 = Popularity()\n",
    "obj_3 = Value()\n",
    "print(obj_1.brand_name_1+\" is an \"+obj_1.prod_1+' with popularity of '+str(obj_2.prod_1_popularity)+' and is '+ obj_3.prod_1_value)\n",
    "print(obj_1.brand_name_2+\" is an \"+obj_1.prod_2+' with popularity of '+str(obj_2.prod_2_popularity)+' and is '+ obj_3.prod_2_value)\n",
    "print(obj_1.brand_name_3+\" is an \"+obj_1.prod_3+' with popularity of '+str(obj_2.prod_3_popularity)+' and is '+ obj_3.prod_3_value)\n"
   ]
  },
  {
   "cell_type": "code",
   "execution_count": 28,
   "id": "1be8e33a",
   "metadata": {},
   "outputs": [
    {
     "name": "stdout",
     "output_type": "stream",
     "text": [
      "This function is in school.\n",
      "This function is in student 1. \n"
     ]
    }
   ],
   "source": [
    "### 5. Hybrid Inheritance - Inheritance consisting of multiple types of inheritance is called hybrid inheritance.\n",
    "\n",
    "# hybrid inheritance \n",
    " \n",
    "class School:\n",
    "    def func1(self):\n",
    "        print(\"This function is in school.\")\n",
    " \n",
    " \n",
    "class Student1(School):\n",
    "    def func2(self):\n",
    "        print(\"This function is in student 1. \")\n",
    " \n",
    " \n",
    "class Student2(School):\n",
    "    def func3(self):\n",
    "        print(\"This function is in student 2.\")\n",
    " \n",
    " \n",
    "class Student3(Student1, School):\n",
    "    def func4(self):\n",
    "        print(\"This function is in student 3.\")\n",
    " \n",
    " \n",
    "# Driver's code\n",
    "object = Student3()\n",
    "object.func1()\n",
    "object.func2()"
   ]
  },
  {
   "cell_type": "code",
   "execution_count": null,
   "id": "a2bf55f7",
   "metadata": {},
   "outputs": [],
   "source": []
  }
 ],
 "metadata": {
  "kernelspec": {
   "display_name": "Python 3 (ipykernel)",
   "language": "python",
   "name": "python3"
  },
  "language_info": {
   "codemirror_mode": {
    "name": "ipython",
    "version": 3
   },
   "file_extension": ".py",
   "mimetype": "text/x-python",
   "name": "python",
   "nbconvert_exporter": "python",
   "pygments_lexer": "ipython3",
   "version": "3.9.13"
  }
 },
 "nbformat": 4,
 "nbformat_minor": 5
}
