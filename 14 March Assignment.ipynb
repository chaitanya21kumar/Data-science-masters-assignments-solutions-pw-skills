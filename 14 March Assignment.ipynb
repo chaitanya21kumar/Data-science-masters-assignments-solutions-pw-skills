{
 "cells": [
  {
   "cell_type": "markdown",
   "id": "e627bd7a-d67c-45c6-b382-15d2faaaf3f0",
   "metadata": {},
   "source": [
    "## Question 1: Write a Python function that takes in two arrays of data and calculates the F-value for a variance ratio test. The function should return the F-value and the corresponding p-value for the test.\n",
    "---"
   ]
  },
  {
   "cell_type": "code",
   "execution_count": 7,
   "id": "e446b12a-da68-4a3e-bcb9-1fbd9759f882",
   "metadata": {},
   "outputs": [],
   "source": [
    "import numpy as np\n",
    "from scipy.stats import f \n",
    "\n",
    "def variance_ratio_test(data1,data2):\n",
    "    var1=np.var(data1,ddof=1)\n",
    "    var2=np.var(data2,ddof=1)\n",
    "    \n",
    "    f_value=var1/var2\n",
    "    \n",
    "    df1=len(data1)-1\n",
    "    df2=len(data2)-1\n",
    "    \n",
    "    p_value=f.sf(f_value,df1,df2)\n",
    "    \n",
    "    return f_value , p_value \n",
    "\n"
   ]
  },
  {
   "cell_type": "code",
   "execution_count": 5,
   "id": "7cc47ba9-f0d7-4cc6-8222-01343ec0222f",
   "metadata": {},
   "outputs": [],
   "source": [
    "data1 = [1, 2, 3, 4, 5]\n",
    "data2 = [2, 4, 6, 8, 10]"
   ]
  },
  {
   "cell_type": "code",
   "execution_count": 6,
   "id": "9f958a7b-5083-4efb-a385-ab5c274c82a7",
   "metadata": {},
   "outputs": [
    {
     "name": "stdout",
     "output_type": "stream",
     "text": [
      "0.25\n",
      "0.896\n"
     ]
    }
   ],
   "source": [
    "f_value , p_value=variance_ratio_test(data1,data2)\n",
    "\n",
    "print(f_value)\n",
    "print(p_value)"
   ]
  },
  {
   "cell_type": "markdown",
   "id": "679f6f29-4542-46aa-ae03-09d881048c6a",
   "metadata": {},
   "source": [
    "## Question 2 : Given a significance level of 0.05 and the degrees of freedom for the numerator and denominator of an F-distribution, write a Python function that returns the critical F-value for a two-tailed test.\n",
    "---"
   ]
  },
  {
   "cell_type": "code",
   "execution_count": 8,
   "id": "412a8fdc-6cfe-48a4-b5c1-20eba9ade78e",
   "metadata": {},
   "outputs": [],
   "source": [
    "from scipy.stats import f \n",
    "\n",
    "def get_critical_f_value(significance_level , dfn , dfd):\n",
    "    \n",
    "    critical_f=f.ppf(1-significance_level/2,dfn,dfd)\n",
    "    return critical_f\n",
    "\n"
   ]
  },
  {
   "cell_type": "code",
   "execution_count": 9,
   "id": "37bbcc58-ccb5-4bf2-9b5f-b6245a5f6258",
   "metadata": {},
   "outputs": [
    {
     "name": "stdout",
     "output_type": "stream",
     "text": [
      "3.8586986662732143\n"
     ]
    }
   ],
   "source": [
    "critical_f=get_critical_f_value(0.05,3,20)\n",
    "print(critical_f)"
   ]
  },
  {
   "cell_type": "markdown",
   "id": "e3c0bb70-5082-417d-b542-0a9f13f41926",
   "metadata": {},
   "source": [
    "## Question 3 : Write a Python program that generates random samples from two normal distributions with known variances and uses an F-test to determine if the variances are equal. The program should output the Fvalue, degrees of freedom, and p-value for the test.\n",
    "---"
   ]
  },
  {
   "cell_type": "code",
   "execution_count": 10,
   "id": "7327099d-1fc1-4ee7-89d9-f44d7de1e038",
   "metadata": {},
   "outputs": [
    {
     "name": "stdout",
     "output_type": "stream",
     "text": [
      "f value 0.25\n",
      "degress of freedom (num,den:) 99 99\n",
      "p value  1.6688332292894104e-11\n"
     ]
    }
   ],
   "source": [
    "import numpy as np \n",
    "from scipy.stats import f \n",
    "\n",
    "\n",
    "def f_test_equal_variances(sample1,sample2):\n",
    "    var1=np.var(sample1,ddof=1)\n",
    "    var2=np.var(sample2,ddof=1)\n",
    "    \n",
    "    \n",
    "    n1=len(sample1)\n",
    "    n2=len(sample2)\n",
    "    dfn=n1-1\n",
    "    dfd=n2-1\n",
    "    \n",
    "    p_value=f.cdf(f_value,dfn,dfd)\n",
    "    \n",
    "    return f_value , dfn , dfd , p_value \n",
    "\n",
    "\n",
    "\n",
    "np.random.seed(0)\n",
    "\n",
    "\n",
    "sample1=np.random.normal(loc=0,scale=1,size=100)\n",
    "\n",
    "sample2=np.random.normal(loc=0 , scale=1, size=100)\n",
    "\n",
    "f_value , dfn , dfd , p_value = f_test_equal_variances(sample1,sample2)\n",
    "\n",
    "print('f value'  ,f_value)\n",
    "print('degress of freedom (num,den:)',dfn , dfd)\n",
    "\n",
    "print('p value ' , p_value)"
   ]
  },
  {
   "cell_type": "markdown",
   "id": "e19ea4fd-fe35-43b0-b505-f3db4100f26e",
   "metadata": {},
   "source": [
    "## Question 4 : The variances of two populations are known to be 10 and 15. A sample of 12 observations is taken from each population. Conduct an F-test at the 5% significance level to determine if the variances are significantly different.\n",
    "---"
   ]
  },
  {
   "cell_type": "code",
   "execution_count": 11,
   "id": "ef5b824f-6bdc-46de-a7f2-50927546a6b6",
   "metadata": {},
   "outputs": [
    {
     "name": "stdout",
     "output_type": "stream",
     "text": [
      "fail to reject the null hypothesis\n"
     ]
    }
   ],
   "source": [
    "import scipy.stats as stats\n",
    "variance1=10\n",
    "variance2=15\n",
    "n1=12\n",
    "n2=12\n",
    "\n",
    "\n",
    "f_value=variance1/variance2\n",
    "\n",
    "dfn=n1-1\n",
    "dfd=n2-1\n",
    "\n",
    "p_value=1-stats.f.cdf(f_value,dfn,dfd)\n",
    "\n",
    "alpha=0.05\n",
    "if p_value<alpha:\n",
    "    print(\"reject the null hypothesis\")\n",
    "    \n",
    "else :\n",
    "    print(\"fail to reject the null hypothesis\")"
   ]
  },
  {
   "cell_type": "markdown",
   "id": "2a6b025c-2368-4844-a941-a6ad4aa03f4a",
   "metadata": {},
   "source": [
    "## Question 5 : A manufacturer claims that the variance of the diameter of a certain product is 0.005. A sample of 25 products is taken, and the sample variance is found to be 0.006. Conduct an F-test at the 1% significance level to determine if the claim is justified.\n",
    "---"
   ]
  },
  {
   "cell_type": "code",
   "execution_count": 12,
   "id": "1ee98c31-977b-44b6-9def-a573867ed776",
   "metadata": {},
   "outputs": [
    {
     "name": "stdout",
     "output_type": "stream",
     "text": [
      "fail to reject the null hypothesis . The claim about the variance is justified\n"
     ]
    }
   ],
   "source": [
    "import scipy.stats as stats\n",
    "\n",
    "sample_variance=0.006\n",
    "claimed_variance=0.005\n",
    "\n",
    "sample_size=25\n",
    "\n",
    "f_value=sample_variance / claimed_variance\n",
    "\n",
    "dfn=sample_size-1\n",
    "\n",
    "dfd=float('inf')\n",
    "\n",
    "p_value=1-stats.f.cdf(f_value,dfn,dfd)\n",
    "\n",
    "\n",
    "alpha=0.01\n",
    "if p_value<alpha :\n",
    "    print(\"reject the null hypothesis . The claim about the variance is not justified\")\n",
    "    \n",
    "else :\n",
    "    print(\"fail to reject the null hypothesis . The claim about the variance is justified\")"
   ]
  },
  {
   "cell_type": "markdown",
   "id": "066da020-93a9-46b2-aca4-26d9c0003561",
   "metadata": {},
   "source": [
    "## Question 6 : Write a Python function that takes in the degrees of freedom for the numerator and denominator of an F-distribution and calculates the mean and variance of the distribution. The function should return the mean and variance as a tuple.\n",
    "---"
   ]
  },
  {
   "cell_type": "code",
   "execution_count": 14,
   "id": "1fcadcc7-480f-4af8-98c1-9ae952c93073",
   "metadata": {},
   "outputs": [
    {
     "name": "stdout",
     "output_type": "stream",
     "text": [
      "1.25\n",
      "1.3541666666666667\n"
     ]
    }
   ],
   "source": [
    "def calculate_fdistribution_parameters(dfn,dfd):\n",
    "    mean=dfd/(dfd-2)\n",
    "    variance=(2*(dfd**2)*(dfn+dfd-2))/(dfn*(dfd-2)**2*(dfd-4))\n",
    "    return mean , variance\n",
    "\n",
    "dfn=5\n",
    "dfd=10\n",
    "mean , variance = calculate_fdistribution_parameters(dfn,dfd)\n",
    "print(mean)\n",
    "print(variance)"
   ]
  },
  {
   "cell_type": "markdown",
   "id": "cc7931e4-f56e-48a8-8d0a-0834618a41c3",
   "metadata": {},
   "source": [
    "## Question 7 : A random sample of 10 measurements is taken from a normal population with unknown variance. The sample variance is found to be 25. Another random sample of 15 measurements is taken from another normal population with unknown variance, and the sample variance is found to be 20. Conduct an F-test at the 10% significance level to determine if the variances are significantly different.\n",
    "---"
   ]
  },
  {
   "cell_type": "code",
   "execution_count": 15,
   "id": "fef042ba-ccc9-43d3-b2d9-dc8a49a98bbe",
   "metadata": {},
   "outputs": [
    {
     "name": "stdout",
     "output_type": "stream",
     "text": [
      "fail to reject the null hypothesis  . There is no significant differences in the variances\n"
     ]
    }
   ],
   "source": [
    "from scipy.stats import f \n",
    "\n",
    "alpha=0.10\n",
    "F=25/20\n",
    "\n",
    "df1=9\n",
    "df2=14\n",
    "\n",
    "p_value=1-f.cdf(F,df1,df2)\n",
    "\n",
    "if p_value<alpha:\n",
    "    print(\"reject the null hypothesis . The variances are significantly different\")\n",
    "    \n",
    "else :\n",
    "    print(\"fail to reject the null hypothesis  . There is no significant differences in the variances\")\n"
   ]
  },
  {
   "cell_type": "markdown",
   "id": "03e9d6ed-1dd3-4c1c-a71c-d567b1b9e065",
   "metadata": {},
   "source": [
    "## Question 8 : The following data represent the waiting times in minutes at two different restaurants on a Saturday night: Restaurant A: 24, 25, 28, 23, 22, 20, 27; Restaurant B: 31, 33, 35, 30, 32, 36. Conduct an F-test at the 5% significance level to determine if the variances are significantly different.\n",
    "---"
   ]
  },
  {
   "cell_type": "code",
   "execution_count": 16,
   "id": "58857bed-1752-4698-9879-da83c0ed453f",
   "metadata": {},
   "outputs": [
    {
     "name": "stdout",
     "output_type": "stream",
     "text": [
      "fail to reject the null hypothesis. There is no significant difference in the variances\n"
     ]
    }
   ],
   "source": [
    "import numpy as np \n",
    "from scipy.stats import f \n",
    "\n",
    "waiting_times_a=np.array([24, 25, 28, 23, 22, 20, 27])\n",
    "\n",
    "variance_a=np.var(waiting_times_a,ddof=1)\n",
    "\n",
    "waiting_times_b=np.array([31, 33, 35, 30, 32, 36])\n",
    "variance_b=np.var(waiting_times_b , ddof=1)\n",
    "\n",
    "n1=len(waiting_times_a)\n",
    "n2=len(waiting_times_b)\n",
    "\n",
    "df1=n1-1\n",
    "df2=n2-1\n",
    "\n",
    "\n",
    "F=variance_a/variance_b\n",
    "\n",
    "p_value=1-f.cdf(F,df1,df2)\n",
    "\n",
    "alpha=0.05\n",
    "\n",
    "if p_value<alpha:\n",
    "    print(\"reject the null hypothesis . The variances are significantly different\")\n",
    "    \n",
    "else :\n",
    "    print(\"fail to reject the null hypothesis. There is no significant difference in the variances\")"
   ]
  },
  {
   "cell_type": "markdown",
   "id": "f4588c56-303d-4c6c-ae8b-6a84830d8668",
   "metadata": {},
   "source": [
    "## Question 9 : The following data represent the test scores of two groups of students: Group A: 80, 85, 90, 92, 87, 83; Group B: 75, 78, 82, 79, 81, 84. Conduct an F-test at the 1% significance level to determine if the variances are significantly different.\n",
    "---"
   ]
  },
  {
   "cell_type": "code",
   "execution_count": 18,
   "id": "55e8057d-fab7-45ee-b4e2-87c93ccd31a1",
   "metadata": {},
   "outputs": [
    {
     "name": "stdout",
     "output_type": "stream",
     "text": [
      "the variances are not significantly different\n"
     ]
    }
   ],
   "source": [
    "import numpy as np \n",
    "from scipy.stats import f\n",
    "\n",
    "\n",
    "group_a = np.array([80, 85, 90, 92, 87, 83])\n",
    "\n",
    "\n",
    "group_b = np.array([75, 78, 82, 79, 81, 84])\n",
    "\n",
    "\n",
    "\n",
    "variance_a=np.var(group_a , ddof=1)\n",
    "variance_b=np.var(group_b , ddof=1)\n",
    "\n",
    "f_statistic=variance_a/variance_b\n",
    "\n",
    "df_a=len(group_a)-1\n",
    "df_b=len(group_b)-1\n",
    "\n",
    "\n",
    "p_value=f.sf(f_statistic , df_a , df_b)\n",
    "\n",
    "alpha=0.01\n",
    "\n",
    "if p_value<alpha :\n",
    "    print(\"the variances are significantly different\")\n",
    "    \n",
    "else :\n",
    "    print(\"the variances are not significantly different\")"
   ]
  },
  {
   "cell_type": "code",
   "execution_count": null,
   "id": "9853864c-ea2a-417c-90e3-d3c313abda09",
   "metadata": {},
   "outputs": [],
   "source": []
  }
 ],
 "metadata": {
  "kernelspec": {
   "display_name": "Python 3 (ipykernel)",
   "language": "python",
   "name": "python3"
  },
  "language_info": {
   "codemirror_mode": {
    "name": "ipython",
    "version": 3
   },
   "file_extension": ".py",
   "mimetype": "text/x-python",
   "name": "python",
   "nbconvert_exporter": "python",
   "pygments_lexer": "ipython3",
   "version": "3.10.8"
  }
 },
 "nbformat": 4,
 "nbformat_minor": 5
}
