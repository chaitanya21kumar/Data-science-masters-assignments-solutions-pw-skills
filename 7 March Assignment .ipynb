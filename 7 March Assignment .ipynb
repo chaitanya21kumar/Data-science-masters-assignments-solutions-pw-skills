{
 "cells": [
  {
   "cell_type": "markdown",
   "id": "4524b9aa-7edd-47b1-8479-2d11de9eed97",
   "metadata": {},
   "source": [
    "## Question 1 : What are the three measures of central tendency?\n",
    "---"
   ]
  },
  {
   "cell_type": "markdown",
   "id": "5c470e02-8e06-4af3-83cf-1eca2821df28",
   "metadata": {},
   "source": [
    "\n",
    "The three measures of central tendency are:\n",
    "\n",
    "Mean: The mean is the arithmetic average of a set of values. It is calculated by summing up all the values and dividing the sum by the total number of values.\n",
    "\n",
    "\n",
    "Median: The median is the middle value in a dataset when the values are arranged in ascending or descending order. If there is an even number of values, the median is the average of the two middle values.\n",
    "\n",
    "\n",
    "Mode: The mode is the value that occurs most frequently in a dataset. It represents the value or values with the highest frequency.\n",
    "\n",
    "\n",
    "These measures help to summarize and describe the center or typical value of a dataset, each with its own strengths and appropriate usage depending on the characteristics of the data.\n"
   ]
  },
  {
   "cell_type": "markdown",
   "id": "07c6b561-de26-49a2-be32-cbfb9e7adc1b",
   "metadata": {},
   "source": [
    "## Question 2 : What is the difference between the mean, median, and mode? How are they used to measure the central tendency of a dataset?\n",
    "---"
   ]
  },
  {
   "cell_type": "markdown",
   "id": "c2b06577-bd8a-4a80-ab52-a59bac61da98",
   "metadata": {},
   "source": [
    "| Measure    | Definition                       | Calculation                | Usage                                                      |\n",
    "|------------|---------------------------------|----------------------------|------------------------------------------------------------|\n",
    "| Mean       | Arithmetic average of values     | Sum of values / Count      | Provides a measure of the typical value in a dataset        |\n",
    "| Median     | Middle value in ordered dataset  | Middle value               | Represents the central value, unaffected by outliers       |\n",
    "| Mode       | Most frequently occurring value  | Value(s) with highest freq | Identifies the most common value(s) in a dataset           |\n"
   ]
  },
  {
   "cell_type": "markdown",
   "id": "197b3bbe-4c2b-473a-887b-7be90041081c",
   "metadata": {},
   "source": [
    "## Question 3 : Measure the three measures of central tendency for the given height data : \n",
    "[178,177,176,177,178.2,178,175,179,180,175,178.9,176.2,177,172.5,178,176.5]\n",
    "\n",
    "---"
   ]
  },
  {
   "cell_type": "code",
   "execution_count": 2,
   "id": "861352ed-4673-4fbc-9936-3479d6b37e5e",
   "metadata": {},
   "outputs": [],
   "source": [
    "data = [178, 177, 176, 177, 178.2, 178, 175, 179, 180, 175, 178.9, 176.2, 177, 172.5, 178, 176.5]"
   ]
  },
  {
   "cell_type": "code",
   "execution_count": 3,
   "id": "693abe8d-0480-4789-9668-704a4a86a015",
   "metadata": {},
   "outputs": [],
   "source": [
    "import statistics "
   ]
  },
  {
   "cell_type": "code",
   "execution_count": 4,
   "id": "baf82bec-ae5f-40a0-85ea-51f6ad6e2e2e",
   "metadata": {},
   "outputs": [
    {
     "data": {
      "text/plain": [
       "177.01875"
      ]
     },
     "execution_count": 4,
     "metadata": {},
     "output_type": "execute_result"
    }
   ],
   "source": [
    "statistics.mean(data)"
   ]
  },
  {
   "cell_type": "code",
   "execution_count": 6,
   "id": "6911df12-fdc7-4f92-9ef1-b5a20589e368",
   "metadata": {},
   "outputs": [
    {
     "data": {
      "text/plain": [
       "177.0"
      ]
     },
     "execution_count": 6,
     "metadata": {},
     "output_type": "execute_result"
    }
   ],
   "source": [
    "statistics.median(data)"
   ]
  },
  {
   "cell_type": "code",
   "execution_count": 7,
   "id": "1129810b-1403-45b9-8b23-2e0f2d269378",
   "metadata": {},
   "outputs": [
    {
     "data": {
      "text/plain": [
       "178"
      ]
     },
     "execution_count": 7,
     "metadata": {},
     "output_type": "execute_result"
    }
   ],
   "source": [
    "statistics.mode(data)"
   ]
  },
  {
   "cell_type": "markdown",
   "id": "9f08f16b-4a66-4790-9f42-17b1e1f111e6",
   "metadata": {},
   "source": [
    "## Question 4 : Find the standard deviation for the given data\n",
    "[178,177,176,177,178.2,178,175,179,180,175,178.9,176.2,177,172.5,178,176.5]\n",
    "\n",
    "---"
   ]
  },
  {
   "cell_type": "code",
   "execution_count": 8,
   "id": "2c649e5e-1c7c-4090-a37f-f8381bbbe8fc",
   "metadata": {},
   "outputs": [
    {
     "data": {
      "text/plain": [
       "1.8472389305844188"
      ]
     },
     "execution_count": 8,
     "metadata": {},
     "output_type": "execute_result"
    }
   ],
   "source": [
    "statistics.stdev(data)"
   ]
  },
  {
   "cell_type": "markdown",
   "id": "80be37d4-8726-4467-89f8-3a86526f333d",
   "metadata": {},
   "source": [
    "## Question 5 : How are measures of dispersion such as range, variance, and standard deviation used to describe the spread of a dataset? Provide an example\n",
    "---"
   ]
  },
  {
   "cell_type": "markdown",
   "id": "0bc7e446-82a1-4862-a8cd-1b3e7c7bd2af",
   "metadata": {},
   "source": [
    "Measures of dispersion, such as range, variance, and standard deviation, are used to describe the spread or variability of a dataset. They provide information about how the data points are distributed around the central tendency measures (such as mean or median). Here's an example to illustrate their usage:\n",
    "\n",
    "Consider the following dataset representing the daily temperatures in degrees Celsius for a week: [28, 30, 29, 31, 27, 29, 32]\n",
    "\n",
    "Range: The range is the simplest measure of dispersion, calculated as the difference between the maximum and minimum values in the dataset. In this example, the range is 32 - 27 = 5 degrees Celsius. It provides a rough estimate of the spread of values.\n",
    "\n",
    "Variance: Variance measures the average squared deviation of each data point from the mean. It quantifies the overall variability in the dataset. To calculate the variance, we first find the mean (28.57 in this case) and then compute the squared differences from the mean for each value, sum them up, and divide by the number of values. The variance for this dataset is approximately 2.95 degrees Celsius squared.\n",
    "\n",
    "Standard Deviation: The standard deviation is the square root of the variance. It represents the typical or average amount by which each data point deviates from the mean. In this example, the standard deviation is approximately 1.72 degrees Celsius.\n",
    "\n",
    "By using these measures of dispersion, we can understand the spread of the temperatures in the dataset. The range gives a basic idea of the difference between the highest and lowest temperatures. The variance and standard deviation provide a more precise and standardized measure of the variability, indicating how much the temperatures deviate from the mean temperature."
   ]
  },
  {
   "cell_type": "markdown",
   "id": "a2c69175-a2c2-4e67-a2fd-ec4cdc4f4311",
   "metadata": {},
   "source": [
    "## Question 6 : What is a Venn diagram?\n",
    "---"
   ]
  },
  {
   "cell_type": "markdown",
   "id": "05e404ce-3957-41e6-9879-3eee1588e711",
   "metadata": {},
   "source": [
    "A Venn diagram is a visual representation of the relationships between different sets or groups of items. It uses overlapping circles or shapes to show the common and distinct elements among the sets being compared. The diagram was developed by John Venn in the late 19th century and has since become a widely used tool in various fields, including mathematics, logic, statistics, and data analysis.\n",
    "\n",
    "In a Venn diagram, each set is represented by a circle or an enclosed shape. The elements belonging to each set are placed inside the corresponding circle, while the overlapping regions represent the elements that are shared between the sets. The non-overlapping regions represent the elements that are unique to each set.\n",
    "\n",
    "Venn diagrams are often used to illustrate concepts such as set intersections, unions, complements, and subsets. They can help visually depict logical relationships, identify commonalities and differences between sets, and aid in problem-solving and decision-making processes.\n",
    "\n",
    "Venn diagrams can be simple with two or three sets, or they can be more complex with multiple sets. They provide a clear and intuitive way to visualize the relationships and overlaps among different groups of items or concepts."
   ]
  },
  {
   "cell_type": "markdown",
   "id": "7a7e74ff-c3c7-4e4b-bbb5-1fe6cf3e6aec",
   "metadata": {},
   "source": [
    "## Question 7 : For the two given sets A = (2,3,4,5,6,7) & B = (0,2,6,8,10). Find\n",
    "\n",
    "1. $A \\cup B$\n",
    "2. $A \\cap B$\n",
    "---"
   ]
  },
  {
   "cell_type": "code",
   "execution_count": 9,
   "id": "e73b71de-f8c1-4f01-ae38-dfeab06ddd9f",
   "metadata": {},
   "outputs": [],
   "source": [
    "A = {2, 3, 4, 5, 6, 7}\n",
    "B = {0, 2, 6, 8, 10}"
   ]
  },
  {
   "cell_type": "code",
   "execution_count": 10,
   "id": "4369c6d7-d857-4fef-8249-f60da89b5efd",
   "metadata": {},
   "outputs": [
    {
     "data": {
      "text/plain": [
       "{0, 2, 3, 4, 5, 6, 7, 8, 10}"
      ]
     },
     "execution_count": 10,
     "metadata": {},
     "output_type": "execute_result"
    }
   ],
   "source": [
    "A.union(B)"
   ]
  },
  {
   "cell_type": "code",
   "execution_count": 11,
   "id": "9342e982-b6bf-47c0-9807-84edc6e68cd2",
   "metadata": {},
   "outputs": [
    {
     "data": {
      "text/plain": [
       "{2, 6}"
      ]
     },
     "execution_count": 11,
     "metadata": {},
     "output_type": "execute_result"
    }
   ],
   "source": [
    "A.intersection(B)"
   ]
  },
  {
   "cell_type": "markdown",
   "id": "89d96f92-a7d0-4723-9914-5ba0808d9759",
   "metadata": {},
   "source": [
    "## Question 8 : What do you understand about skewness in data\n",
    "---"
   ]
  },
  {
   "cell_type": "markdown",
   "id": "d472cc42-4a16-43fd-bc4e-de376ac92cfc",
   "metadata": {},
   "source": [
    "Skewness is a statistical measure that describes the asymmetry or lack of symmetry in a probability distribution or dataset. It quantifies the extent to which the values in the dataset deviate from a symmetrical distribution. Skewness provides insight into the shape and characteristics of the data distribution.\n",
    "\n",
    "There are three types of skewness:\n",
    "\n",
    "Positive Skewness: Also known as right-skewness, it occurs when the tail of the distribution extends more towards the higher values. In other words, the majority of the data points are concentrated on the left side of the distribution, and the right tail is longer. The mean is typically greater than the median in positively skewed data.\n",
    "\n",
    "Negative Skewness: Also known as left-skewness, it occurs when the tail of the distribution extends more towards the lower values. In this case, the majority of the data points are concentrated on the right side of the distribution, and the left tail is longer. The mean is typically less than the median in negatively skewed data.\n",
    "\n",
    "Zero Skewness: It indicates a perfectly symmetrical distribution where the data is evenly distributed on both sides of the mean. The mean and median are equal in a symmetric distribution.\n",
    "\n",
    "Skewness is an important measure as it provides insights into the underlying characteristics of the data distribution. It helps identify departures from normality and influences the interpretation of statistical analyses and modeling. Skewness can affect the validity of certain statistical assumptions, such as those based on normality, and can impact the choice of appropriate statistical methods or transformations for data analysis."
   ]
  },
  {
   "cell_type": "markdown",
   "id": "c6493649-be52-440e-a97d-122c89bfde05",
   "metadata": {},
   "source": [
    "## Question 9 : If a data is right skewed then what will be the position of median with respect to mean?\n",
    "---"
   ]
  },
  {
   "cell_type": "markdown",
   "id": "b9bffb88-335b-4921-a38f-ea49323c7d48",
   "metadata": {},
   "source": [
    "If a data distribution is right-skewed, meaning it has a positive skewness, the position of the median will be generally less than the mean.\n",
    "\n",
    "In a right-skewed distribution, the majority of the data points are concentrated towards the lower end, while the tail of the distribution extends towards the higher values. This results in a longer right tail. As a consequence, the mean is influenced by the extreme values in the right tail, pulling it towards the higher values. On the other hand, the median is less affected by the extreme values and represents the middle value of the dataset when arranged in ascending order.\n",
    "\n",
    "Since the right-skewed distribution has a longer right tail, the extreme values on the higher end will pull the mean towards the right. As a result, the mean will be greater than the median. The median, being less sensitive to extreme values, will be relatively closer to the center of the distribution and positioned below the mean.\n",
    "\n",
    "To summarize:\n",
    "\n",
    "In a right-skewed distribution, the mean is generally greater than the median.\n",
    "The median is less influenced by extreme values and represents the middle value of the dataset.\n",
    "The mean is affected by extreme values and tends to be pulled towards the higher values in a right-skewed distribution.\n",
    "\n",
    "\n",
    "\n",
    "\n",
    "\n"
   ]
  },
  {
   "cell_type": "markdown",
   "id": "c2b13153-1321-4104-8517-82572a3d27c5",
   "metadata": {},
   "source": [
    "## Question 10 : Explain the difference between covariance and correlation. How are these measures used in statistical analysis?\n",
    "---"
   ]
  },
  {
   "cell_type": "markdown",
   "id": "27049bb5-98ba-4954-a726-b74a35aefb62",
   "metadata": {},
   "source": [
    "Covariance and correlation are both measures used to quantify the relationship between two variables in statistical analysis. While they are related, they have distinct differences in terms of interpretation and scale.\n",
    "\n",
    "Covariance:\n",
    "\n",
    "Covariance measures the extent to which two variables vary together. It indicates the direction (positive or negative) and magnitude of the linear relationship between the variables.\n",
    "Covariance can take any value, positive or negative, depending on the nature of the relationship between the variables. A positive covariance indicates a direct or positive relationship, meaning that as one variable increases, the other tends to increase as well. A negative covariance indicates an inverse or negative relationship, meaning that as one variable increases, the other tends to decrease.\n",
    "The scale of covariance is not standardized, which means the value can vary widely based on the units of measurement of the variables.\n",
    "Covariance is affected by the scale of the variables. Therefore, comparing covariance values between different datasets or variables can be misleading.\n",
    "\n",
    "\n",
    "Correlation:\n",
    "\n",
    "Correlation is a standardized measure that quantifies the strength and direction of the linear relationship between two variables. It is the covariance divided by the product of the standard deviations of the variables.\n",
    "Correlation ranges from -1 to +1. A correlation of +1 indicates a perfect positive linear relationship, a correlation of -1 indicates a perfect negative linear relationship, and a correlation of 0 indicates no linear relationship between the variables.\n",
    "Unlike covariance, correlation is not affected by the scale of the variables. It provides a standardized measure that allows for meaningful comparison between different datasets or variables.\n",
    "Correlation is widely used to assess the strength and direction of relationships between variables, identify patterns, and make predictions. It is commonly used in fields such as finance, social sciences, and data analysis.\n",
    "In summary, covariance measures the extent and direction of the linear relationship between two variables, while correlation provides a standardized measure of the strength and direction of the linear relationship. Correlation is preferred in statistical analysis due to its standardized scale, allowing for meaningful comparisons and interpretations.\n",
    "\n",
    "\n",
    "\n",
    "\n",
    "\n"
   ]
  },
  {
   "cell_type": "markdown",
   "id": "9d34c24c-a5f6-46b4-873e-cc1d06c9eba4",
   "metadata": {},
   "source": [
    "## Question 11 : What is the formula for calculating the sample mean? Provide an example calculation for a dataset.\n",
    "---"
   ]
  },
  {
   "cell_type": "markdown",
   "id": "a81850ee-9a03-4573-876b-dbeb76dbe64f",
   "metadata": {},
   "source": [
    "Sample Mean = (Sum of all data points) / (Number of data points)"
   ]
  },
  {
   "cell_type": "code",
   "execution_count": 12,
   "id": "ee8ad502-dd49-4038-baf6-800aac26fc31",
   "metadata": {},
   "outputs": [],
   "source": [
    "dataset = [85, 90, 78, 92, 88]"
   ]
  },
  {
   "cell_type": "code",
   "execution_count": 13,
   "id": "0fdbaca5-eb8d-4b0e-a80a-69a331bbd6e8",
   "metadata": {},
   "outputs": [],
   "source": [
    "sample_mean=sum(dataset)/len(dataset)"
   ]
  },
  {
   "cell_type": "code",
   "execution_count": 14,
   "id": "2faae9b4-f1d1-4ad5-b944-0a2758b95a65",
   "metadata": {},
   "outputs": [
    {
     "data": {
      "text/plain": [
       "86.6"
      ]
     },
     "execution_count": 14,
     "metadata": {},
     "output_type": "execute_result"
    }
   ],
   "source": [
    "sample_mean"
   ]
  },
  {
   "cell_type": "markdown",
   "id": "8bd3cd3c-e98b-4273-a85d-c9a09038f961",
   "metadata": {},
   "source": [
    "## Question 12 : For a normal distribution data what is the relationship between its measure of central tendency\n",
    "---"
   ]
  },
  {
   "cell_type": "markdown",
   "id": "6121873b-8747-40f7-9178-8c5b4f54f724",
   "metadata": {},
   "source": [
    "For a normal distribution, the three measures of central tendency - mean, median, and mode - are all equal.\n",
    "\n",
    "In a perfectly symmetrical normal distribution, the data is evenly distributed around the central value, resulting in a symmetric bell-shaped curve. In this case, the mean, median, and mode all coincide at the center of the distribution.\n",
    "\n",
    "The mean represents the arithmetic average of all the data points and is commonly used as a measure of central tendency. The median represents the middle value when the data points are arranged in ascending or descending order. In a symmetrical distribution, the middle value will be the same as the mean. The mode represents the value that occurs most frequently in the data. In a normal distribution, where there is no distinct peak or multiple modes, the mode will also be equal to the mean and median.\n",
    "\n",
    "Therefore, in a normal distribution, the mean, median, and mode are all equal, and they represent the central tendency of the data. This property holds true for a perfectly normal distribution, but in real-world scenarios, slight deviations from perfect symmetry can lead to minor differences between the measures of central tendency."
   ]
  },
  {
   "cell_type": "code",
   "execution_count": null,
   "id": "28227972-8f32-460e-a065-6c57ae729f4d",
   "metadata": {},
   "outputs": [],
   "source": []
  }
 ],
 "metadata": {
  "kernelspec": {
   "display_name": "Python 3 (ipykernel)",
   "language": "python",
   "name": "python3"
  },
  "language_info": {
   "codemirror_mode": {
    "name": "ipython",
    "version": 3
   },
   "file_extension": ".py",
   "mimetype": "text/x-python",
   "name": "python",
   "nbconvert_exporter": "python",
   "pygments_lexer": "ipython3",
   "version": "3.10.8"
  }
 },
 "nbformat": 4,
 "nbformat_minor": 5
}
