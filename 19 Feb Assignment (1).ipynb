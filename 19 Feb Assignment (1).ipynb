{
 "cells": [
  {
   "cell_type": "markdown",
   "id": "155f7fe1-a903-4ef1-b6aa-e068b00ca221",
   "metadata": {},
   "source": [
    "## Question 1: What is Flask Framework? What are the advantages of Flask Framework?\n",
    "---"
   ]
  },
  {
   "cell_type": "markdown",
   "id": "85f23c30-29cc-4c6a-9acf-7d1544ad1c43",
   "metadata": {},
   "source": [
    "Flask is a micro web framework for Python that allows you to build web applications quickly and easily. It is lightweight and flexible, and it comes with a minimal set of tools and libraries, which allows developers to have greater control over their applications.\n",
    "\n",
    "Some advantages of Flask are:\n",
    "\n",
    "Simplicity: Flask has a simple and intuitive API, which makes it easy to learn and use, even for beginners.\n",
    "\n",
    "Flexibility: Flask is a lightweight framework, which means that it doesn't impose any specific coding patterns or project structures. This allows developers to build applications according to their specific needs and preferences.\n",
    "\n",
    "Extensibility: Flask has a modular design, which means that developers can add or remove features as needed, using a variety of third-party extensions.\n",
    "\n",
    "Scalability: Flask is designed to scale well, allowing developers to easily add more functionality as their applications grow.\n",
    "\n",
    "Testing: Flask makes it easy to write and run tests for your application, which is essential for ensuring its quality and reliability.\n",
    "\n",
    "Compatibility: Flask works with a wide range of Python versions and web servers, which makes it a versatile and reliable choice for web development.\n",
    "\n",
    "Overall, Flask is a great choice for building small to medium-sized web applications, due to its simplicity, flexibility, and extensibility.\n",
    "\n",
    "\n",
    "\n",
    "\n",
    "\n",
    "\n"
   ]
  },
  {
   "cell_type": "markdown",
   "id": "4ca18040-c361-43c8-946c-75d4fe8f2915",
   "metadata": {},
   "source": [
    "## Question 2: Create a simple Flask application to display ‘Hello World!!’. Attach the screenshot of the output in Jupyter Notebook.\n",
    "---"
   ]
  },
  {
   "cell_type": "code",
   "execution_count": 1,
   "id": "2ced69c4-0ac0-4ecf-a109-4471bb9676b4",
   "metadata": {},
   "outputs": [
    {
     "name": "stdout",
     "output_type": "stream",
     "text": [
      "Collecting flask\n",
      "  Downloading Flask-2.2.3-py3-none-any.whl (101 kB)\n",
      "\u001b[2K     \u001b[90m━━━━━━━━━━━━━━━━━━━━━━━━━━━━━━━━━━━━━━━\u001b[0m \u001b[32m101.8/101.8 kB\u001b[0m \u001b[31m4.4 MB/s\u001b[0m eta \u001b[36m0:00:00\u001b[0m\n",
      "\u001b[?25hCollecting Werkzeug>=2.2.2\n",
      "  Downloading Werkzeug-2.2.3-py3-none-any.whl (233 kB)\n",
      "\u001b[2K     \u001b[90m━━━━━━━━━━━━━━━━━━━━━━━━━━━━━━━━━━━━━━\u001b[0m \u001b[32m233.6/233.6 kB\u001b[0m \u001b[31m30.1 MB/s\u001b[0m eta \u001b[36m0:00:00\u001b[0m\n",
      "\u001b[?25hRequirement already satisfied: click>=8.0 in /opt/conda/lib/python3.10/site-packages (from flask) (8.1.3)\n",
      "Requirement already satisfied: Jinja2>=3.0 in /opt/conda/lib/python3.10/site-packages (from flask) (3.1.2)\n",
      "Collecting itsdangerous>=2.0\n",
      "  Downloading itsdangerous-2.1.2-py3-none-any.whl (15 kB)\n",
      "Requirement already satisfied: MarkupSafe>=2.0 in /opt/conda/lib/python3.10/site-packages (from Jinja2>=3.0->flask) (2.1.1)\n",
      "Installing collected packages: Werkzeug, itsdangerous, flask\n",
      "Successfully installed Werkzeug-2.2.3 flask-2.2.3 itsdangerous-2.1.2\n",
      "Note: you may need to restart the kernel to use updated packages.\n"
     ]
    }
   ],
   "source": [
    "%pip install flask"
   ]
  },
  {
   "cell_type": "code",
   "execution_count": null,
   "id": "9300d912-ab5a-46a2-af96-0b27cc775d1c",
   "metadata": {},
   "outputs": [
    {
     "name": "stdout",
     "output_type": "stream",
     "text": [
      " * Serving Flask app '__main__'\n",
      " * Debug mode: off\n"
     ]
    },
    {
     "name": "stderr",
     "output_type": "stream",
     "text": [
      "WARNING: This is a development server. Do not use it in a production deployment. Use a production WSGI server instead.\n",
      " * Running on all addresses (0.0.0.0)\n",
      " * Running on http://127.0.0.1:5000\n",
      " * Running on http://172.18.0.14:5000\n",
      "Press CTRL+C to quit\n",
      "172.18.0.2 - - [24/Apr/2023 05:16:34] \"GET / HTTP/1.1\" 200 -\n",
      "172.18.0.2 - - [24/Apr/2023 05:16:35] \"GET /favicon.ico HTTP/1.1\" 404 -\n"
     ]
    }
   ],
   "source": [
    "from flask import Flask\n",
    "\n",
    "app=Flask(__name__)\n",
    "\n",
    "\n",
    "@app.route(\"/\")\n",
    "def hello_world():\n",
    "    return \"Hello World!!\"\n",
    "\n",
    "\n",
    "if __name__==\"__main__\":\n",
    "    app.run(host=\"0.0.0.0\")"
   ]
  },
  {
   "cell_type": "code",
   "execution_count": null,
   "id": "620217dc-e7df-4a6f-b4c8-9409261b2395",
   "metadata": {},
   "outputs": [],
   "source": [
    "from IPython.display import Image\n",
    "Image(\"abc.png\")"
   ]
  },
  {
   "cell_type": "code",
   "execution_count": null,
   "id": "259a0ba2-8892-4145-bd60-a1a88355f33f",
   "metadata": {},
   "outputs": [],
   "source": []
  }
 ],
 "metadata": {
  "kernelspec": {
   "display_name": "Python 3 (ipykernel)",
   "language": "python",
   "name": "python3"
  },
  "language_info": {
   "codemirror_mode": {
    "name": "ipython",
    "version": 3
   },
   "file_extension": ".py",
   "mimetype": "text/x-python",
   "name": "python",
   "nbconvert_exporter": "python",
   "pygments_lexer": "ipython3",
   "version": "3.10.8"
  }
 },
 "nbformat": 4,
 "nbformat_minor": 5
}
