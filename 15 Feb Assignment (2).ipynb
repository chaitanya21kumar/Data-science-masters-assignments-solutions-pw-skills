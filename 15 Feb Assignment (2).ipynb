{
 "cells": [
  {
   "cell_type": "markdown",
   "id": "775c3d30-d060-440d-a467-e3bf42308071",
   "metadata": {},
   "source": [
    "## Question 1: What is multiprocessing in python? Why is it useful?\n",
    "---"
   ]
  },
  {
   "cell_type": "markdown",
   "id": "ccac1fac-1b76-46db-9720-c4b6d91341dd",
   "metadata": {},
   "source": [
    "Multiprocessing in Python is a technique that allows a program to take advantage of multiple CPUs or cores in order to perform tasks more efficiently. Multiprocessing involves running multiple processes in parallel, each of which can execute different parts of a program simultaneously.\n",
    "\n",
    "Multiprocessing is useful in several ways:\n",
    "\n",
    "Improved performance: Multiprocessing can improve the performance of a program by allowing it to take advantage of multiple CPUs or cores. By dividing a task into multiple processes, a program can execute multiple tasks simultaneously, reducing overall execution time.\n",
    "\n",
    "Resource sharing: Multiprocessing allows multiple processes to share the same resources, such as memory and I/O devices. This can reduce the amount of memory required by a program and allow it to more efficiently use system resources.\n",
    "\n",
    "Isolation: Each process in a multiprocessing program runs in its own memory space, which means that they are isolated from each other. This can help prevent bugs and other issues that can occur when multiple threads access shared resources simultaneously.\n",
    "\n",
    "Simplified program design: Multiprocessing can simplify the design of a program by allowing it to be divided into smaller, more manageable parts. This can make it easier to write, test, and debug the program.\n",
    "\n",
    "Overall, multiprocessing is a powerful tool that can help improve the performance and efficiency of Python programs, especially those that involve computationally-intensive tasks or that need to process large amounts of data.\n"
   ]
  },
  {
   "cell_type": "markdown",
   "id": "8e87e0f9-40ed-4b8f-9346-45d8f8ba6dde",
   "metadata": {},
   "source": [
    "## Question 2: What are the differences between multiprocessing and multithreading?\n",
    "---"
   ]
  },
  {
   "cell_type": "markdown",
   "id": "4613347c-eaf6-4503-89a1-25a918dafc22",
   "metadata": {},
   "source": [
    "Multiprocessing and multithreading are both techniques for achieving concurrency in a program, but they have some key differences:\n",
    "\n",
    "Execution: In multiprocessing, multiple processes run in parallel, each with its own memory space and set of system resources, while in multithreading, multiple threads run concurrently within a single process, sharing the same memory space and resources.\n",
    "\n",
    "Performance: Multiprocessing can take advantage of multiple CPUs or cores to perform tasks more quickly, while multithreading can improve performance by allowing a program to perform other tasks while waiting for I/O operations to complete.\n",
    "\n",
    "Complexity: Multiprocessing is typically more complex than multithreading, as it requires communication between processes and may involve more overhead in terms of memory and resource usage.\n",
    "\n",
    "Resource sharing: In multiprocessing, processes typically share resources through inter-process communication mechanisms such as pipes, queues, and shared memory, while in multithreading, threads share resources such as memory and I/O devices directly.\n",
    "\n",
    "Overall, multiprocessing is well-suited for tasks that require high performance and can benefit from parallelization, while multithreading is better for tasks that involve I/O operations or require a simpler design. Both techniques have their own advantages and tradeoffs, and the choice between them depends on the specific needs of the program."
   ]
  },
  {
   "cell_type": "markdown",
   "id": "35d1a20b-8d7e-4d93-b0ea-99cccbbaba4b",
   "metadata": {},
   "source": [
    "## Question 3: Write a python code to create a process using the multiprocessing module.\n",
    "---"
   ]
  },
  {
   "cell_type": "code",
   "execution_count": 2,
   "id": "4fcbf6e5-e82a-418d-9b82-f235d92e5699",
   "metadata": {},
   "outputs": [
    {
     "name": "stdout",
     "output_type": "stream",
     "text": [
      "[1, 4, 9, 16, 25, 36, 49, 64, 81, 100]\n"
     ]
    }
   ],
   "source": [
    "# example 1 \n",
    "\n",
    "import multiprocessing\n",
    "\n",
    "def square(index , value ):\n",
    "    value[index]=value[index]**2\n",
    "    \n",
    "\n",
    "    \n",
    "if __name__==\"__main__\":\n",
    "    arr=multiprocessing.Array(\"i\",[1,2,3,4,5,6,7,8,9,10])\n",
    "    process=[]\n",
    "    for i in range(10):\n",
    "        m=multiprocessing.Process(target=square , args=(i , arr))\n",
    "        process.append(m)\n",
    "        m.start()\n",
    "        \n",
    "    for m in process :\n",
    "        m.join()\n",
    "    print(list(arr))"
   ]
  },
  {
   "cell_type": "code",
   "execution_count": 4,
   "id": "ba923a27-042d-483d-981f-a9989714cee6",
   "metadata": {},
   "outputs": [
    {
     "name": "stdout",
     "output_type": "stream",
     "text": [
      "never give up\n"
     ]
    }
   ],
   "source": [
    "# example 2 \n",
    "\n",
    "import multiprocessing\n",
    "\n",
    "def function():\n",
    "    print(\"never give up\")\n",
    "    \n",
    "    \n",
    "if __name__==\"__main__\":\n",
    "    m=multiprocessing.Process(target=function)\n",
    "    m.start()\n",
    "    m.join()"
   ]
  },
  {
   "cell_type": "markdown",
   "id": "c6d445af-fc8e-4cd4-b033-650cfc7e607a",
   "metadata": {},
   "source": [
    "## Question 4: What is a multiprocessing pool in python? Why is it used?\n",
    "---"
   ]
  },
  {
   "cell_type": "markdown",
   "id": "b02a215b-cb5e-44ee-9eef-89f9a0c9728a",
   "metadata": {},
   "source": [
    "A multiprocessing pool in Python is a way of creating a pool of worker processes that can execute tasks in parallel. The multiprocessing module provides the Pool class, which allows a programmer to create a fixed-size pool of worker processes that can be used to parallelize tasks.\n",
    "\n",
    "The Pool class provides a number of methods for submitting tasks to the pool, such as apply(), map(), and imap(). These methods allow a programmer to submit tasks to the pool, which are then executed in parallel by the worker processes.\n",
    "\n",
    "The Pool class is useful for applications that need to perform many independent tasks in parallel, such as data processing or scientific computing. By dividing the work among multiple processes, the overall time required to complete the tasks can be reduced, resulting in improved performance and faster results.\n",
    "\n",
    "In addition, the Pool class automatically handles the creation and management of worker processes, as well as communication between the processes, making it a convenient and easy-to-use tool for parallel programming in Python."
   ]
  },
  {
   "cell_type": "code",
   "execution_count": 6,
   "id": "c2057f2e-9126-47af-9c9f-90ac2371f5f3",
   "metadata": {},
   "outputs": [
    {
     "name": "stdout",
     "output_type": "stream",
     "text": [
      "[1, 4, 9, 16, 25, 36, 49, 64, 81, 100]\n"
     ]
    }
   ],
   "source": [
    "# example \n",
    "\n",
    "def square(n):\n",
    "    return n**2\n",
    "\n",
    "if __name__==\"__main__\":\n",
    "    with multiprocessing.Pool(processes=10) as pool :\n",
    "        out = pool.map(square , [1,2,3,4,5,6,7,8,9,10])\n",
    "        print(out)"
   ]
  },
  {
   "cell_type": "markdown",
   "id": "e6dbbde0-4512-4838-805e-08d397f8b088",
   "metadata": {},
   "source": [
    "## Question 5: How can we create a pool of worker processes in python using multiprocessing module?\n",
    "---"
   ]
  },
  {
   "cell_type": "markdown",
   "id": "06714798-deae-46ff-aa43-888f67438c42",
   "metadata": {},
   "source": [
    "To create a pool of worker processes in Python using the multiprocessing module, you can use the Pool class. Here's an example:"
   ]
  },
  {
   "cell_type": "code",
   "execution_count": 9,
   "id": "d60aaf85-0fd8-45da-af4b-4ae0ddd86fe6",
   "metadata": {},
   "outputs": [
    {
     "name": "stdout",
     "output_type": "stream",
     "text": [
      "[10, 20, 30, 40, 50, 60, 70, 80, 90, 100]\n"
     ]
    }
   ],
   "source": [
    "import multiprocessing\n",
    "\n",
    "\n",
    "def worker(x):\n",
    "    return x*10\n",
    "\n",
    "\n",
    "\n",
    "if __name__==\"__main__\":\n",
    "    m=multiprocessing.Pool(processes=5)\n",
    "    x=[1,2,3,4,5,6,7,8,9,10]\n",
    "    z=m.map(worker,x)\n",
    "    print(z)\n",
    "    m.close()\n",
    "    m.join()"
   ]
  },
  {
   "cell_type": "markdown",
   "id": "89abd93f-b573-4299-a423-49cae571935d",
   "metadata": {},
   "source": [
    "## Question 6 : Write a python program to create 4 processes, each process should print a different number using the multiprocessing module in python.\n",
    "---"
   ]
  },
  {
   "cell_type": "code",
   "execution_count": 18,
   "id": "579dd4e3-bd4b-4115-96ae-3e7c27ea1b76",
   "metadata": {},
   "outputs": [
    {
     "name": "stdout",
     "output_type": "stream",
     "text": [
      "0 1 2 3 "
     ]
    }
   ],
   "source": [
    "import multiprocessing\n",
    "\n",
    "def function(x):\n",
    "    print(x , end=\" \")\n",
    "    \n",
    "    \n",
    "    \n",
    "if __name__==\"__main__\":\n",
    "    process=[]\n",
    "    for i in range(4):\n",
    "        m=multiprocessing.Process(target=function , args=(i,))\n",
    "        process.append(m)\n",
    "        m.start()\n",
    "    for m in process :\n",
    "        m.join()"
   ]
  },
  {
   "cell_type": "code",
   "execution_count": null,
   "id": "3f4bd9bd-2222-4a84-8fab-19ac96fbe35f",
   "metadata": {},
   "outputs": [],
   "source": []
  }
 ],
 "metadata": {
  "kernelspec": {
   "display_name": "Python 3 (ipykernel)",
   "language": "python",
   "name": "python3"
  },
  "language_info": {
   "codemirror_mode": {
    "name": "ipython",
    "version": 3
   },
   "file_extension": ".py",
   "mimetype": "text/x-python",
   "name": "python",
   "nbconvert_exporter": "python",
   "pygments_lexer": "ipython3",
   "version": "3.10.8"
  }
 },
 "nbformat": 4,
 "nbformat_minor": 5
}
