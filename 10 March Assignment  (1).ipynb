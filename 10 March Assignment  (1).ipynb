{
 "cells": [
  {
   "cell_type": "markdown",
   "id": "aa5a326a-3c76-4b98-9d7e-2b72d6c3f7ec",
   "metadata": {},
   "source": [
    "## Question 1: What is Estimation Statistics? Explain point estimate and interval estimate\n",
    "---"
   ]
  },
  {
   "cell_type": "markdown",
   "id": "d0c57183-8bea-4d5e-a05f-eb56c456b80b",
   "metadata": {},
   "source": [
    "\n",
    "\n",
    "Estimation statistics is a data analysis framework that uses a combination of effect sizes, confidence intervals, precision planning, and meta-analysis to plan experiments, analyze data and interpret results.\n",
    "\n",
    "A point estimate is a single value that is used to estimate an unknown population parameter. For example, if we want to estimate the mean height of all adults in the United States, we could take a sample of adults and calculate the sample mean. This sample mean would be a point estimate of the population mean.\n",
    "\n",
    "An interval estimate is a range of values that is likely to contain the true population parameter. For example, if we want to estimate the mean height of all adults in the United States with 95% confidence, we could use a statistical software to calculate a confidence interval. The confidence interval would be a range of values that is likely to contain the true population mean with 95% confidence.\n",
    "\n",
    "Point estimates and interval estimates are both important tools for data analysis. Point estimates can be used to make decisions about the population, such as whether or not to reject the null hypothesis in a hypothesis test. Interval estimates can be used to quantify the uncertainty of a point estimate.\n",
    "\n",
    "Here are some examples of how estimation statistics can be used in practice:\n",
    "\n",
    "A company wants to estimate the average amount of time its customers spend on its website. The company could take a sample of customers and ask them how long they spent on the website. The sample mean would be a point estimate of the population mean.\n",
    "A researcher wants to estimate the effect of a new drug on blood pressure. The researcher could take a group of patients and randomly assign them to either the new drug or a placebo. The researcher could then measure the blood pressure of the patients in each group. The difference in blood pressure between the two groups would be an effect size. The researcher could also calculate a confidence interval for the effect size.\n",
    "A government agency wants to estimate the number of people in the country who are unemployed. The agency could conduct a survey of a random sample of people in the country. The percentage of people in the sample who are unemployed would be a point estimate of the unemployment rate. The agency could also calculate a confidence interval for the unemployment rate.\n",
    "Estimation statistics is a powerful tool that can be used to make informed decisions about populations."
   ]
  },
  {
   "cell_type": "markdown",
   "id": "e2334484-20a7-4538-bfd6-2e300fe79eb8",
   "metadata": {},
   "source": [
    "## Question 2 : Write a Python function to estimate the population mean using a sample mean and standard deviation.\n",
    "---"
   ]
  },
  {
   "cell_type": "code",
   "execution_count": 1,
   "id": "19292053-2990-4e0d-80f6-70faf944e556",
   "metadata": {},
   "outputs": [],
   "source": [
    "def estimate_population_mean(sample_mean , sample_standard_deviation , sample_size):\n",
    "    standard_error_of_the_mean = sample_standard_deviation / math.sqrt(sample_size)\n",
    "    estimated_population_mean=sample_mean +standard_error_of_the_mean\n",
    "    return estimate_population_mean\n",
    "    "
   ]
  },
  {
   "cell_type": "markdown",
   "id": "fbd0e488-e892-4549-97a8-0ccbb46ee5e3",
   "metadata": {},
   "source": [
    "## Question 3 : What is Hypothesis testing? Why is it used? State the importance of Hypothesis testing\n",
    "---"
   ]
  },
  {
   "cell_type": "markdown",
   "id": "4bd894e2-2983-4b92-a4e9-fa1ecffb9fe5",
   "metadata": {},
   "source": [
    "Hypothesis testing is a statistical method used to determine whether there is a significant difference between two or more groups. It is used to make inferences about a population based on data from a sample.\n",
    "\n",
    "There are two types of hypothesis tests:\n",
    "\n",
    "One-tailed tests: These tests are used to determine whether there is a significant difference between two groups in one direction. For example, you might want to test whether the mean height of men is significantly greater than the mean height of women.\n",
    "Two-tailed tests: These tests are used to determine whether there is a significant difference between two groups in either direction. For example, you might want to test whether the mean height of men is significantly different from the mean height of women.\n",
    "Hypothesis testing is used in a variety of fields, including:\n",
    "\n",
    "Psychology: Psychologists use hypothesis testing to test the effectiveness of new treatments. For example, a psychologist might want to test whether a new drug is effective in treating depression.\n",
    "Business: Businesses use hypothesis testing to make decisions about marketing campaigns and product development. For example, a business might want to test whether a new advertising campaign is effective in increasing sales.\n",
    "Government: Governments use hypothesis testing to make decisions about public policy. For example, a government might want to test whether a new law is effective in reducing crime.\n",
    "Hypothesis testing is an important tool for making inferences about populations based on data from samples. It is used in a variety of fields, and it can be used to make decisions about a wide range of issues.\n",
    "\n",
    "Here are some of the importance of hypothesis testing:\n",
    "\n",
    "Hypothesis testing can help us to make decisions about the world around us.\n",
    "Hypothesis testing can help us to understand the relationship between variables.\n",
    "Hypothesis testing can help us to identify patterns in data.\n",
    "Hypothesis testing can help us to make predictions about the future.\n",
    "Hypothesis testing is a powerful tool that can be used to answer a wide range of questions. It is a valuable tool for researchers, businesses, and governments."
   ]
  },
  {
   "cell_type": "markdown",
   "id": "749fe62d-a93f-41dc-9a04-dab64fef969f",
   "metadata": {},
   "source": [
    "## Question 4 : Create a hypothesis that states whether the average weight of male college students is greater than the average weight of female college students.\n",
    "---"
   ]
  },
  {
   "cell_type": "markdown",
   "id": "96e314c6-4bdf-4ef3-8561-3a0856b93bdf",
   "metadata": {},
   "source": [
    "Null Hypothesis: The average weight of male college students is equal to the average weight of female college students.\n",
    "\n",
    "Alternative Hypothesis: The average weight of male college students is greater than the average weight of female college students.\n",
    "\n",
    "This hypothesis is a one-tailed test, because we are only interested in whether the average weight of male college students is greater than the average weight of female college students. We are not interested in whether the average weight of male college students is less than or equal to the average weight of female college students.\n",
    "\n",
    "To test this hypothesis, we would need to collect data on the weights of a sample of male and female college students. We would then use a statistical test to determine whether the difference in the sample means is statistically significant. If the difference is statistically significant, then we would reject the null hypothesis and conclude that the average weight of male college students is greater than the average weight of female college students."
   ]
  },
  {
   "cell_type": "markdown",
   "id": "24f7c307-5f43-4929-aefb-8fa9a21d62ba",
   "metadata": {},
   "source": [
    "## Question 5 : Write a Python script to conduct a hypothesis test on the difference between two population means, given a sample from each population.\n",
    "---"
   ]
  },
  {
   "cell_type": "code",
   "execution_count": 1,
   "id": "69130727-8352-40fc-9fb8-2a14c32ea4a6",
   "metadata": {},
   "outputs": [],
   "source": [
    "import scipy.stats as stats \n",
    "\n",
    "def hypothesis_test(sample1,sample2,alpha):\n",
    "    t_stat , p_value=stats.ttest_ind(sample1,sample2,equal_var=False)\n",
    "    \n",
    "    if p_value<alpha :\n",
    "        conclusion='reject the null hypothesis'\n",
    "        \n",
    "    else :\n",
    "        conclusion='fail to reject the null hypothesis'\n",
    "        \n",
    "    return t_stat , p_value , conclusion\n",
    "    "
   ]
  },
  {
   "cell_type": "markdown",
   "id": "01e25879-c5b1-4096-ade9-a099a35633a9",
   "metadata": {},
   "source": [
    "## Question 6 : What is a null and alternative hypothesis? Give some examples\n",
    "---"
   ]
  },
  {
   "cell_type": "markdown",
   "id": "a18a4010-b8bd-42f0-8f35-413d58b9815d",
   "metadata": {},
   "source": [
    "In statistical hypothesis testing, the null hypothesis (H0) and alternative hypothesis (Ha or H1) are two competing statements about a population or data that are subjected to testing.\n",
    "\n",
    "The null hypothesis (H0) is the statement of no effect, no difference, or no relationship between variables. It represents the default assumption or the status quo that is initially assumed to be true. The goal of hypothesis testing is to gather evidence to either support or reject the null hypothesis.\n",
    "\n",
    "Examples of null hypotheses:\n",
    "\n",
    "The mean height of male students is equal to the mean height of female students.\n",
    "There is no difference in customer satisfaction between Product A and Product B.\n",
    "The new teaching method has no effect on student performance.\n",
    "The proportion of defective items produced by Machine 1 is equal to the proportion produced by Machine 2.\n",
    "There is no relationship between age and income level.\n",
    "The alternative hypothesis (Ha or H1) is the statement that contradicts the null hypothesis. It represents the researcher's claim or the alternative explanation that is considered if there is evidence to reject the null hypothesis. The alternative hypothesis can take different forms, depending on the research question and the hypothesis being tested (e.g., one-sided or two-sided).\n",
    "\n",
    "Examples of alternative hypotheses:\n",
    "\n",
    "The mean height of male students is different from the mean height of female students.\n",
    "Product A has a higher customer satisfaction rating than Product B.\n",
    "The new teaching method improves student performance.\n",
    "The proportion of defective items produced by Machine 1 is different from the proportion produced by Machine 2.\n",
    "There is a positive relationship between age and income level.\n",
    "In hypothesis testing, the goal is to gather sufficient evidence from the data to either reject the null hypothesis in favor of the alternative hypothesis or fail to reject the null hypothesis. The decision is based on the analysis of the data, typically using statistical tests and criteria such as p-values and significance levels."
   ]
  },
  {
   "cell_type": "markdown",
   "id": "08387600-93ea-4516-b509-9d480ec22a31",
   "metadata": {},
   "source": [
    "## Question 7 : Write down the steps involved in hypothesis testing.\n",
    "---"
   ]
  },
  {
   "cell_type": "markdown",
   "id": "fae84e25-ef13-4aca-b479-b6678a977400",
   "metadata": {},
   "source": [
    "Hypothesis testing involves several steps to systematically evaluate a research hypothesis. Here are the general steps involved in hypothesis testing:\n",
    "\n",
    "1. State the null and alternative hypotheses: Clearly define the null hypothesis (H0) and the alternative hypothesis (Ha or H1) based on the research question or problem being investigated.\n",
    "\n",
    "2. Set the significance level: Determine the desired level of significance (alpha) for the hypothesis test. Commonly used values are 0.05 (5%) or 0.01 (1%), representing the threshold for rejecting the null hypothesis.\n",
    "\n",
    "3. Select the appropriate test statistic: Choose a statistical test that is suitable for the hypothesis being tested and the type of data being analyzed. The choice of test depends on factors such as the research question, the nature of the data, and the assumptions associated with the test.\n",
    "\n",
    "4. Collect and analyze the data: Gather the relevant data according to the experimental design or sampling plan. Perform the necessary calculations or statistical analysis to obtain the test statistic and associated p-value.\n",
    "\n",
    "5. Compare the p-value with the significance level: Evaluate the statistical results by comparing the p-value (probability value) obtained from the analysis with the predetermined significance level. If the p-value is less than or equal to the significance level, reject the null hypothesis. If the p-value is greater than the significance level, fail to reject the null hypothesis.\n",
    "\n",
    "6. Interpret the results and draw conclusions: Based on the decision from step 5, interpret the results in the context of the research question. If the null hypothesis is rejected, provide evidence in support of the alternative hypothesis. If the null hypothesis is not rejected, conclude that there is insufficient evidence to support the alternative hypothesis.\n",
    "\n",
    "7. Consider limitations and further analysis: Discuss any limitations or assumptions associated with the hypothesis test. Consider the implications of the findings and whether further analysis or investigation is required.\n",
    "\n",
    "These steps provide a structured framework for conducting hypothesis tests, enabling researchers to make informed decisions based on statistical evidence."
   ]
  },
  {
   "cell_type": "markdown",
   "id": "9a5e32f8-26dc-41fd-9e88-aabd890825d1",
   "metadata": {},
   "source": [
    "## Question 8 : Define p-value and explain its significance in hypothesis testing.\n",
    "---"
   ]
  },
  {
   "cell_type": "markdown",
   "id": "0e83e50b-1647-4b7b-859f-8358c68e43d2",
   "metadata": {},
   "source": [
    "The p-value is a statistical measure that quantifies the evidence against the null hypothesis in hypothesis testing. It represents the probability of observing a test statistic as extreme as, or more extreme than, the one obtained from the sample data, assuming the null hypothesis is true.\n",
    "\n",
    "The significance of the p-value in hypothesis testing lies in its role in decision-making. It helps determine whether to reject or fail to reject the null hypothesis. The general guideline is to compare the p-value with a predetermined significance level (alpha).\n",
    "\n",
    "If the p-value is less than or equal to the significance level (p ≤ alpha), it provides strong evidence against the null hypothesis. In this case, the null hypothesis is rejected in favor of the alternative hypothesis, indicating that the observed data is unlikely to occur by chance alone under the assumption that the null hypothesis is true.\n",
    "\n",
    "If the p-value is greater than the significance level (p > alpha), it suggests that the observed data is reasonably likely to occur even if the null hypothesis is true. Therefore, there is insufficient evidence to reject the null hypothesis, and the alternative hypothesis is not supported.\n",
    "\n",
    "In practical terms, a smaller p-value indicates stronger evidence against the null hypothesis. The choice of the significance level (alpha) helps determine the threshold for considering the evidence as statistically significant. Commonly used significance levels are 0.05 (5%) or 0.01 (1%). However, it's important to note that the p-value itself does not provide information about the effect size or the practical significance of the findings; it solely indicates the strength of the evidence against the null hypothesis."
   ]
  },
  {
   "cell_type": "markdown",
   "id": "4f4ce568-c63c-4d72-b348-af39669f9e28",
   "metadata": {},
   "source": [
    "## Question 9 : Generate a Student's t-distribution plot using Python's matplotlib library, with the degrees of freedom parameter set to 10.\n",
    "---"
   ]
  },
  {
   "cell_type": "code",
   "execution_count": 3,
   "id": "9d600434-31d2-4337-977c-f086d5452e95",
   "metadata": {},
   "outputs": [
    {
     "data": {
      "image/png": "[encoded data removed]",
      "text/plain": [
       "<Figure size 640x480 with 1 Axes>"
      ]
     },
     "metadata": {},
     "output_type": "display_data"
    }
   ],
   "source": [
    "import numpy as np \n",
    "import matplotlib.pyplot as plt \n",
    "from scipy.stats import t \n",
    "\n",
    "df=10\n",
    "\n",
    "x=np.linspace(-4,4,1000)\n",
    "\n",
    "pdf=t.pdf(x,df)\n",
    "plt.plot(x,pdf,label='t-distribution df=(10)')\n",
    "plt.xlabel('x')\n",
    "plt.ylabel('probability density')\n",
    "plt.title(\" student's t -distribution df=(10)\")\n",
    "plt.legend()\n",
    "plt.grid(True)\n",
    "plt.show()"
   ]
  },
  {
   "cell_type": "markdown",
   "id": "5b6adfc9-8b64-4309-b8bc-15339d547658",
   "metadata": {},
   "source": [
    "## Question 10 : Write a Python program to calculate the two-sample t-test for independent samples, given two random samples of equal size and a null hypothesis that the population means are equal\n",
    "---"
   ]
  },
  {
   "cell_type": "code",
   "execution_count": 5,
   "id": "9608531b-7726-4adb-ad3f-6dfb11c5b71b",
   "metadata": {},
   "outputs": [
    {
     "name": "stdout",
     "output_type": "stream",
     "text": [
      "t-statistic: -5.0\n",
      "p-value: 0.001052825793366539\n"
     ]
    }
   ],
   "source": [
    "import numpy as np \n",
    "from scipy import stats\n",
    "\n",
    "sample1=np.array([1,2,3,4,5])\n",
    "sample2=np.array([6,7,8,9,10])\n",
    "\n",
    "t_statistic , p_value=stats.ttest_ind(sample1,sample2)\n",
    "\n",
    "print('t-statistic:',t_statistic)\n",
    "print('p-value:',p_value)"
   ]
  },
  {
   "cell_type": "markdown",
   "id": "7e242cef-9fb5-47ab-ac4b-ff17bf51a789",
   "metadata": {},
   "source": [
    "## Question 11 : What is Student’s t distribution? When to use the t-Distribution\n",
    "---"
   ]
  },
  {
   "cell_type": "markdown",
   "id": "ca9f3dbe-5044-4741-8417-bd4546cdda4c",
   "metadata": {},
   "source": [
    "Student's t-distribution, often referred to as the t-distribution, is a probability distribution that arises when estimating the mean of a normally distributed population using a small sample size. It is similar to the standard normal distribution but has heavier tails, allowing for greater variability in the estimates.\n",
    "\n",
    "The t-distribution is used in situations where the population standard deviation is unknown and must be estimated from the sample. It is commonly employed when working with small sample sizes (typically less than 30) or when the population follows a normal distribution, but the sample size is relatively small.\n",
    "\n",
    "The t-distribution is particularly useful for hypothesis testing and constructing confidence intervals for the population mean. It accounts for the increased uncertainty associated with estimating the population mean from a small sample and provides more accurate results compared to using the standard normal distribution. As the sample size increases, the t-distribution approaches the standard normal distribution, and using the t-distribution becomes less necessary."
   ]
  },
  {
   "cell_type": "markdown",
   "id": "a3be7107-8dce-47a6-b770-ca17a7a7e0d5",
   "metadata": {},
   "source": [
    "## Question 12 : What is t-statistic? State the formula for t-statistic.\n",
    "---"
   ]
  },
  {
   "cell_type": "markdown",
   "id": "5f23d4ce-c8aa-4adf-9a02-7db68c96418a",
   "metadata": {},
   "source": [
    "The t-statistic is a measure used in hypothesis testing to assess the difference between a sample mean and a hypothesized population mean, taking into account the variability within the sample. It quantifies how many standard errors the sample mean is away from the hypothesized mean.\n",
    "\n",
    "The formula for the t-statistic is:\n",
    "\n",
    "t = (sample mean - hypothesized mean) / (sample standard deviation / √sample size)\n",
    "\n",
    "In this formula:\n",
    "\n",
    "\"sample mean\" represents the mean of the sample data.\n",
    "\"hypothesized mean\" is the mean value assumed under the null hypothesis.\n",
    "\"sample standard deviation\" refers to the standard deviation of the sample data.\n",
    "\"sample size\" represents the number of observations in the sample.\n",
    "The t-statistic provides a standardized measure of the difference between the sample mean and the hypothesized mean, considering the inherent variability within the sample. By comparing the calculated t-statistic to critical values from the t-distribution or using p-values, we can make conclusions about the significance of the observed difference and determine if it is statistically significant.\n",
    "\n",
    "\n",
    "\n",
    "\n",
    "\n"
   ]
  },
  {
   "cell_type": "markdown",
   "id": "cd969d88-214b-44d4-b955-e2dc23da2f80",
   "metadata": {},
   "source": [
    "## Question 13 : A coffee shop owner wants to estimate the average daily revenue for their shop. They take a random sample of 50 days and find the sample mean revenue to be `$500` with a standard deviation of `$50`. Estimate the population mean revenue with a 95% confidence interval\n",
    "---"
   ]
  },
  {
   "cell_type": "code",
   "execution_count": 1,
   "id": "e60b2787-8268-4069-9b03-1ddde634e967",
   "metadata": {},
   "outputs": [
    {
     "name": "stdout",
     "output_type": "stream",
     "text": [
      "The 95% confidence interval for the population mean revenue is : ($485.79,$514.21)\n"
     ]
    }
   ],
   "source": [
    "import math\n",
    "import scipy.stats as stats \n",
    "\n",
    "sample_mean=500\n",
    "sample_std=50\n",
    "sample_size=50\n",
    "\n",
    "alpha=0.05\n",
    "dof=sample_size-1\n",
    "t_value=stats.t.ppf(1-alpha/2,dof)\n",
    "\n",
    "std_error=sample_std/math.sqrt(sample_size)\n",
    "margin_of_error=t_value*std_error\n",
    "\n",
    "lower_bound=sample_mean-margin_of_error\n",
    "upper_bound=sample_mean+margin_of_error\n",
    "\n",
    "print(f\"The 95% confidence interval for the population mean revenue is : (${lower_bound:.2f},${upper_bound:.2f})\")"
   ]
  },
  {
   "cell_type": "markdown",
   "id": "7e0f54a2-a5ab-4a93-ad28-ecee1aa233bb",
   "metadata": {},
   "source": [
    "## Question 14 : A researcher hypothesizes that a new drug will decrease blood pressure by 10 mmHg. They conduct a clinical trial with 100 patients and find that the sample mean decrease in blood pressure is 8 mmHg with a standard deviation of 3 mmHg. Test the hypothesis with a significance level of 0.05.\n",
    "---"
   ]
  },
  {
   "cell_type": "markdown",
   "id": "ee7a4833-996f-40d2-9e4f-106a7b3bde8a",
   "metadata": {},
   "source": [
    "To test the hypothesis that the new drug decreases blood pressure by 10 mmHg, we can perform a one-sample t-test. Here are the steps to test the hypothesis with a significance level of 0.05:\n",
    "\n",
    "Step 1: State the null hypothesis (H₀) and the alternative hypothesis (H₁):\n",
    "\n",
    "Null hypothesis (H₀): The new drug does not decrease blood pressure by 10 mmHg (μ = 10).\n",
    "Alternative hypothesis (H₁): The new drug decreases blood pressure by 10 mmHg (μ < 10).\n",
    "Step 2: Set the significance level (α) to 0.05.\n",
    "\n",
    "Step 3: Calculate the test statistic (t-statistic) using the formula:\n",
    "t = (sample mean - hypothesized mean) / (sample standard deviation / √sample size)\n",
    "\n",
    "Given that the sample mean decrease in blood pressure is 8 mmHg, the hypothesized mean is 10 mmHg, the sample standard deviation is 3 mmHg, and the sample size is 100, we can calculate the t-statistic as:\n",
    "t = (8 - 10) / (3 / √100) = -2 / 0.3 ≈ -6.667\n",
    "\n",
    "Step 4: Determine the critical value based on the significance level and degrees of freedom. Since this is a one-tailed test (alternative hypothesis is μ < 10), and we have 100 - 1 = 99 degrees of freedom, the critical value can be found using a t-table or statistical software. For a significance level of 0.05, the critical value is approximately -1.660.\n",
    "\n",
    "Step 5: Compare the t-statistic with the critical value. If the t-statistic is less than the critical value, we reject the null hypothesis; otherwise, we fail to reject the null hypothesis.\n",
    "\n",
    "In this case, -6.667 is less than -1.660, so we reject the null hypothesis.\n",
    "\n",
    "Step 6: Interpret the results. Since we reject the null hypothesis, we have evidence to suggest that the new drug decreases blood pressure by more than 10 mmHg, supporting the researcher's hypothesis.\n",
    "\n",
    "Therefore, based on the given sample data, we can conclude that the new drug has a statistically significant effect on reducing blood pressure."
   ]
  },
  {
   "cell_type": "markdown",
   "id": "9cb74ffe-e33e-44c3-ae29-b18019febb05",
   "metadata": {},
   "source": [
    "## Question 15 : An electronics company produces a certain type of product with a mean weight of 5 pounds and a standard deviation of 0.5 pounds. A random sample of 25 products is taken, and the sample mean weight is found to be 4.8 pounds. Test the hypothesis that the true mean weight of the products is less than 5 pounds with a significance level of 0.01.\n",
    "---"
   ]
  },
  {
   "cell_type": "markdown",
   "id": "cd355e80-7135-4178-b40b-2b779d67d1c0",
   "metadata": {},
   "source": [
    "To test the hypothesis that the true mean weight of the products is less than 5 pounds, we can perform a one-sample t-test. Here are the steps to test the hypothesis with a significance level of 0.01:\n",
    "\n",
    "Step 1: State the null hypothesis (H₀) and the alternative hypothesis (H₁):\n",
    "\n",
    "Null hypothesis (H₀): The true mean weight of the products is 5 pounds (μ = 5).\n",
    "Alternative hypothesis (H₁): The true mean weight of the products is less than 5 pounds (μ < 5).\n",
    "Step 2: Set the significance level (α) to 0.01.\n",
    "\n",
    "Step 3: Calculate the test statistic (t-statistic) using the formula:\n",
    "t = (sample mean - hypothesized mean) / (sample standard deviation / √sample size)\n",
    "\n",
    "Given that the sample mean weight is 4.8 pounds, the hypothesized mean is 5 pounds, the sample standard deviation is 0.5 pounds, and the sample size is 25, we can calculate the t-statistic as:\n",
    "t = (4.8 - 5) / (0.5 / √25) = -0.2 / 0.1 = -2\n",
    "\n",
    "Step 4: Determine the critical value based on the significance level and degrees of freedom. Since this is a one-tailed test (alternative hypothesis is μ < 5), and we have 25 - 1 = 24 degrees of freedom, the critical value can be found using a t-table or statistical software. For a significance level of 0.01, the critical value is approximately -2.492.\n",
    "\n",
    "Step 5: Compare the t-statistic with the critical value. If the t-statistic is less than the critical value, we reject the null hypothesis; otherwise, we fail to reject the null hypothesis.\n",
    "\n",
    "In this case, -2 is greater than -2.492, so we fail to reject the null hypothesis.\n",
    "\n",
    "Step 6: Interpret the results. Since we fail to reject the null hypothesis, we do not have sufficient evidence to suggest that the true mean weight of the products is less than 5 pounds.\n",
    "\n",
    "Therefore, based on the given sample data, we cannot conclude that the mean weight of the products is significantly less than 5 pounds at a 0.01 significance level."
   ]
  },
  {
   "cell_type": "markdown",
   "id": "89464b2b-3a1a-4991-8c98-e31044374978",
   "metadata": {},
   "source": [
    "## Question 16 : Two groups of students are given different study materials to prepare for a test. The first group (n1 = 30) has a mean score of 80 with a standard deviation of 10, and the second group (n2 = 40) has a mean score of 75 with a standard deviation of 8. Test the hypothesis that the population means for the two groups are equal with a significance level of 0.01.\n",
    "---"
   ]
  },
  {
   "cell_type": "markdown",
   "id": "ade3226f-900e-4270-8ff0-4646ad1efa57",
   "metadata": {},
   "source": [
    "\n",
    "To test the hypothesis that the population means for the two groups are equal, we can perform a two-sample t-test. Here are the steps to test the hypothesis with a significance level of 0.01:\n",
    "\n",
    "Step 1: State the null hypothesis (H₀) and the alternative hypothesis (H₁):\n",
    "\n",
    "Null hypothesis (H₀): The population means for the two groups are equal (μ1 = μ2).\n",
    "Alternative hypothesis (H₁): The population means for the two groups are not equal (μ1 ≠ μ2).\n",
    "Step 2: Set the significance level (α) to 0.01.\n",
    "\n",
    "Step 3: Calculate the test statistic (t-statistic) using the formula:\n",
    "t = (sample mean 1 - sample mean 2) / √[(sample variance 1 / sample size 1) + (sample variance 2 / sample size 2)]\n",
    "\n",
    "Given that the sample mean score for the first group is 80 with a standard deviation of 10 and a sample size of 30, and the sample mean score for the second group is 75 with a standard deviation of 8 and a sample size of 40, we can calculate the t-statistic as:\n",
    "t = (80 - 75) / √[(10^2 / 30) + (8^2 / 40)] ≈ 2.382\n",
    "\n",
    "Step 4: Determine the critical value based on the significance level and degrees of freedom. Since this is a two-tailed test (alternative hypothesis is μ1 ≠ μ2), and we have (30-1) + (40-1) = 68 degrees of freedom, the critical value can be found using a t-table or statistical software. For a significance level of 0.01, the critical value is approximately ±2.615.\n",
    "\n",
    "Step 5: Compare the absolute value of the t-statistic with the critical value. If the absolute value of the t-statistic is greater than the critical value, we reject the null hypothesis; otherwise, we fail to reject the null hypothesis.\n",
    "\n",
    "In this case, the absolute value of 2.382 is less than 2.615, so we fail to reject the null hypothesis.\n",
    "\n",
    "Step 6: Interpret the results. Since we fail to reject the null hypothesis, we do not have sufficient evidence to suggest that the population means for the two groups are significantly different.\n",
    "\n",
    "Therefore, based on the given sample data, we cannot conclude that there is a significant difference in the population means for the two groups at a 0.01 significance level."
   ]
  },
  {
   "cell_type": "markdown",
   "id": "a9ca6666-a3bd-40e7-aa1f-ed34b41bcb67",
   "metadata": {},
   "source": [
    "## Question 17 : A marketing company wants to estimate the average number of ads watched by viewers during a TV program. They take a random sample of 50 viewers and find that the sample mean is 4 with a standard deviation of 1.5. Estimate the population mean with a 99% confidence interval.\n",
    "---"
   ]
  },
  {
   "cell_type": "markdown",
   "id": "b9258a6a-3751-4bf5-ac32-747952cf09f3",
   "metadata": {},
   "source": [
    "To estimate the population mean with a 99% confidence interval, we can use the following steps:\n",
    "\n",
    "Step 1: Determine the sample size, sample mean, and sample standard deviation. In this case, the sample size is 50, the sample mean is 4, and the sample standard deviation is 1.5.\n",
    "\n",
    "Step 2: Set the confidence level. In this case, the confidence level is 99%, which corresponds to a significance level of 0.01.\n",
    "\n",
    "Step 3: Determine the critical value. Since the sample size is large (n > 30), we can use the Z-distribution. For a 99% confidence level and a two-tailed test, the critical value is approximately ±2.576.\n",
    "\n",
    "Step 4: Calculate the margin of error. The margin of error can be calculated as: margin of error = critical value * (sample standard deviation / √sample size). Using the given values, the margin of error is approximately 2.576 * (1.5 / √50) ≈ 0.547.\n",
    "\n",
    "Step 5: Calculate the confidence interval. The confidence interval is calculated as: confidence interval = (sample mean - margin of error, sample mean + margin of error). Using the given values, the confidence interval is approximately (4 - 0.547, 4 + 0.547) ≈ (3.453, 4.547).\n",
    "\n",
    "Step 6: Interpret the results. With 99% confidence, we can estimate that the population mean number of ads watched by viewers during a TV program is within the range of 3.453 to 4.547.\n",
    "\n",
    "Therefore, based on the given sample data, we estimate the population mean number of ads watched to be between 3.453 and 4.547 with a 99% confidence level."
   ]
  },
  {
   "cell_type": "code",
   "execution_count": null,
   "id": "d380d200-133d-440c-9345-d349c928d1a5",
   "metadata": {},
   "outputs": [],
   "source": []
  }
 ],
 "metadata": {
  "kernelspec": {
   "display_name": "Python 3 (ipykernel)",
   "language": "python",
   "name": "python3"
  },
  "language_info": {
   "codemirror_mode": {
    "name": "ipython",
    "version": 3
   },
   "file_extension": ".py",
   "mimetype": "text/x-python",
   "name": "python",
   "nbconvert_exporter": "python",
   "pygments_lexer": "ipython3",
   "version": "3.10.8"
  }
 },
 "nbformat": 4,
 "nbformat_minor": 5
}
